{
 "cells": [
  {
   "cell_type": "markdown",
   "metadata": {
    "colab_type": "text",
    "id": "view-in-github"
   },
   "source": [
    "<a href=\"https://colab.research.google.com/github/albanda/CE888/blob/master/lab8/rnn.ipynb\" target=\"_parent\"><img src=\"https://colab.research.google.com/assets/colab-badge.svg\" alt=\"Open In Colab\"/></a>"
   ]
  },
  {
   "cell_type": "markdown",
   "metadata": {
    "id": "gS1IIAS-bcb-"
   },
   "source": [
    "# Learning from Sequences: Timeseries and Text\n",
    "\n",
    "Created by Dr Ana Matran-Fernandez (amatra@essex.ac.uk) for CE888 (Data Science and Decision Making)\n",
    "\n",
    "This notebook accompanies lecture 8 and illustrates recurrent neural networks on an example of a timeseries (predicting tomorrow's temperature) and a classification problem on the IMDB text dataset."
   ]
  },
  {
   "cell_type": "markdown",
   "metadata": {
    "id": "0myiQp20cxRK"
   },
   "source": [
    "# Imports"
   ]
  },
  {
   "cell_type": "code",
   "execution_count": 1,
   "metadata": {
    "id": "1J0bYBQ7_a0L"
   },
   "outputs": [],
   "source": [
    "# imports\n",
    "import numpy as np\n",
    "import matplotlib.pyplot as plt\n",
    "import os\n",
    "import pandas as pd\n",
    "from sklearn.model_selection import train_test_split"
   ]
  },
  {
   "cell_type": "code",
   "execution_count": 2,
   "metadata": {
    "id": "U0NPDv7X_a0M"
   },
   "outputs": [],
   "source": [
    "# tensorflow imports\n",
    "from tensorflow import keras\n",
    "from keras import layers, models\n",
    "from keras.callbacks import EarlyStopping, ModelCheckpoint"
   ]
  },
  {
   "cell_type": "markdown",
   "metadata": {
    "id": "xaiw_VZjbtSH"
   },
   "source": [
    "# Timeseries"
   ]
  },
  {
   "cell_type": "code",
   "execution_count": 3,
   "metadata": {
    "colab": {
     "base_uri": "https://localhost:8080/",
     "height": 424
    },
    "id": "iA_R1Q-K_a0N",
    "outputId": "94162d66-4d0a-4f95-9cd8-3e94c4623704"
   },
   "outputs": [
    {
     "data": {
      "text/html": [
       "<div>\n",
       "<style scoped>\n",
       "    .dataframe tbody tr th:only-of-type {\n",
       "        vertical-align: middle;\n",
       "    }\n",
       "\n",
       "    .dataframe tbody tr th {\n",
       "        vertical-align: top;\n",
       "    }\n",
       "\n",
       "    .dataframe thead th {\n",
       "        text-align: right;\n",
       "    }\n",
       "</style>\n",
       "<table border=\"1\" class=\"dataframe\">\n",
       "  <thead>\n",
       "    <tr style=\"text-align: right;\">\n",
       "      <th></th>\n",
       "      <th>date</th>\n",
       "      <th>radiation_avg</th>\n",
       "      <th>precip</th>\n",
       "      <th>wind_avg</th>\n",
       "      <th>wind_max</th>\n",
       "      <th>temp_avg</th>\n",
       "      <th>humidity_avg</th>\n",
       "    </tr>\n",
       "  </thead>\n",
       "  <tbody>\n",
       "    <tr>\n",
       "      <th>0</th>\n",
       "      <td>14/05/2014 00:00</td>\n",
       "      <td>159</td>\n",
       "      <td>0.0</td>\n",
       "      <td>1.4</td>\n",
       "      <td>3.3</td>\n",
       "      <td>14.27</td>\n",
       "      <td>64.95</td>\n",
       "    </tr>\n",
       "    <tr>\n",
       "      <th>1</th>\n",
       "      <td>15/05/2014 00:00</td>\n",
       "      <td>280</td>\n",
       "      <td>0.0</td>\n",
       "      <td>0.6</td>\n",
       "      <td>2.3</td>\n",
       "      <td>13.51</td>\n",
       "      <td>72.91</td>\n",
       "    </tr>\n",
       "    <tr>\n",
       "      <th>2</th>\n",
       "      <td>16/05/2014 00:00</td>\n",
       "      <td>186</td>\n",
       "      <td>3.4</td>\n",
       "      <td>0.8</td>\n",
       "      <td>2.7</td>\n",
       "      <td>15.65</td>\n",
       "      <td>74.69</td>\n",
       "    </tr>\n",
       "    <tr>\n",
       "      <th>3</th>\n",
       "      <td>17/05/2014 00:00</td>\n",
       "      <td>221</td>\n",
       "      <td>0.0</td>\n",
       "      <td>1.0</td>\n",
       "      <td>3.3</td>\n",
       "      <td>17.46</td>\n",
       "      <td>71.42</td>\n",
       "    </tr>\n",
       "    <tr>\n",
       "      <th>4</th>\n",
       "      <td>18/05/2014 00:00</td>\n",
       "      <td>255</td>\n",
       "      <td>0.0</td>\n",
       "      <td>2.1</td>\n",
       "      <td>5.5</td>\n",
       "      <td>16.85</td>\n",
       "      <td>74.45</td>\n",
       "    </tr>\n",
       "    <tr>\n",
       "      <th>...</th>\n",
       "      <td>...</td>\n",
       "      <td>...</td>\n",
       "      <td>...</td>\n",
       "      <td>...</td>\n",
       "      <td>...</td>\n",
       "      <td>...</td>\n",
       "      <td>...</td>\n",
       "    </tr>\n",
       "    <tr>\n",
       "      <th>2551</th>\n",
       "      <td>17/05/2021 00:00</td>\n",
       "      <td>196</td>\n",
       "      <td>1.4</td>\n",
       "      <td>2.2</td>\n",
       "      <td>5.5</td>\n",
       "      <td>10.51</td>\n",
       "      <td>99.86</td>\n",
       "    </tr>\n",
       "    <tr>\n",
       "      <th>2552</th>\n",
       "      <td>17/05/2021 00:00</td>\n",
       "      <td>173</td>\n",
       "      <td>2.8</td>\n",
       "      <td>1.8</td>\n",
       "      <td>5.5</td>\n",
       "      <td>10.80</td>\n",
       "      <td>99.86</td>\n",
       "    </tr>\n",
       "    <tr>\n",
       "      <th>2553</th>\n",
       "      <td>18/05/2021 00:00</td>\n",
       "      <td>311</td>\n",
       "      <td>0.0</td>\n",
       "      <td>1.4</td>\n",
       "      <td>5.0</td>\n",
       "      <td>10.29</td>\n",
       "      <td>92.94</td>\n",
       "    </tr>\n",
       "    <tr>\n",
       "      <th>2554</th>\n",
       "      <td>19/05/2021 00:00</td>\n",
       "      <td>232</td>\n",
       "      <td>6.6</td>\n",
       "      <td>1.8</td>\n",
       "      <td>5.5</td>\n",
       "      <td>11.39</td>\n",
       "      <td>90.32</td>\n",
       "    </tr>\n",
       "    <tr>\n",
       "      <th>2555</th>\n",
       "      <td>20/05/2021 00:00</td>\n",
       "      <td>44</td>\n",
       "      <td>0.0</td>\n",
       "      <td>0.5</td>\n",
       "      <td>2.7</td>\n",
       "      <td>6.35</td>\n",
       "      <td>99.86</td>\n",
       "    </tr>\n",
       "  </tbody>\n",
       "</table>\n",
       "<p>2556 rows × 7 columns</p>\n",
       "</div>"
      ],
      "text/plain": [
       "                  date  radiation_avg  precip  wind_avg  wind_max  temp_avg  \\\n",
       "0     14/05/2014 00:00            159     0.0       1.4       3.3     14.27   \n",
       "1     15/05/2014 00:00            280     0.0       0.6       2.3     13.51   \n",
       "2     16/05/2014 00:00            186     3.4       0.8       2.7     15.65   \n",
       "3     17/05/2014 00:00            221     0.0       1.0       3.3     17.46   \n",
       "4     18/05/2014 00:00            255     0.0       2.1       5.5     16.85   \n",
       "...                ...            ...     ...       ...       ...       ...   \n",
       "2551  17/05/2021 00:00            196     1.4       2.2       5.5     10.51   \n",
       "2552  17/05/2021 00:00            173     2.8       1.8       5.5     10.80   \n",
       "2553  18/05/2021 00:00            311     0.0       1.4       5.0     10.29   \n",
       "2554  19/05/2021 00:00            232     6.6       1.8       5.5     11.39   \n",
       "2555  20/05/2021 00:00             44     0.0       0.5       2.7      6.35   \n",
       "\n",
       "      humidity_avg  \n",
       "0            64.95  \n",
       "1            72.91  \n",
       "2            74.69  \n",
       "3            71.42  \n",
       "4            74.45  \n",
       "...            ...  \n",
       "2551         99.86  \n",
       "2552         99.86  \n",
       "2553         92.94  \n",
       "2554         90.32  \n",
       "2555         99.86  \n",
       "\n",
       "[2556 rows x 7 columns]"
      ]
     },
     "execution_count": 3,
     "metadata": {},
     "output_type": "execute_result"
    }
   ],
   "source": [
    "df = pd.read_csv('weather.csv')\n",
    "df.drop(['temp_max', 'temp_min'], axis=1, inplace=True)\n",
    "df"
   ]
  },
  {
   "cell_type": "code",
   "execution_count": 4,
   "metadata": {
    "colab": {
     "base_uri": "https://localhost:8080/",
     "height": 279
    },
    "id": "nzsytNAh_a0N",
    "outputId": "fd5d1d32-d135-4784-ed4e-87897d4a5104"
   },
   "outputs": [
    {
     "data": {
      "image/png": "[encoded data removed]",
      "text/plain": [
       "<Figure size 432x288 with 1 Axes>"
      ]
     },
     "metadata": {
      "needs_background": "light"
     },
     "output_type": "display_data"
    }
   ],
   "source": [
    "plt.plot(range(len(df)), df['temp_avg'])\n",
    "plt.xlabel('Temporal range')\n",
    "plt.ylabel('Average temperature (C) (7 years)')\n",
    "plt.savefig('temperature_over_time.pdf', bbox_inches='tight')"
   ]
  },
  {
   "cell_type": "code",
   "execution_count": 5,
   "metadata": {
    "colab": {
     "base_uri": "https://localhost:8080/",
     "height": 279
    },
    "id": "ysbM2n99_a0N",
    "outputId": "e83eb333-eb41-43a6-aed4-d467dd53a0ed"
   },
   "outputs": [
    {
     "data": {
      "image/png": "[encoded data removed]",
      "text/plain": [
       "<Figure size 432x288 with 1 Axes>"
      ]
     },
     "metadata": {
      "needs_background": "light"
     },
     "output_type": "display_data"
    }
   ],
   "source": [
    "# Look at the first 2 years\n",
    "length = 2*365\n",
    "plt.plot(range(length), df['temp_avg'][:length])\n",
    "plt.xlabel('Temporal range')\n",
    "plt.ylabel('Average temperature (C) (2 years)')\n",
    "plt.savefig('temperature_over_time_2y.pdf', bbox_inches='tight')"
   ]
  },
  {
   "cell_type": "markdown",
   "metadata": {
    "id": "ikyqi2m7_a0O"
   },
   "source": [
    "We have clear periodicity every year. In the previous plot we saw 7 cycles (7 years). Here we see 2.\n",
    "\n",
    "Always look for periodicity in your timeseries. There will always be daily and yearly cycles. Check these patterns.\n",
    "\n",
    "Another issue with timeseries is dividing the dataset into train/validation/test sets. We definitely cannot shuffle the data, and we need to be very careful with data leakage (using data from the future)."
   ]
  },
  {
   "cell_type": "markdown",
   "metadata": {
    "id": "1fxuW2ne_a0P"
   },
   "source": [
    "## Data prep\n",
    "\n",
    "We'll try to predict the average temperature of tomorrow based on data from the past.\n",
    "\n",
    "To avoid data leakage, we're going to use a simple approach: use the first 50% of data for training, the next 30% for validation, and the final 20% for testing.\n"
   ]
  },
  {
   "cell_type": "code",
   "execution_count": 6,
   "metadata": {
    "colab": {
     "base_uri": "https://localhost:8080/"
    },
    "id": "vofGsYen_a0P",
    "outputId": "d9c3740f-5cc9-410c-db5b-0e5de780084f"
   },
   "outputs": [
    {
     "name": "stdout",
     "output_type": "stream",
     "text": [
      "Samples for training: 1278; validation: 766; test: 512\n"
     ]
    }
   ],
   "source": [
    "n_tr, n_val = int(0.5*len(df)), int(0.3*len(df))\n",
    "n_te = len(df) - n_tr - n_val\n",
    "print('Samples for training: %d; validation: %d; test: %d' % (n_tr, n_val, n_te))"
   ]
  },
  {
   "cell_type": "code",
   "execution_count": 7,
   "metadata": {
    "colab": {
     "base_uri": "https://localhost:8080/"
    },
    "id": "lsMDT2Jq_a0P",
    "outputId": "40daccd3-273c-4909-818c-09a40b155929"
   },
   "outputs": [
    {
     "name": "stdout",
     "output_type": "stream",
     "text": [
      "(2556, 6)\n"
     ]
    }
   ],
   "source": [
    "# Get the data from the dataframe (dropping date column)\n",
    "data = df.iloc[:, 1:].values\n",
    "print(data.shape)\n",
    "assert data.shape[0] == len(df)\n",
    "assert data.shape[1] == len(df.columns)-1, \"Are you sure you're dropping the date?\"\n",
    "# We need to normalise our time series. Calculate mean and std from TRAINING DATA ONLY. \n",
    "# We'll use it on the validation and test sets.\n",
    "mean_tr = data[:n_tr, :].mean(axis=0)\n",
    "std_tr = data[:n_tr, :].std(axis=0)\n",
    "data = (data - mean_tr) / std_tr\n",
    "\n",
    "\n",
    "y = df['temp_avg'].values.reshape(-1, 1)\n",
    "\n",
    "# index of the column that contains the avg_temp\n",
    "y_idx = 4"
   ]
  },
  {
   "cell_type": "code",
   "execution_count": 8,
   "metadata": {
    "colab": {
     "base_uri": "https://localhost:8080/"
    },
    "id": "1VJAcdfICLi1",
    "outputId": "41b330ca-bfad-49b3-ccae-fb22c8411336"
   },
   "outputs": [
    {
     "data": {
      "text/plain": [
       "array([14.27, 13.51, 15.65, 17.46, 16.85, 18.26, 17.35, 15.55, 14.52,\n",
       "       13.93, 11.48, 13.63, 12.81, 12.4 , 13.67, 14.15, 13.22, 12.21,\n",
       "       15.53, 14.52])"
      ]
     },
     "execution_count": 8,
     "metadata": {},
     "output_type": "execute_result"
    }
   ],
   "source": [
    "data[:20, y_idx] * std_tr[y_idx] + mean_tr[y_idx]"
   ]
  },
  {
   "cell_type": "code",
   "execution_count": 9,
   "metadata": {
    "colab": {
     "base_uri": "https://localhost:8080/"
    },
    "id": "xN-YJyEeCUv9",
    "outputId": "9cf43612-c0f3-4864-f113-a9a5531e0904"
   },
   "outputs": [
    {
     "data": {
      "text/plain": [
       "array([[18.26],\n",
       "       [17.35],\n",
       "       [15.55],\n",
       "       [14.52],\n",
       "       [13.93],\n",
       "       [11.48],\n",
       "       [13.63],\n",
       "       [12.81],\n",
       "       [12.4 ],\n",
       "       [13.67],\n",
       "       [14.15],\n",
       "       [13.22],\n",
       "       [12.21],\n",
       "       [15.53],\n",
       "       [14.52],\n",
       "       [15.35],\n",
       "       [12.29],\n",
       "       [13.88],\n",
       "       [15.13],\n",
       "       [17.29]])"
      ]
     },
     "execution_count": 9,
     "metadata": {},
     "output_type": "execute_result"
    }
   ],
   "source": [
    "y[5:25]"
   ]
  },
  {
   "cell_type": "code",
   "execution_count": 10,
   "metadata": {
    "id": "K_JGeiAs_a0Q"
   },
   "outputs": [],
   "source": [
    "# We'll use a Dataset from keras to pass our data\n",
    "sampling_rate = 1  # we keep all data points\n",
    "sequence_length = 14  # 2 weeks to predict tomorrow's temperature\n",
    "delay = sampling_rate * sequence_length  # the target is the day after the end of the sequence\n",
    "batch_size = 16"
   ]
  },
  {
   "cell_type": "code",
   "execution_count": 11,
   "metadata": {
    "colab": {
     "base_uri": "https://localhost:8080/"
    },
    "id": "cRDGWNYl_a0Q",
    "outputId": "126b8150-1e10-4f4d-afd1-0666658a6796"
   },
   "outputs": [
    {
     "name": "stdout",
     "output_type": "stream",
     "text": [
      "X shape: (16, 14, 6)\n",
      "target shape: (16, 1)\n"
     ]
    }
   ],
   "source": [
    "train_dataset = keras.utils.timeseries_dataset_from_array(\n",
    "    data[:-delay],\n",
    "    targets=y[delay:],\n",
    "    sampling_rate=sampling_rate, sequence_length=sequence_length,\n",
    "    batch_size=batch_size,\n",
    "    start_index=0, end_index=n_tr  # first 50% for training\n",
    "    )\n",
    "\n",
    "val_dataset = keras.utils.timeseries_dataset_from_array(\n",
    "    data[:-delay],\n",
    "    targets=y[delay:],\n",
    "    sampling_rate=sampling_rate, sequence_length=sequence_length,\n",
    "    batch_size=batch_size,\n",
    "    start_index=n_tr, end_index=n_tr+n_val  # 50%-80% for validation\n",
    "    )\n",
    "\n",
    "test_dataset = keras.utils.timeseries_dataset_from_array(\n",
    "    data[:-delay],\n",
    "    targets=y[delay:],\n",
    "    sampling_rate=sampling_rate, sequence_length=sequence_length,\n",
    "    batch_size=batch_size,\n",
    "    start_index=n_tr+n_val  # last 20% for test\n",
    "    )\n",
    "\n",
    "for X, target in train_dataset:\n",
    "    print(\"X shape:\", X.shape)\n",
    "    print(\"target shape:\", target.shape)\n",
    "    #print(X[:, :, y_idx] * std_tr[y_idx] + mean_tr[y_idx])\n",
    "    #print(target)\n",
    "    break  # so we only print once"
   ]
  },
  {
   "cell_type": "code",
   "execution_count": 12,
   "metadata": {
    "id": "u_v2rAW_W4kQ"
   },
   "outputs": [],
   "source": [
    "# Function to plot history with neural networks\n",
    "def plot_hist_regression(hist, y):\n",
    "  n_ = len(hist.history['mae'])\n",
    "  plt.plot(range(1, n_+1), np.asarray(hist.history['mae']), 'bo', label='MAE on training set')\n",
    "  plt.plot(range(1, n_+1), np.asarray(hist.history['val_mae']), 'b', label='MAE on validation set')\n",
    "  plt.legend()\n",
    "  plt.xlabel(\"Epoch\") \n",
    "  plt.ylabel(\"MAE (degrees)\")\n",
    "  plt.axhline(y=y)\n",
    "  plt.show()\n"
   ]
  },
  {
   "cell_type": "markdown",
   "metadata": {
    "id": "WlhjIvZR_a0Q"
   },
   "source": [
    "## Establishing a baseline\n"
   ]
  },
  {
   "cell_type": "markdown",
   "metadata": {
    "id": "rloJamyvWPWj"
   },
   "source": [
    "### Common sense, no ML baseline\n",
    "\n",
    "- Sanity check\n",
    "- To establish whether ML methods are actually any good\n",
    "\n",
    "Tomorrow's temperature is likely to be close to today's: let's predict that the temperature 24 hours from now will be equal to the temperature right now.\n",
    "\n",
    "We'll use the MAE as metric"
   ]
  },
  {
   "cell_type": "code",
   "execution_count": 13,
   "metadata": {
    "colab": {
     "base_uri": "https://localhost:8080/"
    },
    "id": "MUY5acIf_a0Q",
    "outputId": "dcdc5e72-a117-43ca-c7f5-7c31437c7444"
   },
   "outputs": [
    {
     "name": "stdout",
     "output_type": "stream",
     "text": [
      "MAE on train set = 2.56 (degrees Celsius)\n",
      "MAE on validation set = 2.69 (degrees Celsius)\n",
      "MAE on test set = 2.85 (degrees Celsius)\n"
     ]
    }
   ],
   "source": [
    "def naive_method(dataset, mean, std):\n",
    "    error = 0\n",
    "    samples = 0\n",
    "    count = 0\n",
    "    for X, target in dataset:\n",
    "        pred = X[:, -1, y_idx] * std + mean  # predict last available temperature and un-standardise\n",
    "        #print(X.shape, target.shape, pred.shape)  # [batch_size, sequence_length, n_feats]\n",
    "        #print(X[:, -1, y_idx] * std + mean, target)\n",
    "        error += np.sum(np.abs(pred - target))\n",
    "        samples += X.shape[0]  # batch_size\n",
    "        count += 1\n",
    "    return error / samples / batch_size # average\n",
    "\n",
    "\n",
    "print('MAE on train set = %.2f (degrees Celsius)' % naive_method(train_dataset, mean_tr[y_idx], std_tr[y_idx]))\n",
    "print('MAE on validation set = %.2f (degrees Celsius)' % naive_method(val_dataset, mean_tr[y_idx], std_tr[y_idx]))\n",
    "print('MAE on test set = %.2f (degrees Celsius)' % naive_method(test_dataset, mean_tr[y_idx], std_tr[y_idx]))\n",
    "# Save MAE on validation for later\n",
    "baseline = naive_method(val_dataset, mean_tr[y_idx], std_tr[y_idx])"
   ]
  },
  {
   "cell_type": "markdown",
   "metadata": {
    "id": "znycUtxiJmAF"
   },
   "source": [
    "This baseline achieves a validation MAE of 2.69 degrees and a test MAE of 2.85 degrees. So if we assume that tomorrow's temperature will be the same as today's, we'll be off by less than 3 degrees on average.\n",
    "\n",
    "Not too bad, but surely we can do better!"
   ]
  },
  {
   "cell_type": "markdown",
   "metadata": {
    "id": "7c-duA1Z_a0R"
   },
   "source": [
    "### Simple ML baseline\n",
    "\n",
    "\n"
   ]
  },
  {
   "cell_type": "code",
   "execution_count": 14,
   "metadata": {
    "colab": {
     "base_uri": "https://localhost:8080/"
    },
    "id": "fWGqpICHJlRe",
    "outputId": "23ab2130-e029-42ac-95ae-a1174fb801d5"
   },
   "outputs": [
    {
     "name": "stdout",
     "output_type": "stream",
     "text": [
      "Model: \"sequential\"\n",
      "_________________________________________________________________\n",
      " Layer (type)                Output Shape              Param #   \n",
      "=================================================================\n",
      " flatten (Flatten)           (None, 84)                0         \n",
      "                                                                 \n",
      " dense (Dense)               (None, 10)                850       \n",
      "                                                                 \n",
      " dense_1 (Dense)             (None, 1)                 11        \n",
      "                                                                 \n",
      "=================================================================\n",
      "Total params: 861\n",
      "Trainable params: 861\n",
      "Non-trainable params: 0\n",
      "_________________________________________________________________\n"
     ]
    }
   ],
   "source": [
    "# To get some practice with neural networks, we'll try a 1-layer NN with nothing fancy.\n",
    "\n",
    "model_dense = models.Sequential()\n",
    "model_dense.add(layers.Flatten(input_shape=(sequence_length, len(df.columns)-1)))  # we need to specify the input shape or we won't be able to see the summary\n",
    "model_dense.add(layers.Dense(10, activation='relu'))\n",
    "model_dense.add(layers.Dense(1))\n",
    "\n",
    "model_dense.summary()"
   ]
  },
  {
   "cell_type": "code",
   "execution_count": 15,
   "metadata": {
    "colab": {
     "base_uri": "https://localhost:8080/"
    },
    "id": "p0Hz1rX8LMfT",
    "outputId": "e9674789-48af-4682-f7fa-aec2fc10cb4a"
   },
   "outputs": [
    {
     "name": "stdout",
     "output_type": "stream",
     "text": [
      "Epoch 1/20\n",
      "80/80 [==============================] - 0s 2ms/step - loss: 138.3549 - mae: 10.9827 - val_loss: 121.6077 - val_mae: 10.1835\n",
      "Epoch 2/20\n",
      "80/80 [==============================] - 0s 1ms/step - loss: 108.6919 - mae: 9.6715 - val_loss: 95.2009 - val_mae: 8.9962\n",
      "Epoch 3/20\n",
      "80/80 [==============================] - 0s 1ms/step - loss: 82.4036 - mae: 8.3468 - val_loss: 72.8434 - val_mae: 7.7917\n",
      "Epoch 4/20\n",
      "80/80 [==============================] - 0s 1ms/step - loss: 61.5903 - mae: 7.0242 - val_loss: 56.7619 - val_mae: 6.6546\n",
      "Epoch 5/20\n",
      "80/80 [==============================] - 0s 1ms/step - loss: 48.8727 - mae: 5.9850 - val_loss: 47.4921 - val_mae: 5.9307\n",
      "Epoch 6/20\n",
      "80/80 [==============================] - 0s 1ms/step - loss: 42.7186 - mae: 5.4709 - val_loss: 41.6607 - val_mae: 5.4735\n",
      "Epoch 7/20\n",
      "80/80 [==============================] - 0s 1ms/step - loss: 38.2318 - mae: 5.1260 - val_loss: 36.3411 - val_mae: 5.0227\n",
      "Epoch 8/20\n",
      "80/80 [==============================] - 0s 1ms/step - loss: 34.1878 - mae: 4.8159 - val_loss: 32.0870 - val_mae: 4.6305\n",
      "Epoch 9/20\n",
      "80/80 [==============================] - 0s 1ms/step - loss: 31.2016 - mae: 4.5808 - val_loss: 29.5687 - val_mae: 4.3936\n",
      "Epoch 10/20\n",
      "80/80 [==============================] - 0s 1ms/step - loss: 29.2508 - mae: 4.4259 - val_loss: 28.1685 - val_mae: 4.2668\n",
      "Epoch 11/20\n",
      "80/80 [==============================] - 0s 1ms/step - loss: 27.8955 - mae: 4.3182 - val_loss: 27.1654 - val_mae: 4.1750\n",
      "Epoch 12/20\n",
      "80/80 [==============================] - 0s 1ms/step - loss: 26.8057 - mae: 4.2306 - val_loss: 26.2856 - val_mae: 4.0960\n",
      "Epoch 13/20\n",
      "80/80 [==============================] - 0s 1ms/step - loss: 25.8292 - mae: 4.1535 - val_loss: 25.4510 - val_mae: 4.0238\n",
      "Epoch 14/20\n",
      "80/80 [==============================] - 0s 1ms/step - loss: 24.9075 - mae: 4.0809 - val_loss: 24.6337 - val_mae: 3.9544\n",
      "Epoch 15/20\n",
      "80/80 [==============================] - 0s 1ms/step - loss: 24.0095 - mae: 4.0086 - val_loss: 23.8211 - val_mae: 3.8856\n",
      "Epoch 16/20\n",
      "80/80 [==============================] - 0s 1ms/step - loss: 23.1241 - mae: 3.9358 - val_loss: 22.9997 - val_mae: 3.8157\n",
      "Epoch 17/20\n",
      "80/80 [==============================] - 0s 1ms/step - loss: 22.2492 - mae: 3.8621 - val_loss: 22.1780 - val_mae: 3.7444\n",
      "Epoch 18/20\n",
      "80/80 [==============================] - 0s 1ms/step - loss: 21.3710 - mae: 3.7869 - val_loss: 21.3502 - val_mae: 3.6718\n",
      "Epoch 19/20\n",
      "80/80 [==============================] - 0s 1ms/step - loss: 20.4888 - mae: 3.7095 - val_loss: 20.5237 - val_mae: 3.6000\n",
      "Epoch 20/20\n",
      "80/80 [==============================] - 0s 1ms/step - loss: 19.6041 - mae: 3.6301 - val_loss: 19.6968 - val_mae: 3.5284\n"
     ]
    }
   ],
   "source": [
    "n_epochs = 20\n",
    "\n",
    "model_dense.compile(optimizer='rmsprop', loss='mse', metrics=['mae'])\n",
    "history_dense = model_dense.fit(train_dataset, epochs=n_epochs, validation_data=val_dataset)"
   ]
  },
  {
   "cell_type": "code",
   "execution_count": 16,
   "metadata": {
    "colab": {
     "base_uri": "https://localhost:8080/",
     "height": 283
    },
    "id": "aBRYn-AKMCi4",
    "outputId": "7c1891b1-da33-4052-e71b-e0876c7bdbca"
   },
   "outputs": [
    {
     "data": {
      "image/png": "[encoded data removed]",
      "text/plain": [
       "<Figure size 432x288 with 1 Axes>"
      ]
     },
     "metadata": {
      "needs_background": "light"
     },
     "output_type": "display_data"
    }
   ],
   "source": [
    "# Plot MAE cures for validation and training\n",
    "plot_hist_regression(history_dense, baseline)"
   ]
  },
  {
   "cell_type": "markdown",
   "metadata": {
    "id": "1EJywOA5NJa9"
   },
   "source": [
    "Validation loss is worse than what we had with our common-sense baseline, and we're already overfitting (MAE on training set is lower than on validation set). It turns out our previous baseline is not as easy to outperform as we thought!\n",
    "\n",
    "Remember our 'hypothesis space'? Using 2 Dense layers doesn't seem to be very useful in this case. We need other types of layers for this problem."
   ]
  },
  {
   "cell_type": "code",
   "execution_count": 17,
   "metadata": {
    "colab": {
     "base_uri": "https://localhost:8080/"
    },
    "id": "k6PADykQPIjq",
    "outputId": "0c3d48b1-f910-4648-d08e-e6147fc3b5b6"
   },
   "outputs": [
    {
     "name": "stdout",
     "output_type": "stream",
     "text": [
      "Model: \"sequential_1\"\n",
      "_________________________________________________________________\n",
      " Layer (type)                Output Shape              Param #   \n",
      "=================================================================\n",
      " conv1d (Conv1D)             (None, 8, 8)              344       \n",
      "                                                                 \n",
      " max_pooling1d (MaxPooling1D  (None, 4, 8)             0         \n",
      " )                                                               \n",
      "                                                                 \n",
      " conv1d_1 (Conv1D)           (None, 2, 8)              200       \n",
      "                                                                 \n",
      " max_pooling1d_1 (MaxPooling  (None, 1, 8)             0         \n",
      " 1D)                                                             \n",
      "                                                                 \n",
      " global_average_pooling1d (G  (None, 8)                0         \n",
      " lobalAveragePooling1D)                                          \n",
      "                                                                 \n",
      " dense_2 (Dense)             (None, 1)                 9         \n",
      "                                                                 \n",
      "=================================================================\n",
      "Total params: 553\n",
      "Trainable params: 553\n",
      "Non-trainable params: 0\n",
      "_________________________________________________________________\n"
     ]
    }
   ],
   "source": [
    "# We know that CNNs take advantage of neighbouring values, so why don't we try that?\n",
    "\n",
    "# In addition to the Conv2D layers we saw last week, there are Conv1D and Conv3D layers. \n",
    "# Conv1D layers rely on 1D windows that slide across an input sequence (imagine a 1D image)\n",
    "\n",
    "model_cnn = models.Sequential()\n",
    "model_cnn.add(layers.Conv1D(8, 7, activation='relu', input_shape=(sequence_length, len(df.columns)-1)))\n",
    "model_cnn.add(layers.MaxPooling1D(2))\n",
    "model_cnn.add(layers.Conv1D(8, 3, activation='relu'))\n",
    "model_cnn.add(layers.MaxPooling1D(2))\n",
    "model_cnn.add(layers.GlobalAveragePooling1D())\n",
    "model_cnn.add(layers.Dense(1))\n",
    "\n",
    "model_cnn.summary()"
   ]
  },
  {
   "cell_type": "code",
   "execution_count": 18,
   "metadata": {
    "colab": {
     "base_uri": "https://localhost:8080/"
    },
    "id": "PSGRJSulQs22",
    "outputId": "44faf343-33d6-44d4-8d70-2ae98c010db0"
   },
   "outputs": [
    {
     "name": "stdout",
     "output_type": "stream",
     "text": [
      "Epoch 1/20\n",
      "80/80 [==============================] - 0s 2ms/step - loss: 159.6693 - mae: 11.4055 - val_loss: 139.4650 - val_mae: 10.2941\n",
      "Epoch 2/20\n",
      "80/80 [==============================] - 0s 1ms/step - loss: 134.4333 - mae: 10.1554 - val_loss: 120.4830 - val_mae: 9.1913\n",
      "Epoch 3/20\n",
      "80/80 [==============================] - 0s 1ms/step - loss: 110.4991 - mae: 9.0281 - val_loss: 94.8204 - val_mae: 8.0194\n",
      "Epoch 4/20\n",
      "80/80 [==============================] - 0s 1ms/step - loss: 74.2383 - mae: 7.3285 - val_loss: 58.2450 - val_mae: 6.3547\n",
      "Epoch 5/20\n",
      "80/80 [==============================] - 0s 1ms/step - loss: 35.8704 - mae: 5.0004 - val_loss: 26.8104 - val_mae: 4.1358\n",
      "Epoch 6/20\n",
      "80/80 [==============================] - 0s 1ms/step - loss: 20.3094 - mae: 3.6372 - val_loss: 20.6807 - val_mae: 3.5005\n",
      "Epoch 7/20\n",
      "80/80 [==============================] - 0s 1ms/step - loss: 17.7080 - mae: 3.3923 - val_loss: 18.6404 - val_mae: 3.2713\n",
      "Epoch 8/20\n",
      "80/80 [==============================] - 0s 1ms/step - loss: 15.8435 - mae: 3.2256 - val_loss: 17.1339 - val_mae: 3.1037\n",
      "Epoch 9/20\n",
      "80/80 [==============================] - 0s 1ms/step - loss: 14.4150 - mae: 3.0781 - val_loss: 16.1064 - val_mae: 2.9878\n",
      "Epoch 10/20\n",
      "80/80 [==============================] - 0s 1ms/step - loss: 13.2788 - mae: 2.9501 - val_loss: 15.3435 - val_mae: 2.9083\n",
      "Epoch 11/20\n",
      "80/80 [==============================] - 0s 1ms/step - loss: 12.3695 - mae: 2.8448 - val_loss: 14.8160 - val_mae: 2.8516\n",
      "Epoch 12/20\n",
      "80/80 [==============================] - 0s 1ms/step - loss: 11.6879 - mae: 2.7602 - val_loss: 14.3800 - val_mae: 2.8078\n",
      "Epoch 13/20\n",
      "80/80 [==============================] - 0s 1ms/step - loss: 11.1703 - mae: 2.6955 - val_loss: 14.0734 - val_mae: 2.7747\n",
      "Epoch 14/20\n",
      "80/80 [==============================] - 0s 1ms/step - loss: 10.7566 - mae: 2.6407 - val_loss: 13.7971 - val_mae: 2.7517\n",
      "Epoch 15/20\n",
      "80/80 [==============================] - 0s 1ms/step - loss: 10.4239 - mae: 2.5962 - val_loss: 13.5756 - val_mae: 2.7336\n",
      "Epoch 16/20\n",
      "80/80 [==============================] - 0s 1ms/step - loss: 10.1542 - mae: 2.5592 - val_loss: 13.4084 - val_mae: 2.7184\n",
      "Epoch 17/20\n",
      "80/80 [==============================] - 0s 1ms/step - loss: 9.9117 - mae: 2.5260 - val_loss: 13.2616 - val_mae: 2.7059\n",
      "Epoch 18/20\n",
      "80/80 [==============================] - 0s 1ms/step - loss: 9.7028 - mae: 2.4983 - val_loss: 13.1103 - val_mae: 2.6942\n",
      "Epoch 19/20\n",
      "80/80 [==============================] - 0s 1ms/step - loss: 9.5202 - mae: 2.4737 - val_loss: 12.9607 - val_mae: 2.6821\n",
      "Epoch 20/20\n",
      "80/80 [==============================] - 0s 1ms/step - loss: 9.3618 - mae: 2.4521 - val_loss: 12.8256 - val_mae: 2.6710\n"
     ]
    }
   ],
   "source": [
    "model_cnn.compile(optimizer='rmsprop', loss='mse', metrics=['mae'])\n",
    "history_cnn = model_cnn.fit(train_dataset, epochs=n_epochs,\n",
    "                            validation_data=val_dataset)"
   ]
  },
  {
   "cell_type": "code",
   "execution_count": 19,
   "metadata": {
    "colab": {
     "base_uri": "https://localhost:8080/",
     "height": 279
    },
    "id": "6bB6lzLYSG-u",
    "outputId": "8062cd61-ad7a-45a8-c123-048505f8985e"
   },
   "outputs": [
    {
     "data": {
      "image/png": "[encoded data removed]",
      "text/plain": [
       "<Figure size 432x288 with 1 Axes>"
      ]
     },
     "metadata": {
      "needs_background": "light"
     },
     "output_type": "display_data"
    }
   ],
   "source": [
    "# Plot MAE cures for validation and training\n",
    "plot_hist_regression(history_cnn, baseline)"
   ]
  },
  {
   "cell_type": "markdown",
   "metadata": {
    "id": "Kc2iMPSHViL1"
   },
   "source": [
    "This model isn't any better, with a validation MAE of 2.77 degrees (also worse than the 'common-sense approach' that we tried at first), and we're overfitting a bit too.\n",
    "\n",
    "Why?\n",
    "\n",
    "In timeseries, order matters a lot: the recent past is more informative than data from 5 days ago, and convolutional layers don't take advantage of this fact -- max pooling and global average pooling layers actually destroy this order information."
   ]
  },
  {
   "cell_type": "markdown",
   "metadata": {
    "id": "3ozUAZX__a0R"
   },
   "source": [
    "## Long Short Term Memory (LSTM) Neural Networks\n",
    "\n",
    "\n"
   ]
  },
  {
   "cell_type": "code",
   "execution_count": 20,
   "metadata": {
    "colab": {
     "base_uri": "https://localhost:8080/"
    },
    "id": "2dWfiaUw_a0R",
    "outputId": "dd802c62-1be0-45b4-8d14-1f2a606b0d55"
   },
   "outputs": [
    {
     "name": "stdout",
     "output_type": "stream",
     "text": [
      "Model: \"sequential_2\"\n",
      "_________________________________________________________________\n",
      " Layer (type)                Output Shape              Param #   \n",
      "=================================================================\n",
      " lstm (LSTM)                 (None, 20)                2160      \n",
      "                                                                 \n",
      " dense_3 (Dense)             (None, 1)                 21        \n",
      "                                                                 \n",
      "=================================================================\n",
      "Total params: 2,181\n",
      "Trainable params: 2,181\n",
      "Non-trainable params: 0\n",
      "_________________________________________________________________\n"
     ]
    }
   ],
   "source": [
    "# 1-layer LSTM\n",
    "\n",
    "model_lstm1 = models.Sequential()\n",
    "model_lstm1.add(layers.LSTM(20, input_shape=(sequence_length, len(df.columns)-1)))\n",
    "model_lstm1.add(layers.Dense(1))\n",
    "\n",
    "model_lstm1.summary()"
   ]
  },
  {
   "cell_type": "code",
   "execution_count": 21,
   "metadata": {
    "id": "DMst2Mp0R0Xi"
   },
   "outputs": [],
   "source": [
    "n_epochs = 20"
   ]
  },
  {
   "cell_type": "code",
   "execution_count": 22,
   "metadata": {
    "colab": {
     "base_uri": "https://localhost:8080/"
    },
    "id": "Pff2tZQHXb-z",
    "outputId": "7a1028ea-cda1-4359-dfa8-a986de309d50"
   },
   "outputs": [
    {
     "name": "stdout",
     "output_type": "stream",
     "text": [
      "Epoch 1/20\n",
      "80/80 [==============================] - 2s 9ms/step - loss: 142.7274 - mae: 10.6607 - val_loss: 122.2989 - val_mae: 9.6313\n",
      "Epoch 2/20\n",
      "80/80 [==============================] - 0s 3ms/step - loss: 92.2812 - mae: 8.2395 - val_loss: 56.4414 - val_mae: 5.9907\n",
      "Epoch 3/20\n",
      "80/80 [==============================] - 0s 3ms/step - loss: 45.8243 - mae: 5.5375 - val_loss: 37.3308 - val_mae: 4.7947\n",
      "Epoch 4/20\n",
      "80/80 [==============================] - 0s 3ms/step - loss: 31.5302 - mae: 4.5350 - val_loss: 28.3532 - val_mae: 4.2000\n",
      "Epoch 5/20\n",
      "80/80 [==============================] - 0s 3ms/step - loss: 24.1234 - mae: 3.9597 - val_loss: 23.0570 - val_mae: 3.8215\n",
      "Epoch 6/20\n",
      "80/80 [==============================] - 0s 3ms/step - loss: 19.5093 - mae: 3.5620 - val_loss: 19.4534 - val_mae: 3.5214\n",
      "Epoch 7/20\n",
      "80/80 [==============================] - 0s 3ms/step - loss: 16.2658 - mae: 3.2535 - val_loss: 16.8041 - val_mae: 3.2729\n",
      "Epoch 8/20\n",
      "80/80 [==============================] - 0s 3ms/step - loss: 13.8634 - mae: 2.9956 - val_loss: 14.7222 - val_mae: 3.0663\n",
      "Epoch 9/20\n",
      "80/80 [==============================] - 0s 3ms/step - loss: 11.9217 - mae: 2.7675 - val_loss: 13.0024 - val_mae: 2.8782\n",
      "Epoch 10/20\n",
      "80/80 [==============================] - 0s 3ms/step - loss: 10.3169 - mae: 2.5656 - val_loss: 11.5539 - val_mae: 2.7128\n",
      "Epoch 11/20\n",
      "80/80 [==============================] - 0s 3ms/step - loss: 9.0056 - mae: 2.3911 - val_loss: 10.3756 - val_mae: 2.5712\n",
      "Epoch 12/20\n",
      "80/80 [==============================] - 0s 3ms/step - loss: 7.9779 - mae: 2.2476 - val_loss: 9.4660 - val_mae: 2.4611\n",
      "Epoch 13/20\n",
      "80/80 [==============================] - 0s 3ms/step - loss: 7.2303 - mae: 2.1426 - val_loss: 8.7830 - val_mae: 2.3772\n",
      "Epoch 14/20\n",
      "80/80 [==============================] - 0s 3ms/step - loss: 6.7047 - mae: 2.0667 - val_loss: 8.2733 - val_mae: 2.3164\n",
      "Epoch 15/20\n",
      "80/80 [==============================] - 0s 3ms/step - loss: 6.3321 - mae: 2.0097 - val_loss: 7.8734 - val_mae: 2.2655\n",
      "Epoch 16/20\n",
      "80/80 [==============================] - 0s 3ms/step - loss: 6.0483 - mae: 1.9640 - val_loss: 7.5432 - val_mae: 2.2188\n",
      "Epoch 17/20\n",
      "80/80 [==============================] - 0s 3ms/step - loss: 5.8206 - mae: 1.9268 - val_loss: 7.2616 - val_mae: 2.1768\n",
      "Epoch 18/20\n",
      "80/80 [==============================] - 0s 3ms/step - loss: 5.6275 - mae: 1.8937 - val_loss: 7.0148 - val_mae: 2.1380\n",
      "Epoch 19/20\n",
      "80/80 [==============================] - 0s 3ms/step - loss: 5.4604 - mae: 1.8636 - val_loss: 6.7948 - val_mae: 2.1034\n",
      "Epoch 20/20\n",
      "80/80 [==============================] - 0s 3ms/step - loss: 5.3048 - mae: 1.8358 - val_loss: 6.5895 - val_mae: 2.0692\n"
     ]
    }
   ],
   "source": [
    "model_lstm1.compile(optimizer='rmsprop', loss='mse', metrics=['mae'])\n",
    "history_lstm1 = model_lstm1.fit(train_dataset, epochs=n_epochs,\n",
    "                            validation_data=val_dataset)"
   ]
  },
  {
   "cell_type": "code",
   "execution_count": 23,
   "metadata": {
    "colab": {
     "base_uri": "https://localhost:8080/",
     "height": 279
    },
    "id": "hr-bgDUvXmvS",
    "outputId": "9462df20-d32e-45db-ed9d-af5786c6ebdd"
   },
   "outputs": [
    {
     "data": {
      "image/png": "[encoded data removed]",
      "text/plain": [
       "<Figure size 432x288 with 1 Axes>"
      ]
     },
     "metadata": {
      "needs_background": "light"
     },
     "output_type": "display_data"
    }
   ],
   "source": [
    "# Plot MAE cures for validation and training\n",
    "plot_hist_regression(history_lstm1, baseline)\n"
   ]
  },
  {
   "cell_type": "code",
   "execution_count": 24,
   "metadata": {
    "colab": {
     "base_uri": "https://localhost:8080/"
    },
    "id": "0fFZvXXUcQ67",
    "outputId": "8ac06bad-6b70-4bb6-e4f2-964253e5fa03"
   },
   "outputs": [
    {
     "name": "stdout",
     "output_type": "stream",
     "text": [
      "31/31 [==============================] - 0s 867us/step - loss: 7.4726 - mae: 2.1339\n",
      "Test MAE = 2.13 degrees\n"
     ]
    }
   ],
   "source": [
    "print('Test MAE = %.2f degrees' % model_lstm1.evaluate(test_dataset)[1])"
   ]
  },
  {
   "cell_type": "markdown",
   "metadata": {
    "id": "bYSWwI1aXvwL"
   },
   "source": [
    "Success! We finally beat the common-sense baseline! The validation MAE now is 2.12 degrees, and the test MAE is 2.27.\n",
    "\n",
    "Why do LSTM layers work? Let's go back to the slides"
   ]
  },
  {
   "cell_type": "code",
   "execution_count": 25,
   "metadata": {
    "colab": {
     "base_uri": "https://localhost:8080/"
    },
    "id": "acSYakeOcokB",
    "outputId": "2fb126f8-5e20-4748-884a-0ca6b8670f03"
   },
   "outputs": [
    {
     "name": "stdout",
     "output_type": "stream",
     "text": [
      "Model: \"sequential_3\"\n",
      "_________________________________________________________________\n",
      " Layer (type)                Output Shape              Param #   \n",
      "=================================================================\n",
      " lstm_1 (LSTM)               (None, 20)                2160      \n",
      "                                                                 \n",
      " dropout (Dropout)           (None, 20)                0         \n",
      "                                                                 \n",
      " dense_4 (Dense)             (None, 1)                 21        \n",
      "                                                                 \n",
      "=================================================================\n",
      "Total params: 2,181\n",
      "Trainable params: 2,181\n",
      "Non-trainable params: 0\n",
      "_________________________________________________________________\n"
     ]
    }
   ],
   "source": [
    "# Adding dropout\n",
    "\n",
    "model_lstm2 = models.Sequential()\n",
    "model_lstm2.add(layers.LSTM(20, input_shape=(sequence_length, len(df.columns)-1), recurrent_dropout=0.25))\n",
    "model_lstm2.add(layers.Dropout(0.4))\n",
    "model_lstm2.add(layers.Dense(1))\n",
    "\n",
    "model_lstm2.summary()"
   ]
  },
  {
   "cell_type": "code",
   "execution_count": 26,
   "metadata": {
    "colab": {
     "base_uri": "https://localhost:8080/"
    },
    "id": "LvRnf9TWSWf9",
    "outputId": "af247ccc-7255-4ca4-b8db-192913fc835a"
   },
   "outputs": [
    {
     "name": "stdout",
     "output_type": "stream",
     "text": [
      "Epoch 1/20\n",
      "80/80 [==============================] - 2s 6ms/step - loss: 134.4374 - mae: 10.4735 - val_loss: 111.1470 - val_mae: 9.3566\n",
      "Epoch 2/20\n",
      "80/80 [==============================] - 0s 5ms/step - loss: 91.6594 - mae: 8.4160 - val_loss: 63.4679 - val_mae: 6.5692\n",
      "Epoch 3/20\n",
      "80/80 [==============================] - 0s 5ms/step - loss: 54.1142 - mae: 6.0919 - val_loss: 42.1986 - val_mae: 5.1009\n",
      "Epoch 4/20\n",
      "80/80 [==============================] - 0s 5ms/step - loss: 38.8236 - mae: 5.0439 - val_loss: 33.3795 - val_mae: 4.5505\n",
      "Epoch 5/20\n",
      "80/80 [==============================] - 0s 5ms/step - loss: 32.6935 - mae: 4.6531 - val_loss: 27.2291 - val_mae: 4.1286\n",
      "Epoch 6/20\n",
      "80/80 [==============================] - 0s 5ms/step - loss: 26.7090 - mae: 4.1572 - val_loss: 22.9282 - val_mae: 3.7897\n",
      "Epoch 7/20\n",
      "80/80 [==============================] - 0s 5ms/step - loss: 22.8564 - mae: 3.8286 - val_loss: 19.9592 - val_mae: 3.5464\n",
      "Epoch 8/20\n",
      "80/80 [==============================] - 0s 5ms/step - loss: 21.0556 - mae: 3.6527 - val_loss: 17.5063 - val_mae: 3.3276\n",
      "Epoch 9/20\n",
      "80/80 [==============================] - 0s 5ms/step - loss: 18.0434 - mae: 3.4159 - val_loss: 15.4030 - val_mae: 3.1265\n",
      "Epoch 10/20\n",
      "80/80 [==============================] - 0s 5ms/step - loss: 18.2253 - mae: 3.4102 - val_loss: 13.4365 - val_mae: 2.9171\n",
      "Epoch 11/20\n",
      "80/80 [==============================] - 0s 5ms/step - loss: 14.8267 - mae: 3.0822 - val_loss: 12.2014 - val_mae: 2.7869\n",
      "Epoch 12/20\n",
      "80/80 [==============================] - 1s 7ms/step - loss: 13.3880 - mae: 2.9242 - val_loss: 11.1508 - val_mae: 2.6685\n",
      "Epoch 13/20\n",
      "80/80 [==============================] - 0s 5ms/step - loss: 13.9497 - mae: 2.9645 - val_loss: 10.1469 - val_mae: 2.5391\n",
      "Epoch 14/20\n",
      "80/80 [==============================] - 0s 5ms/step - loss: 13.1000 - mae: 2.8822 - val_loss: 9.5917 - val_mae: 2.4701\n",
      "Epoch 15/20\n",
      "80/80 [==============================] - 0s 5ms/step - loss: 13.2732 - mae: 2.9066 - val_loss: 8.9138 - val_mae: 2.3866\n",
      "Epoch 16/20\n",
      "80/80 [==============================] - 0s 5ms/step - loss: 11.7891 - mae: 2.7418 - val_loss: 8.8456 - val_mae: 2.3964\n",
      "Epoch 17/20\n",
      "80/80 [==============================] - 0s 5ms/step - loss: 11.3566 - mae: 2.6600 - val_loss: 8.4289 - val_mae: 2.3371\n",
      "Epoch 18/20\n",
      "80/80 [==============================] - 0s 5ms/step - loss: 11.6782 - mae: 2.7248 - val_loss: 8.0490 - val_mae: 2.2847\n",
      "Epoch 19/20\n",
      "80/80 [==============================] - 0s 5ms/step - loss: 11.3940 - mae: 2.6808 - val_loss: 7.8538 - val_mae: 2.2574\n",
      "Epoch 20/20\n",
      "80/80 [==============================] - 0s 5ms/step - loss: 11.0666 - mae: 2.6072 - val_loss: 7.3770 - val_mae: 2.1813\n"
     ]
    }
   ],
   "source": [
    "model_lstm2.compile(optimizer='rmsprop', loss='mse', metrics=['mae'])\n",
    "history_lstm2 = model_lstm2.fit(train_dataset, epochs=n_epochs,\n",
    "                            validation_data=val_dataset)"
   ]
  },
  {
   "cell_type": "code",
   "execution_count": 27,
   "metadata": {
    "colab": {
     "base_uri": "https://localhost:8080/",
     "height": 279
    },
    "id": "cWpm-j9iSck1",
    "outputId": "cf66d132-b95f-456c-d6a4-86c9d28a5aef"
   },
   "outputs": [
    {
     "data": {
      "image/png": "[encoded data removed]",
      "text/plain": [
       "<Figure size 432x288 with 1 Axes>"
      ]
     },
     "metadata": {
      "needs_background": "light"
     },
     "output_type": "display_data"
    }
   ],
   "source": [
    "# Plot MAE cures for validation and training\n",
    "plot_hist_regression(history_lstm2, baseline)"
   ]
  },
  {
   "cell_type": "code",
   "execution_count": 28,
   "metadata": {
    "colab": {
     "base_uri": "https://localhost:8080/"
    },
    "id": "rAIQrQDVSmSM",
    "outputId": "8008e969-28d8-48e4-a402-720ada6f59a8"
   },
   "outputs": [
    {
     "name": "stdout",
     "output_type": "stream",
     "text": [
      "31/31 [==============================] - 0s 1ms/step - loss: 8.4976 - mae: 2.2743\n",
      "Test MAE = 2.27 degrees\n"
     ]
    }
   ],
   "source": [
    "print('Test MAE = %.2f degrees' % model_lstm2.evaluate(test_dataset)[1])"
   ]
  },
  {
   "cell_type": "markdown",
   "metadata": {
    "id": "H3OrpvE3S4gM"
   },
   "source": [
    "Note that validation set MAE is now lower than MAE on training set -- no longer overfitting. Validation MAE is 2.16 and test MAE is also 2.16.\n",
    "\n",
    "NOTE: This is a very simple dataset with very small differences in performance between different models.  You'll just have to take my word for it that *in general* this approach works. "
   ]
  },
  {
   "cell_type": "code",
   "execution_count": 29,
   "metadata": {
    "colab": {
     "base_uri": "https://localhost:8080/"
    },
    "id": "jq_ZDTttTX6_",
    "outputId": "3178ee55-e729-4191-b765-4e81bec2a291"
   },
   "outputs": [
    {
     "name": "stdout",
     "output_type": "stream",
     "text": [
      "Model: \"sequential_4\"\n",
      "_________________________________________________________________\n",
      " Layer (type)                Output Shape              Param #   \n",
      "=================================================================\n",
      " lstm_2 (LSTM)               (None, 14, 20)            2160      \n",
      "                                                                 \n",
      " lstm_3 (LSTM)               (None, 20)                3280      \n",
      "                                                                 \n",
      " dropout_1 (Dropout)         (None, 20)                0         \n",
      "                                                                 \n",
      " dense_5 (Dense)             (None, 1)                 21        \n",
      "                                                                 \n",
      "=================================================================\n",
      "Total params: 5,461\n",
      "Trainable params: 5,461\n",
      "Non-trainable params: 0\n",
      "_________________________________________________________________\n"
     ]
    }
   ],
   "source": [
    "# Performance in the previous figure can (maybe) still be improved\n",
    "# Let's try to add some more layers -- we can do this now that we're no longer overfitting\n",
    "\n",
    "model_lstm3 = models.Sequential()\n",
    "model_lstm3.add(layers.LSTM(20, input_shape=(sequence_length, len(df.columns)-1), recurrent_dropout=0.25, return_sequences=True))  # NEW!\n",
    "model_lstm3.add(layers.LSTM(20, input_shape=(sequence_length, len(df.columns)-1), recurrent_dropout=0.25))  # NEW!!\n",
    "model_lstm3.add(layers.Dropout(0.4))\n",
    "model_lstm3.add(layers.Dense(1))\n",
    "model_lstm3.summary()"
   ]
  },
  {
   "cell_type": "code",
   "execution_count": 30,
   "metadata": {
    "colab": {
     "base_uri": "https://localhost:8080/"
    },
    "id": "9xQXChtNUxzh",
    "outputId": "47adf7db-d1ea-4cbe-f2b2-2ea09bbbb96f"
   },
   "outputs": [
    {
     "name": "stdout",
     "output_type": "stream",
     "text": [
      "Epoch 1/60\n",
      "80/80 [==============================] - 3s 10ms/step - loss: 118.1731 - mae: 9.7235 - val_loss: 76.1777 - val_mae: 7.4197\n",
      "Epoch 2/60\n",
      "80/80 [==============================] - 1s 8ms/step - loss: 58.2433 - mae: 6.3662 - val_loss: 44.6825 - val_mae: 5.2724\n",
      "Epoch 3/60\n",
      "80/80 [==============================] - 1s 8ms/step - loss: 41.1946 - mae: 5.2069 - val_loss: 34.9752 - val_mae: 4.6460\n",
      "Epoch 4/60\n",
      "80/80 [==============================] - 1s 8ms/step - loss: 33.2429 - mae: 4.6595 - val_loss: 29.1788 - val_mae: 4.3020\n",
      "Epoch 5/60\n",
      "80/80 [==============================] - 1s 8ms/step - loss: 27.0741 - mae: 4.1808 - val_loss: 24.4698 - val_mae: 3.9604\n",
      "Epoch 6/60\n",
      "80/80 [==============================] - 1s 8ms/step - loss: 23.6885 - mae: 3.8898 - val_loss: 21.4612 - val_mae: 3.7329\n",
      "Epoch 7/60\n",
      "80/80 [==============================] - 1s 8ms/step - loss: 21.6841 - mae: 3.7282 - val_loss: 18.8473 - val_mae: 3.4933\n",
      "Epoch 8/60\n",
      "80/80 [==============================] - 1s 8ms/step - loss: 18.2864 - mae: 3.4102 - val_loss: 16.9713 - val_mae: 3.3087\n",
      "Epoch 9/60\n",
      "80/80 [==============================] - 1s 8ms/step - loss: 16.6134 - mae: 3.2572 - val_loss: 14.3027 - val_mae: 2.9967\n",
      "Epoch 10/60\n",
      "80/80 [==============================] - 1s 8ms/step - loss: 15.2320 - mae: 3.0892 - val_loss: 13.0917 - val_mae: 2.8885\n",
      "Epoch 11/60\n",
      "80/80 [==============================] - 1s 8ms/step - loss: 13.7858 - mae: 2.9383 - val_loss: 11.6706 - val_mae: 2.7254\n",
      "Epoch 12/60\n",
      "80/80 [==============================] - 1s 8ms/step - loss: 13.9301 - mae: 2.9327 - val_loss: 10.7208 - val_mae: 2.6187\n",
      "Epoch 13/60\n",
      "80/80 [==============================] - 1s 8ms/step - loss: 12.5793 - mae: 2.8182 - val_loss: 10.1776 - val_mae: 2.5605\n",
      "Epoch 14/60\n",
      "80/80 [==============================] - 1s 8ms/step - loss: 11.3211 - mae: 2.6574 - val_loss: 9.2301 - val_mae: 2.4330\n",
      "Epoch 15/60\n",
      "80/80 [==============================] - 1s 8ms/step - loss: 11.4172 - mae: 2.6843 - val_loss: 8.8490 - val_mae: 2.3944\n",
      "Epoch 16/60\n",
      "80/80 [==============================] - 1s 8ms/step - loss: 11.4153 - mae: 2.6623 - val_loss: 8.4197 - val_mae: 2.3328\n",
      "Epoch 17/60\n",
      "80/80 [==============================] - 1s 8ms/step - loss: 10.4613 - mae: 2.5645 - val_loss: 8.2634 - val_mae: 2.3189\n",
      "Epoch 18/60\n",
      "80/80 [==============================] - 1s 8ms/step - loss: 10.6588 - mae: 2.5536 - val_loss: 7.7828 - val_mae: 2.2406\n",
      "Epoch 19/60\n",
      "80/80 [==============================] - 1s 8ms/step - loss: 10.1324 - mae: 2.5469 - val_loss: 7.5596 - val_mae: 2.2043\n",
      "Epoch 20/60\n",
      "80/80 [==============================] - 1s 8ms/step - loss: 10.3155 - mae: 2.5425 - val_loss: 7.4769 - val_mae: 2.1925\n",
      "Epoch 21/60\n",
      "80/80 [==============================] - 1s 8ms/step - loss: 9.4122 - mae: 2.4321 - val_loss: 7.3775 - val_mae: 2.1799\n",
      "Epoch 22/60\n",
      "80/80 [==============================] - 1s 8ms/step - loss: 10.1007 - mae: 2.4954 - val_loss: 7.1215 - val_mae: 2.1412\n",
      "Epoch 23/60\n",
      "80/80 [==============================] - 1s 8ms/step - loss: 9.8636 - mae: 2.5053 - val_loss: 7.0455 - val_mae: 2.1324\n",
      "Epoch 24/60\n",
      "80/80 [==============================] - 1s 8ms/step - loss: 10.2889 - mae: 2.5207 - val_loss: 6.4357 - val_mae: 2.0231\n",
      "Epoch 25/60\n",
      "80/80 [==============================] - 1s 8ms/step - loss: 9.5610 - mae: 2.4244 - val_loss: 6.4304 - val_mae: 2.0238\n",
      "Epoch 26/60\n",
      "80/80 [==============================] - 1s 8ms/step - loss: 8.6342 - mae: 2.3425 - val_loss: 6.3613 - val_mae: 2.0187\n",
      "Epoch 27/60\n",
      "80/80 [==============================] - 1s 8ms/step - loss: 9.2226 - mae: 2.3982 - val_loss: 6.0891 - val_mae: 1.9617\n",
      "Epoch 28/60\n",
      "80/80 [==============================] - 1s 8ms/step - loss: 10.0245 - mae: 2.4828 - val_loss: 6.1717 - val_mae: 1.9762\n",
      "Epoch 29/60\n",
      "80/80 [==============================] - 1s 8ms/step - loss: 8.4561 - mae: 2.2663 - val_loss: 5.7022 - val_mae: 1.8902\n",
      "Epoch 30/60\n",
      "80/80 [==============================] - 1s 8ms/step - loss: 9.0002 - mae: 2.3650 - val_loss: 6.0808 - val_mae: 1.9632\n",
      "Epoch 31/60\n",
      "80/80 [==============================] - 1s 8ms/step - loss: 9.1463 - mae: 2.4071 - val_loss: 5.9874 - val_mae: 1.9294\n"
     ]
    }
   ],
   "source": [
    "model_lstm3.compile(optimizer='rmsprop', loss='mse', metrics=['mae'])\n",
    "\n",
    "callbacks = [EarlyStopping(monitor='val_mae', patience=2)]\n",
    "\n",
    "history_lstm3 = model_lstm3.fit(train_dataset, epochs=60,  # increased number of epochs\n",
    "                            validation_data=val_dataset,\n",
    "                            callbacks=callbacks)  # but added early stopping callback\n"
   ]
  },
  {
   "cell_type": "code",
   "execution_count": 31,
   "metadata": {
    "colab": {
     "base_uri": "https://localhost:8080/",
     "height": 314
    },
    "id": "PtFfB3YaU4k3",
    "outputId": "eb5fd379-362d-4cb4-d846-d6d264dccab1"
   },
   "outputs": [
    {
     "data": {
      "image/png": "[encoded data removed]",
      "text/plain": [
       "<Figure size 432x288 with 1 Axes>"
      ]
     },
     "metadata": {
      "needs_background": "light"
     },
     "output_type": "display_data"
    },
    {
     "name": "stdout",
     "output_type": "stream",
     "text": [
      "31/31 [==============================] - 0s 2ms/step - loss: 6.5846 - mae: 1.9650\n",
      "Test MAE = 1.96 degrees\n"
     ]
    }
   ],
   "source": [
    "# Plot MAE cures for validation and training\n",
    "plot_hist_regression(history_lstm3, baseline)\n",
    "print('Test MAE = %.2f degrees' % model_lstm3.evaluate(test_dataset)[1])"
   ]
  },
  {
   "cell_type": "markdown",
   "metadata": {
    "id": "eUJqRqp1XJnL"
   },
   "source": [
    "Validation MAE = 1.92 degrees\n",
    "\n",
    "Test MAE = 1.89 degrees\n"
   ]
  },
  {
   "cell_type": "markdown",
   "metadata": {
    "id": "zGEuNqw2csXj"
   },
   "source": [
    "# Text"
   ]
  },
  {
   "cell_type": "markdown",
   "metadata": {
    "id": "dtv0EjsTbwvm"
   },
   "source": [
    "## Data prep\n",
    "\n",
    "We'll try to predict whether the review for a movie is positive or negative looking only at the text of the review.\n",
    "\n",
    "We'll use the IMDB text dataset for this task, which is available on `keras.datasets` and described [here](https://keras.io/api/datasets/imdb/). \n",
    "\n",
    "We'll merge the training and test sets and use 60% for training, 20% for validation, and 20% for testing.\n",
    "\n",
    "\n",
    "As this is a binary classificationp problem, we'll use the binary cross entropy loss function. We will keep track of accuracy when training and evaluating the model.\n"
   ]
  },
  {
   "cell_type": "code",
   "execution_count": 32,
   "metadata": {
    "id": "i-mH-8IGwGo1"
   },
   "outputs": [],
   "source": [
    "def plot_hist_classif(hist):\n",
    "    n_ = len(hist.history['accuracy'])\n",
    "    plt.plot(range(1, n_+1), 100*np.asarray(hist.history['accuracy']), 'bo', label='Accuracy on training set')\n",
    "    plt.plot(range(1, n_+1), 100*np.asarray(hist.history['val_accuracy']), 'b', label='Accuracy on validation set')\n",
    "    plt.legend()\n",
    "    plt.xlabel(\"Epoch\") \n",
    "    plt.ylabel(\"Accuracy\")\n",
    "    plt.ylim(0, 100)\n",
    "    plt.axhline(y=50)\n",
    "    plt.show()\n"
   ]
  },
  {
   "cell_type": "code",
   "execution_count": 33,
   "metadata": {
    "colab": {
     "base_uri": "https://localhost:8080/"
    },
    "id": "4TW3Vg49n5V-",
    "outputId": "3807222c-72f1-48b9-ec7e-a45788dc5790"
   },
   "outputs": [
    {
     "name": "stdout",
     "output_type": "stream",
     "text": [
      "Loading data...\n",
      "25000 train sequences (25000,)\n",
      "25000 test sequences (25000,)\n"
     ]
    }
   ],
   "source": [
    "max_features = 15000  # only consider the top 15k words\n",
    "maxlen = 500  # first 500 words of each review\n",
    "batch_size = 32\n",
    "\n",
    "print('Loading data...')\n",
    "# Load dataset\n",
    "(x_train, y_train), (x_test, y_test) = keras.datasets.imdb.load_data(num_words=max_features)\n",
    "print(len(x_train), 'train sequences', x_train.shape)\n",
    "print(len(x_test), 'test sequences', x_test.shape)"
   ]
  },
  {
   "cell_type": "code",
   "execution_count": 34,
   "metadata": {
    "colab": {
     "base_uri": "https://localhost:8080/"
    },
    "id": "8ApTb-jYtSOm",
    "outputId": "f51644cd-02a1-4c35-d903-5fc0d68a3b9b"
   },
   "outputs": [
    {
     "name": "stdout",
     "output_type": "stream",
     "text": [
      "0.5\n",
      "0.5\n"
     ]
    }
   ],
   "source": [
    "# How balanced is this dataset?\n",
    "print(np.sum(y_train)/len(y_train))\n",
    "print(np.sum(y_test)/len(y_test))"
   ]
  },
  {
   "cell_type": "code",
   "execution_count": 35,
   "metadata": {
    "colab": {
     "base_uri": "https://localhost:8080/"
    },
    "id": "Z53Fbicqr8tm",
    "outputId": "4d7c9122-1eca-46cb-a708-cfe4681d93c8"
   },
   "outputs": [
    {
     "name": "stdout",
     "output_type": "stream",
     "text": [
      "(50000,) (50000,)\n",
      "30000 train sequences (30000,)\n",
      "10000 validation sequences (10000,)\n",
      "10000 test sequences (10000,)\n"
     ]
    }
   ],
   "source": [
    "# Merge the two datasets and divide: 60% for training, 20% validation, 20% test\n",
    "x_, y_ = np.concatenate((x_train, x_test)), np.concatenate((y_train, y_test))\n",
    "print(x_.shape, y_.shape)\n",
    "x_train, x_test, y_train, y_test = train_test_split(x_, y_, test_size=0.4, random_state=10)  # 60/40 split\n",
    "x_val, x_test, y_val, y_test = train_test_split(x_test, y_test, test_size=0.5, random_state=10)  # 50/50 split\n",
    "print(len(x_train), 'train sequences', x_train.shape)\n",
    "print(len(x_val), 'validation sequences', x_val.shape)\n",
    "print(len(x_test), 'test sequences', x_test.shape)"
   ]
  },
  {
   "cell_type": "code",
   "execution_count": 36,
   "metadata": {
    "colab": {
     "base_uri": "https://localhost:8080/"
    },
    "id": "5v_Hy-r8o8pR",
    "outputId": "511de152-8560-4580-efce-a7fbdb3175d5"
   },
   "outputs": [
    {
     "data": {
      "text/plain": [
       "[1, 11531, 186, 8, 28, 6, 6482, 7, 269, 4042]"
      ]
     },
     "execution_count": 36,
     "metadata": {},
     "output_type": "execute_result"
    }
   ],
   "source": [
    "x_train[0][:10]  # numbers!!"
   ]
  },
  {
   "cell_type": "code",
   "execution_count": 37,
   "metadata": {
    "colab": {
     "base_uri": "https://localhost:8080/",
     "height": 105
    },
    "id": "rgEgNSLBpFwh",
    "outputId": "a820c43a-3177-45fc-bef4-10a804a18c86"
   },
   "outputs": [
    {
     "data": {
      "text/plain": [
       "\"the lilly horror in one is fatale br looks meaningless in bronson be showing as you debut film ample to and ingredients zombi ample they for series and thought she's all manipulate and believing in j show look early last quote desire tight interesting that's kind out is far shelter but of frame br and\""
      ]
     },
     "execution_count": 37,
     "metadata": {},
     "output_type": "execute_result"
    }
   ],
   "source": [
    "# We can explore what one of the reviews looks like at this point.\n",
    "\n",
    "# Retrieve the word index file that maps words to indices\n",
    "word_index = keras.datasets.imdb.get_word_index()\n",
    "# Reverse the word index to obtain a dict mapping indices to words (which is what we have)\n",
    "inverted_word_index = dict((i, word) for (word, i) in word_index.items())\n",
    "# Decode the first sequence in the dataset\n",
    "decoded_sequence = \" \".join(inverted_word_index[i] for i in x_train[0])\n",
    "decoded_sequence"
   ]
  },
  {
   "cell_type": "code",
   "execution_count": 38,
   "metadata": {
    "colab": {
     "base_uri": "https://localhost:8080/"
    },
    "id": "ibmO0V-gcthG",
    "outputId": "9422d91d-b296-497b-b038-964ab28ab33c"
   },
   "outputs": [
    {
     "name": "stdout",
     "output_type": "stream",
     "text": [
      "Pad sequences\n",
      "x_train shape: (30000, 500)\n",
      "x_val shape: (10000, 500)\n",
      "x_test shape: (10000, 500)\n"
     ]
    }
   ],
   "source": [
    "# Let's ensure all sequences have the same length through padding\n",
    "# - shorter reviews are padded with 0's\n",
    "# - longer reviews are cut\n",
    "print('Pad sequences')\n",
    "x_train = keras.preprocessing.sequence.pad_sequences(x_train, maxlen=maxlen)\n",
    "x_val = keras.preprocessing.sequence.pad_sequences(x_val, maxlen=maxlen)\n",
    "x_test = keras.preprocessing.sequence.pad_sequences(x_test, maxlen=maxlen)\n",
    "print('x_train shape:', x_train.shape)\n",
    "print('x_val shape:', x_val.shape)\n",
    "print('x_test shape:', x_test.shape)"
   ]
  },
  {
   "cell_type": "code",
   "execution_count": 39,
   "metadata": {
    "colab": {
     "base_uri": "https://localhost:8080/"
    },
    "id": "sBpQpwBAk44H",
    "outputId": "eb86c1c0-0cd1-479e-a4ef-3f58cbf6abb0"
   },
   "outputs": [
    {
     "name": "stdout",
     "output_type": "stream",
     "text": [
      "Model: \"sequential_5\"\n",
      "_________________________________________________________________\n",
      " Layer (type)                Output Shape              Param #   \n",
      "=================================================================\n",
      " embedding (Embedding)       (None, 500, 128)          1920000   \n",
      "                                                                 \n",
      " dense_6 (Dense)             (None, 500, 64)           8256      \n",
      "                                                                 \n",
      " dropout_2 (Dropout)         (None, 500, 64)           0         \n",
      "                                                                 \n",
      " dense_7 (Dense)             (None, 500, 64)           4160      \n",
      "                                                                 \n",
      " dropout_3 (Dropout)         (None, 500, 64)           0         \n",
      "                                                                 \n",
      " flatten_1 (Flatten)         (None, 32000)             0         \n",
      "                                                                 \n",
      " dense_8 (Dense)             (None, 1)                 32001     \n",
      "                                                                 \n",
      "=================================================================\n",
      "Total params: 1,964,417\n",
      "Trainable params: 1,964,417\n",
      "Non-trainable params: 0\n",
      "_________________________________________________________________\n"
     ]
    }
   ],
   "source": [
    "# Basic feedforward model\n",
    "model = models.Sequential()\n",
    "model.add(layers.Embedding(max_features, 128, input_length=maxlen))\n",
    "model.add(layers.Dense(64, activation='relu'))\n",
    "model.add(layers.Dropout(0.5))\n",
    "model.add(layers.Dense(64, activation='relu'))\n",
    "model.add(layers.Dropout(0.5))\n",
    "model.add(layers.Flatten())\n",
    "model.add(layers.Dense(1, activation=\"sigmoid\"))\n",
    "model.summary()"
   ]
  },
  {
   "cell_type": "code",
   "execution_count": 40,
   "metadata": {
    "colab": {
     "base_uri": "https://localhost:8080/"
    },
    "id": "-8c7tCS5vrC3",
    "outputId": "aab08477-7bd5-4394-b052-3faa0d266096"
   },
   "outputs": [
    {
     "name": "stdout",
     "output_type": "stream",
     "text": [
      "Epoch 1/20\n",
      "938/938 [==============================] - 25s 26ms/step - loss: 0.4478 - accuracy: 0.7593 - val_loss: 0.2799 - val_accuracy: 0.8830\n",
      "Epoch 2/20\n",
      "938/938 [==============================] - 24s 26ms/step - loss: 0.2493 - accuracy: 0.9011 - val_loss: 0.2737 - val_accuracy: 0.8900\n",
      "Epoch 3/20\n",
      "938/938 [==============================] - 24s 26ms/step - loss: 0.2112 - accuracy: 0.9187 - val_loss: 0.2891 - val_accuracy: 0.8865\n",
      "Epoch 4/20\n",
      "938/938 [==============================] - 24s 26ms/step - loss: 0.1933 - accuracy: 0.9261 - val_loss: 0.3181 - val_accuracy: 0.8786\n",
      "Epoch 5/20\n",
      "938/938 [==============================] - 24s 26ms/step - loss: 0.1820 - accuracy: 0.9318 - val_loss: 0.3049 - val_accuracy: 0.8801\n",
      "Epoch 6/20\n",
      "938/938 [==============================] - 24s 26ms/step - loss: 0.1687 - accuracy: 0.9361 - val_loss: 0.2607 - val_accuracy: 0.8962\n",
      "Epoch 7/20\n",
      "938/938 [==============================] - 25s 26ms/step - loss: 0.1629 - accuracy: 0.9397 - val_loss: 0.2611 - val_accuracy: 0.8965\n",
      "Epoch 8/20\n",
      "938/938 [==============================] - 24s 26ms/step - loss: 0.1587 - accuracy: 0.9401 - val_loss: 0.2843 - val_accuracy: 0.8886\n",
      "Epoch 9/20\n",
      "938/938 [==============================] - 24s 26ms/step - loss: 0.1507 - accuracy: 0.9435 - val_loss: 0.2836 - val_accuracy: 0.8882\n",
      "Epoch 10/20\n",
      "938/938 [==============================] - 24s 26ms/step - loss: 0.1447 - accuracy: 0.9469 - val_loss: 0.2910 - val_accuracy: 0.8888\n",
      "Epoch 11/20\n",
      "938/938 [==============================] - 24s 26ms/step - loss: 0.1403 - accuracy: 0.9480 - val_loss: 0.3338 - val_accuracy: 0.8702\n",
      "Epoch 12/20\n",
      "938/938 [==============================] - 24s 26ms/step - loss: 0.1388 - accuracy: 0.9482 - val_loss: 0.3275 - val_accuracy: 0.8803\n",
      "Epoch 13/20\n",
      "938/938 [==============================] - 24s 25ms/step - loss: 0.1303 - accuracy: 0.9535 - val_loss: 0.4203 - val_accuracy: 0.8443\n",
      "Epoch 14/20\n",
      "938/938 [==============================] - 25s 27ms/step - loss: 0.1267 - accuracy: 0.9523 - val_loss: 0.3162 - val_accuracy: 0.8847\n",
      "Epoch 15/20\n",
      "938/938 [==============================] - 25s 27ms/step - loss: 0.1232 - accuracy: 0.9548 - val_loss: 0.3116 - val_accuracy: 0.8850\n",
      "Epoch 16/20\n",
      "938/938 [==============================] - 25s 26ms/step - loss: 0.1150 - accuracy: 0.9582 - val_loss: 0.3998 - val_accuracy: 0.8628\n",
      "Epoch 17/20\n",
      "938/938 [==============================] - 25s 27ms/step - loss: 0.1092 - accuracy: 0.9587 - val_loss: 0.3534 - val_accuracy: 0.8778\n",
      "Epoch 18/20\n",
      "938/938 [==============================] - 25s 27ms/step - loss: 0.1080 - accuracy: 0.9603 - val_loss: 0.3578 - val_accuracy: 0.8765\n",
      "Epoch 19/20\n",
      "938/938 [==============================] - 25s 26ms/step - loss: 0.1040 - accuracy: 0.9620 - val_loss: 0.3576 - val_accuracy: 0.8754\n",
      "Epoch 20/20\n",
      "938/938 [==============================] - 25s 26ms/step - loss: 0.0998 - accuracy: 0.9648 - val_loss: 0.4044 - val_accuracy: 0.8693\n"
     ]
    }
   ],
   "source": [
    "model.compile(optimizer=\"rmsprop\", loss=\"binary_crossentropy\", metrics=[\"accuracy\"])\n",
    "history = model.fit(x_train, y_train, batch_size=batch_size, epochs=20, validation_data=(x_val, y_val))"
   ]
  },
  {
   "cell_type": "code",
   "execution_count": 41,
   "metadata": {
    "colab": {
     "base_uri": "https://localhost:8080/",
     "height": 318
    },
    "id": "dKBVw5mHv_oX",
    "outputId": "01b16817-5689-4137-d46b-8275b712e986"
   },
   "outputs": [
    {
     "data": {
      "image/png": "[encoded data removed]",
      "text/plain": [
       "<Figure size 432x288 with 1 Axes>"
      ]
     },
     "metadata": {
      "needs_background": "light"
     },
     "output_type": "display_data"
    },
    {
     "name": "stdout",
     "output_type": "stream",
     "text": [
      "313/313 [==============================] - 2s 5ms/step - loss: 0.3792 - accuracy: 0.8778\n",
      "Test Accuracy = 0.88\n"
     ]
    }
   ],
   "source": [
    "plot_hist_classif(history)\n",
    "print('Test Accuracy = %.2f' % model.evaluate(x_test, y_test)[1])  # overfitting!"
   ]
  },
  {
   "cell_type": "code",
   "execution_count": 42,
   "metadata": {
    "colab": {
     "base_uri": "https://localhost:8080/"
    },
    "id": "Ieh7Wl9Pwh8V",
    "outputId": "7e4d2bbc-b62c-407d-ee81-e5d62d9caa3a"
   },
   "outputs": [
    {
     "name": "stdout",
     "output_type": "stream",
     "text": [
      "Model: \"sequential_6\"\n",
      "_________________________________________________________________\n",
      " Layer (type)                Output Shape              Param #   \n",
      "=================================================================\n",
      " embedding_1 (Embedding)     (None, None, 64)          960000    \n",
      "                                                                 \n",
      " lstm_4 (LSTM)               (None, 128)               98816     \n",
      "                                                                 \n",
      " dropout_4 (Dropout)         (None, 128)               0         \n",
      "                                                                 \n",
      " dense_9 (Dense)             (None, 1)                 129       \n",
      "                                                                 \n",
      "=================================================================\n",
      "Total params: 1,058,945\n",
      "Trainable params: 1,058,945\n",
      "Non-trainable params: 0\n",
      "_________________________________________________________________\n"
     ]
    }
   ],
   "source": [
    "# Let's try an RNN\n",
    "model = models.Sequential()\n",
    "model.add(layers.Embedding(max_features, 64))\n",
    "model.add(layers.LSTM(128, return_sequences=False))\n",
    "model.add(layers.Dropout(0.5))\n",
    "model.add(layers.Dense(1, activation=\"sigmoid\"))\n",
    "model.compile(optimizer=\"rmsprop\", loss=\"binary_crossentropy\", metrics=[\"accuracy\"])\n",
    "model.summary()"
   ]
  },
  {
   "cell_type": "code",
   "execution_count": 43,
   "metadata": {
    "colab": {
     "base_uri": "https://localhost:8080/",
     "height": 561
    },
    "id": "Sd54xZMmxKBQ",
    "outputId": "96c092e9-eea3-4080-b720-31885daecd83"
   },
   "outputs": [
    {
     "name": "stdout",
     "output_type": "stream",
     "text": [
      "Epoch 1/20\n",
      "938/938 [==============================] - 172s 182ms/step - loss: 0.4273 - accuracy: 0.8117 - val_loss: 0.3078 - val_accuracy: 0.8783\n",
      "Epoch 2/20\n",
      "938/938 [==============================] - 172s 184ms/step - loss: 0.2825 - accuracy: 0.8927 - val_loss: 0.3253 - val_accuracy: 0.8682\n",
      "Epoch 3/20\n",
      "938/938 [==============================] - 177s 189ms/step - loss: 0.2452 - accuracy: 0.9087 - val_loss: 0.2623 - val_accuracy: 0.8922\n",
      "Epoch 4/20\n",
      "938/938 [==============================] - 178s 190ms/step - loss: 0.2109 - accuracy: 0.9221 - val_loss: 0.3064 - val_accuracy: 0.8774\n",
      "Epoch 5/20\n",
      "938/938 [==============================] - 176s 188ms/step - loss: 0.1880 - accuracy: 0.9335 - val_loss: 0.2453 - val_accuracy: 0.9040\n",
      "Epoch 6/20\n",
      "938/938 [==============================] - 177s 189ms/step - loss: 0.1707 - accuracy: 0.9391 - val_loss: 0.2989 - val_accuracy: 0.9054\n",
      "Epoch 7/20\n",
      "938/938 [==============================] - 171s 182ms/step - loss: 0.1535 - accuracy: 0.9470 - val_loss: 0.2855 - val_accuracy: 0.8961\n",
      "Epoch 8/20\n",
      "938/938 [==============================] - 170s 181ms/step - loss: 0.1341 - accuracy: 0.9544 - val_loss: 0.2658 - val_accuracy: 0.8986\n"
     ]
    },
    {
     "data": {
      "image/png": "[encoded data removed]",
      "text/plain": [
       "<Figure size 432x288 with 1 Axes>"
      ]
     },
     "metadata": {
      "needs_background": "light"
     },
     "output_type": "display_data"
    },
    {
     "name": "stdout",
     "output_type": "stream",
     "text": [
      "313/313 [==============================] - 16s 52ms/step - loss: 0.2651 - accuracy: 0.8994\n",
      "Test Accuracy = 0.90\n"
     ]
    }
   ],
   "source": [
    "# This model will take a long time to train, so we add an early stopping criterion\n",
    "# N.B: It's actually much faster to train WITHOUT A GPU!!\n",
    "callbacks = [EarlyStopping(monitor='val_accuracy', patience=2)]\n",
    "history = model.fit(x_train, y_train, batch_size=batch_size, epochs=20, validation_data=(x_val, y_val), callbacks=callbacks)\n",
    "plot_hist_classif(history)\n",
    "print('Test Accuracy = %.2f' % model.evaluate(x_test, y_test)[1])\n",
    "# Note that we're still overfitting, but this is just an example of use"
   ]
  },
  {
   "cell_type": "markdown",
   "metadata": {
    "id": "kzZhXm5gkz_g"
   },
   "source": [
    "## Your turn!\n",
    "\n",
    "Implement a bidirectional RNN that can outperform the LSTM model we had above.\n",
    "\n",
    "A starting skeleton could be:\n",
    " \n",
    "*   Embedding layer with an output dimension of 64\n",
    "*   Bidirectional layer with a 32-neuron LSTM layer\n",
    "*   Dense layer with 1 neuron and a sigmoid activation\n",
    "\n",
    "Some suggestions:\n",
    "\n",
    "- Change the sizes of the layers (i.e., the numbers of neurons)\n",
    "- Add dropout\n",
    "- Add other recurrent and/or bidirectional layers\n",
    "\n",
    "Once you have a model that scores over 90% on the validation set, check its performance on the test set and upload it on the code checker in Moodle.\n",
    "\n",
    "Note that the model I'm suggesting above will be able to reach the desired performance, but it will show signs of overfitting. Can you do it by adding regularization (dropout, smaller network) so you don't overfit?\n"
   ]
  },
  {
   "cell_type": "code",
   "execution_count": 51,
   "metadata": {
    "id": "jCHOC7dyadaj"
   },
   "outputs": [
    {
     "name": "stdout",
     "output_type": "stream",
     "text": [
      "Model: \"sequential_12\"\n",
      "_________________________________________________________________\n",
      " Layer (type)                Output Shape              Param #   \n",
      "=================================================================\n",
      " embedding_7 (Embedding)     (None, 500, 64)           960000    \n",
      "                                                                 \n",
      " bidirectional_19 (Bidirecti  (None, 500, 256)         197632    \n",
      " onal)                                                           \n",
      "                                                                 \n",
      " dropout_24 (Dropout)        (None, 500, 256)          0         \n",
      "                                                                 \n",
      " bidirectional_20 (Bidirecti  (None, 500, 128)         164352    \n",
      " onal)                                                           \n",
      "                                                                 \n",
      " dropout_25 (Dropout)        (None, 500, 128)          0         \n",
      "                                                                 \n",
      " bidirectional_21 (Bidirecti  (None, 500, 64)          41216     \n",
      " onal)                                                           \n",
      "                                                                 \n",
      " dropout_26 (Dropout)        (None, 500, 64)           0         \n",
      "                                                                 \n",
      " bidirectional_22 (Bidirecti  (None, 64)               24832     \n",
      " onal)                                                           \n",
      "                                                                 \n",
      " dropout_27 (Dropout)        (None, 64)                0         \n",
      "                                                                 \n",
      " dense_15 (Dense)            (None, 1)                 65        \n",
      "                                                                 \n",
      "=================================================================\n",
      "Total params: 1,388,097\n",
      "Trainable params: 1,388,097\n",
      "Non-trainable params: 0\n",
      "_________________________________________________________________\n",
      "None\n",
      "Epoch 1/15\n",
      "938/938 [==============================] - 1131s 1s/step - loss: 0.4697 - accuracy: 0.7842 - val_loss: 0.6686 - val_accuracy: 0.7531\n",
      "Epoch 2/15\n",
      "938/938 [==============================] - 1155s 1s/step - loss: 0.3131 - accuracy: 0.8778 - val_loss: 0.2867 - val_accuracy: 0.8853\n",
      "Epoch 3/15\n",
      "938/938 [==============================] - 1165s 1s/step - loss: 0.2505 - accuracy: 0.9065 - val_loss: 0.2965 - val_accuracy: 0.8893\n",
      "Epoch 4/15\n",
      "938/938 [==============================] - 1176s 1s/step - loss: 0.2065 - accuracy: 0.9272 - val_loss: 0.2528 - val_accuracy: 0.9050\n",
      "Epoch 5/15\n",
      "938/938 [==============================] - 1175s 1s/step - loss: 0.1744 - accuracy: 0.9373 - val_loss: 0.2851 - val_accuracy: 0.8997\n"
     ]
    },
    {
     "data": {
      "image/png": "[encoded data removed]",
      "text/plain": [
       "<Figure size 432x288 with 1 Axes>"
      ]
     },
     "metadata": {
      "needs_background": "light"
     },
     "output_type": "display_data"
    },
    {
     "name": "stdout",
     "output_type": "stream",
     "text": [
      "313/313 [==============================] - 312s 987ms/step - loss: 0.2488 - accuracy: 0.9063\n",
      "Test Accuracy = 0.91\n"
     ]
    }
   ],
   "source": [
    "n_ = 15  # number of epochs. You can edit this\n",
    "\n",
    "model = models.Sequential()\n",
    "# YOUR CODE HERE!\n",
    "\n",
    "model.add(layers.Embedding(max_features, 64, input_length=maxlen))\n",
    "model.add(layers.Bidirectional(layers.LSTM(128, return_sequences=True)))\n",
    "model.add(layers.Dropout(0.3))\n",
    "model.add(layers.Bidirectional(layers.LSTM(64, return_sequences=True)))\n",
    "model.add(layers.Dropout(0.4))\n",
    "model.add(layers.Bidirectional(layers.LSTM(32, return_sequences=True)))\n",
    "model.add(layers.Dropout(0.5))\n",
    "model.add(layers.Bidirectional(layers.LSTM(32)))\n",
    "model.add(layers.Dropout(0.5))\n",
    "model.add(layers.Dense(1, activation=\"sigmoid\"))\n",
    "\n",
    "# I DON'T RECOMMEND THAT YOU CHANGE CODE AFTER THIS POINT\n",
    "model.compile(optimizer=\"rmsprop\", loss=\"binary_crossentropy\", metrics=[\"accuracy\"])\n",
    "\n",
    "print(model.summary())\n",
    "\n",
    "# This model will take a long time to train, so we add an early stopping criterion\n",
    "# I've also added a ModelCheckpoint that will save the best model according to val_accuracy regardless of whether we continue training\n",
    "callbacks = [EarlyStopping(monitor='val_accuracy', patience=1),\n",
    "             ModelCheckpoint(\"model.keras\", save_best_only=True, monitor=\"val_accuracy\", mode='max')]\n",
    "\n",
    "history = model.fit(x_train, y_train, batch_size=batch_size, epochs=n_, \n",
    "                    validation_data=(x_val, y_val), \n",
    "                    callbacks=callbacks)\n",
    "plot_hist_classif(history)\n",
    "model = keras.models.load_model(\"model.keras\")\n",
    "print('Test Accuracy = %.2f' % model.evaluate(x_test, y_test)[1])"
   ]
  },
  {
   "cell_type": "code",
   "execution_count": 54,
   "metadata": {
    "id": "ZFBmg66_CR7y"
   },
   "outputs": [
    {
     "name": "stdout",
     "output_type": "stream",
     "text": [
      "Due to memory constraints on Moodle, the lab quiz has a 10MB limit on your model size, so you need to use a smaller model to validate through the auto-marker.\n",
      "Accuracy is below the threshold!\n"
     ]
    },
    {
     "ename": "Exception",
     "evalue": "Your model isn't accurate enough to pass the progress checker!",
     "output_type": "error",
     "traceback": [
      "\u001b[1;31m---------------------------------------------------------------------------\u001b[0m",
      "\u001b[1;31mException\u001b[0m                                 Traceback (most recent call last)",
      "\u001b[1;32m<ipython-input-54-bae412f1f1e4>\u001b[0m in \u001b[0;36m<module>\u001b[1;34m\u001b[0m\n\u001b[0;32m      7\u001b[0m \u001b[1;32melse\u001b[0m\u001b[1;33m:\u001b[0m\u001b[1;33m\u001b[0m\u001b[1;33m\u001b[0m\u001b[0m\n\u001b[0;32m      8\u001b[0m     \u001b[0mprint\u001b[0m\u001b[1;33m(\u001b[0m\u001b[1;34m\"Accuracy is below the threshold!\"\u001b[0m\u001b[1;33m)\u001b[0m\u001b[1;33m\u001b[0m\u001b[1;33m\u001b[0m\u001b[0m\n\u001b[1;32m----> 9\u001b[1;33m     \u001b[1;32mraise\u001b[0m \u001b[0mException\u001b[0m\u001b[1;33m(\u001b[0m\u001b[1;34m\"Your model isn't accurate enough to pass the progress checker!\"\u001b[0m\u001b[1;33m)\u001b[0m\u001b[1;33m\u001b[0m\u001b[1;33m\u001b[0m\u001b[0m\n\u001b[0m\u001b[0;32m     10\u001b[0m \u001b[1;31m# Save the model into a local folder\u001b[0m\u001b[1;33m\u001b[0m\u001b[1;33m\u001b[0m\u001b[1;33m\u001b[0m\u001b[0m\n\u001b[0;32m     11\u001b[0m \u001b[0mkeras\u001b[0m\u001b[1;33m.\u001b[0m\u001b[0mmodels\u001b[0m\u001b[1;33m.\u001b[0m\u001b[0msave_model\u001b[0m\u001b[1;33m(\u001b[0m\u001b[0mmodel\u001b[0m\u001b[1;33m,\u001b[0m \u001b[1;34m\"Model.h5\"\u001b[0m\u001b[1;33m,\u001b[0m\u001b[0msave_format\u001b[0m\u001b[1;33m=\u001b[0m\u001b[1;34m'h5'\u001b[0m\u001b[1;33m)\u001b[0m\u001b[1;33m\u001b[0m\u001b[1;33m\u001b[0m\u001b[0m\n",
      "\u001b[1;31mException\u001b[0m: Your model isn't accurate enough to pass the progress checker!"
     ]
    }
   ],
   "source": [
    "if model.count_params() > 1000000:\n",
    "    print(\"Due to memory constraints on Moodle, the lab quiz has a 10MB limit on your model size, so you need to use a smaller model to validate through the auto-marker.\")\n",
    "\n",
    "if history.history[\"val_accuracy\"][-1] > 0.9:\n",
    "    print(\"Your model is accurate enough!\")\n",
    "\n",
    "else:\n",
    "    print(\"Accuracy is below the threshold!\")\n",
    "    raise Exception(\"Your model isn't accurate enough to pass the progress checker!\")\n",
    "# Save the model into a local folder\n",
    "keras.models.save_model(model, \"Model.h5\",save_format='h5')\n",
    "print('Model saved! You can now upload it to the lab quiz.')"
   ]
  },
  {
   "cell_type": "code",
   "execution_count": null,
   "metadata": {},
   "outputs": [],
   "source": []
  }
 ],
 "metadata": {
  "colab": {
   "collapsed_sections": [
    "WlhjIvZR_a0Q",
    "rloJamyvWPWj",
    "7c-duA1Z_a0R",
    "3ozUAZX__a0R"
   ],
   "include_colab_link": true,
   "name": "rnn.ipynb",
   "provenance": []
  },
  "kernelspec": {
   "display_name": "Python 3",
   "language": "python",
   "name": "python3"
  },
  "language_info": {
   "codemirror_mode": {
    "name": "ipython",
    "version": 3
   },
   "file_extension": ".py",
   "mimetype": "text/x-python",
   "name": "python",
   "nbconvert_exporter": "python",
   "pygments_lexer": "ipython3",
   "version": "3.8.8"
  }
 },
 "nbformat": 4,
 "nbformat_minor": 1
}
