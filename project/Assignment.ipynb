{
 "cells": [
  {
   "cell_type": "code",
   "execution_count": 1,
   "id": "58152f23",
   "metadata": {},
   "outputs": [],
   "source": [
    "import pandas as pd\n",
    "import matplotlib.pyplot as plt\n",
    "import numpy as np\n",
    "import seaborn as sns\n",
    "from sklearn import preprocessing\n",
    "\n",
    "from sklearn.model_selection import StratifiedKFold\n",
    "from sklearn.ensemble import RandomForestClassifier\n",
    "\n",
    "from sklearn.metrics import accuracy_score\n",
    "from sklearn.cluster import KMeans\n",
    "from sklearn.metrics import confusion_matrix, ConfusionMatrixDisplay, silhouette_score, pairwise_distances"
   ]
  },
  {
   "cell_type": "code",
   "execution_count": 2,
   "id": "3dd3eab1",
   "metadata": {},
   "outputs": [],
   "source": [
    "# Functions used in the code\n",
    "def class_balance(df_temp, target_col):\n",
    "    sns.countplot(x=df_temp[target_col])\n",
    "    column_values = df_temp[target_col].values.ravel()\n",
    "    unique_values = pd.unique(column_values)\n",
    "    for value in unique_values:\n",
    "        print(value,\":\",(len(df_temp.loc[df_temp[target_col] == value]) / len(df_temp)) * 100, \"%\")\n",
    "    return (len(df_temp.loc[df_temp[target_col] == value]) / len(df_temp)) * 100\n",
    "def train_test_model(RF_classifier, stratified_kfolds, features, labels):\n",
    "    actual_class = np.empty([0], dtype=int)\n",
    "    predicted_class = np.empty([0], dtype=int)\n",
    "    \n",
    "    for train_index, test_index in stratified_kfolds.split(features, labels):\n",
    "        RF_classifier.fit(features.iloc[train_index], labels.iloc[train_index])\n",
    "\n",
    "        actual_class = np.append(actual_class, labels.iloc[test_index])\n",
    "        predicted_class = np.append(predicted_class, RF_classifier.predict(features.iloc[test_index]))\n",
    "    \n",
    "    return actual_class, predicted_class\n",
    "\n",
    "def features_labels(dataset, label_column):\n",
    "    return dataset.drop(label_column, axis=1), dataset[label_column]\n",
    "\n",
    "def calculate_confusion_matrix(actual_class, predicted_class, labels):\n",
    "    matrix = confusion_matrix(actual_class, predicted_class, labels=labels)\n",
    "    confusion_matrix_display = ConfusionMatrixDisplay(confusion_matrix=matrix, display_labels=labels)\n",
    "    fig, ax = plt.subplots(figsize=(8,8))\n",
    "    confusion_matrix_display.plot(cmap=plt.cm.Blues, ax=ax)\n",
    "\n",
    "\n",
    "def elbowMethodResult(features):\n",
    "    k_metrices = {}\n",
    "    for k in range(2, 11):\n",
    "        kmean_classifier = KMeans(n_clusters=k).fit(features)\n",
    "        k_metrices[k] = kmean_classifier.inertia_\n",
    "    \n",
    "    plot_Kmeans_Data(k_metrices, technique=\"Elbow Method\")\n",
    "        \n",
    "\n",
    "def avgSilhouteMethodResult(features):\n",
    "    k_metrices = {}\n",
    "    for k in range(2, 11):\n",
    "        kmean_classifier = KMeans(n_clusters=k)\n",
    "        kmean_cluster = kmean_classifier.fit_predict(features)\n",
    "        avg_score = silhouette_score(features, kmean_cluster)\n",
    "        \n",
    "        k_metrices[k] = avg_score\n",
    "    \n",
    "    plot_Kmeans_Data(k_metrices, technique=\"Silhoute Method\")\n",
    "    \n",
    "def plot_Kmeans_Data(metrics_info, technique=\"\"):\n",
    "\n",
    "    k_values = [k for k, _ in metrics_info.items()]\n",
    "    k_scores = [score for _, score in metrics_info.items()]\n",
    "\n",
    "    fig, ax = plt.subplots(figsize=(15, 5))\n",
    "    ax.plot(k_values, k_scores, color=\"red\", marker='o')\n",
    "\n",
    "    plt.xlabel(\"number of Clusters\")\n",
    "    plt.ylabel(\"score\")\n",
    "    ax.set_title(f\"{technique} for finding best value of K\")\n",
    "    ax.set_xticks(k_values)\n",
    "    \n",
    "    ax.grid(color=\"grey\", linestyle='-', linewidth=0.3, alpha=0.85)\n",
    "    \n",
    "def ClusterInformation(kMeansClf, features, labels, distance_threshold):\n",
    "    clusters_closets = pairwise_distances(kMeansClf.cluster_centers_, features)\n",
    "    cluster_details = []\n",
    "    \n",
    "    for cluster in range(kMeansClf.n_clusters):\n",
    "        cluster_detailed_info = {}\n",
    "        data_indices_in_cluster = []\n",
    "        index = 0\n",
    "        cluster_detailed_info[\"K\"] = cluster + 1\n",
    "        cluster_detailed_info[\"centroid\"] = kMeansClf.cluster_centers_[cluster]\n",
    "\n",
    "        for point in clusters_closets[cluster]:\n",
    "            if point <= distance_threshold:\n",
    "                data_indices_in_cluster.append(index)\n",
    "            index += 1\n",
    "\n",
    "        #Unique Classes in cluster\n",
    "        labels_data = labels.iloc[data_indices_in_cluster]\n",
    "        unique_classes = np.unique(labels_data)\n",
    "        cluster_detailed_info[\"total_classes\"] = unique_classes\n",
    "        try:\n",
    "            if len(unique_classes) > 1:\n",
    "                labels_info = {}\n",
    "                for label in unique_classes:\n",
    "                    labels_info[label] = len(labels_data[labels_data == label])\n",
    "                labels_info = sorted(labels_info.items(), key=lambda x:x[1])\n",
    "\n",
    "                cluster_detailed_info[\"minority_class\"] = labels_info[0][0]\n",
    "                cluster_detailed_info[\"minority_class_count\"] = labels_info[0][1]\n",
    "\n",
    "                features_data = features.iloc[data_indices_in_cluster]\n",
    "\n",
    "                classifier = trainRandomForestClassifier(features_data, labels_data)\n",
    "                cluster_detailed_info[\"classifier\"] = classifier\n",
    "\n",
    "            else:\n",
    "                cluster_detailed_info[\"minority_class\"] = unique_classes[0]\n",
    "                cluster_detailed_info[\"minority_class_count\"] = len(labels_data)\n",
    "                cluster_detailed_info[\"classifier\"] = None\n",
    "        \n",
    "        except Exception:\n",
    "            pass\n",
    "\n",
    "        cluster_details.append(cluster_detailed_info)\n",
    "        \n",
    "    return cluster_details\n",
    "\n",
    "def UnseenFoldPrediction(kMeansClf, unseen_fold_features, distance_threshold):\n",
    "    predicted_labels = []\n",
    "    for feature in unseen_fold_features.to_numpy():\n",
    "        cluster_distances = pairwise_distances(kMeansClf.cluster_centers_, feature.reshape(1,-1))\n",
    "        close_clusters = {}\n",
    "        \n",
    "        for cluster in range(len(cluster_distances)):\n",
    "            if cluster_distances[cluster] <= distance_threshold:\n",
    "                close_clusters[cluster] = cluster_distances[cluster]\n",
    "\n",
    "        try:\n",
    "            choosen_cluster = sorted(close_clusters.items(), key=lambda x:x[1])[0]\n",
    "            if len(cluster_details[choosen_cluster[0]][\"total_classes\"]) > 1:\n",
    "                predicted_labels.append(cluster_details[choosen_cluster[0]][\"classifier\"].predict(feature.reshape(1,-1)))\n",
    "            else:\n",
    "                predicted_labels.append(cluster_details[choosen_cluster[0]][\"minority_class\"])\n",
    "        except Exception:\n",
    "            predicted_labels.append(cluster_details[0][\"minority_class\"])\n",
    "    \n",
    "    return predicted_labels\n",
    "\n",
    "def CleanPredictions(predictions):\n",
    "    cleaned_pred = []\n",
    "    for pred in predictions:\n",
    "        try:\n",
    "            if type(pred) == list or len(pred) > 0:\n",
    "                cleaned_pred.append(pred[0])\n",
    "            else:\n",
    "                cleaned_pred.append(pred)\n",
    "        except:\n",
    "            cleaned_pred.append(pred)\n",
    "            \n",
    "    return cleaned_pred\n",
    "\n",
    "def ClusterInformation(kMeansClf, features, labels, distance_threshold):\n",
    "    clusters_closets = pairwise_distances(kMeansClf.cluster_centers_, features)\n",
    "    cluster_details = []\n",
    "    \n",
    "    for cluster in range(kMeansClf.n_clusters):\n",
    "        cluster_detailed_info = {}\n",
    "        data_indices_in_cluster = []\n",
    "        index = 0\n",
    "        cluster_detailed_info[\"K\"] = cluster + 1\n",
    "        cluster_detailed_info[\"centroid\"] = kMeansClf.cluster_centers_[cluster]\n",
    "\n",
    "        for point in clusters_closets[cluster]:\n",
    "            if point <= distance_threshold:\n",
    "                data_indices_in_cluster.append(index)\n",
    "            index += 1\n",
    "\n",
    "        #Unique Classes in cluster\n",
    "        labels_data = labels.iloc[data_indices_in_cluster]\n",
    "        print(labels_data)\n",
    "        unique_classes = np.unique(labels_data)\n",
    "        cluster_detailed_info[\"total_classes\"] = unique_classes\n",
    "        \n",
    "        print(len(unique_classes))\n",
    "        try:\n",
    "            if len(unique_classes) > 1:\n",
    "                labels_info = {}\n",
    "                for label in unique_classes:\n",
    "                    labels_info[label] = len(labels_data[labels_data == label])\n",
    "                labels_info = sorted(labels_info.items(), key=lambda x:x[1])\n",
    "\n",
    "                cluster_detailed_info[\"minority_class\"] = labels_info[0][0]\n",
    "                cluster_detailed_info[\"minority_class_count\"] = labels_info[0][1]\n",
    "\n",
    "                features_data = features.iloc[data_indices_in_cluster]\n",
    "\n",
    "                classifier = trainRandomForestClassifier(features_data, labels_data)\n",
    "                cluster_detailed_info[\"classifier\"] = classifier\n",
    "\n",
    "            else:\n",
    "                cluster_detailed_info[\"minority_class\"] = unique_classes[0]\n",
    "                cluster_detailed_info[\"minority_class_count\"] = len(labels_data)\n",
    "                cluster_detailed_info[\"classifier\"] = None\n",
    "        \n",
    "        except Exception:\n",
    "            pass\n",
    "\n",
    "        cluster_details.append(cluster_detailed_info)\n",
    "        \n",
    "    return cluster_details"
   ]
  },
  {
   "cell_type": "code",
   "execution_count": 3,
   "id": "c1400041",
   "metadata": {},
   "outputs": [],
   "source": [
    "stratified_kfolds = StratifiedKFold(n_splits=10, random_state=42, shuffle=True)\n",
    "randomForestClassifier = RandomForestClassifier(n_estimators=10, criterion='gini', max_depth=6)"
   ]
  },
  {
   "cell_type": "markdown",
   "id": "2473cd9d",
   "metadata": {},
   "source": [
    "### Heart Attack Analysis & Prediction Dataset"
   ]
  },
  {
   "cell_type": "code",
   "execution_count": 4,
   "id": "76352db7",
   "metadata": {},
   "outputs": [
    {
     "data": {
      "text/html": [
       "<div>\n",
       "<style scoped>\n",
       "    .dataframe tbody tr th:only-of-type {\n",
       "        vertical-align: middle;\n",
       "    }\n",
       "\n",
       "    .dataframe tbody tr th {\n",
       "        vertical-align: top;\n",
       "    }\n",
       "\n",
       "    .dataframe thead th {\n",
       "        text-align: right;\n",
       "    }\n",
       "</style>\n",
       "<table border=\"1\" class=\"dataframe\">\n",
       "  <thead>\n",
       "    <tr style=\"text-align: right;\">\n",
       "      <th></th>\n",
       "      <th>age</th>\n",
       "      <th>sex</th>\n",
       "      <th>cp</th>\n",
       "      <th>trtbps</th>\n",
       "      <th>chol</th>\n",
       "      <th>fbs</th>\n",
       "      <th>restecg</th>\n",
       "      <th>thalachh</th>\n",
       "      <th>exng</th>\n",
       "      <th>oldpeak</th>\n",
       "      <th>slp</th>\n",
       "      <th>caa</th>\n",
       "      <th>thall</th>\n",
       "      <th>output</th>\n",
       "    </tr>\n",
       "  </thead>\n",
       "  <tbody>\n",
       "    <tr>\n",
       "      <th>0</th>\n",
       "      <td>63</td>\n",
       "      <td>1</td>\n",
       "      <td>3</td>\n",
       "      <td>145</td>\n",
       "      <td>233</td>\n",
       "      <td>1</td>\n",
       "      <td>0</td>\n",
       "      <td>150</td>\n",
       "      <td>0</td>\n",
       "      <td>2.3</td>\n",
       "      <td>0</td>\n",
       "      <td>0</td>\n",
       "      <td>1</td>\n",
       "      <td>1</td>\n",
       "    </tr>\n",
       "    <tr>\n",
       "      <th>1</th>\n",
       "      <td>37</td>\n",
       "      <td>1</td>\n",
       "      <td>2</td>\n",
       "      <td>130</td>\n",
       "      <td>250</td>\n",
       "      <td>0</td>\n",
       "      <td>1</td>\n",
       "      <td>187</td>\n",
       "      <td>0</td>\n",
       "      <td>3.5</td>\n",
       "      <td>0</td>\n",
       "      <td>0</td>\n",
       "      <td>2</td>\n",
       "      <td>1</td>\n",
       "    </tr>\n",
       "    <tr>\n",
       "      <th>2</th>\n",
       "      <td>41</td>\n",
       "      <td>0</td>\n",
       "      <td>1</td>\n",
       "      <td>130</td>\n",
       "      <td>204</td>\n",
       "      <td>0</td>\n",
       "      <td>0</td>\n",
       "      <td>172</td>\n",
       "      <td>0</td>\n",
       "      <td>1.4</td>\n",
       "      <td>2</td>\n",
       "      <td>0</td>\n",
       "      <td>2</td>\n",
       "      <td>1</td>\n",
       "    </tr>\n",
       "    <tr>\n",
       "      <th>3</th>\n",
       "      <td>56</td>\n",
       "      <td>1</td>\n",
       "      <td>1</td>\n",
       "      <td>120</td>\n",
       "      <td>236</td>\n",
       "      <td>0</td>\n",
       "      <td>1</td>\n",
       "      <td>178</td>\n",
       "      <td>0</td>\n",
       "      <td>0.8</td>\n",
       "      <td>2</td>\n",
       "      <td>0</td>\n",
       "      <td>2</td>\n",
       "      <td>1</td>\n",
       "    </tr>\n",
       "    <tr>\n",
       "      <th>4</th>\n",
       "      <td>57</td>\n",
       "      <td>0</td>\n",
       "      <td>0</td>\n",
       "      <td>120</td>\n",
       "      <td>354</td>\n",
       "      <td>0</td>\n",
       "      <td>1</td>\n",
       "      <td>163</td>\n",
       "      <td>1</td>\n",
       "      <td>0.6</td>\n",
       "      <td>2</td>\n",
       "      <td>0</td>\n",
       "      <td>2</td>\n",
       "      <td>1</td>\n",
       "    </tr>\n",
       "    <tr>\n",
       "      <th>5</th>\n",
       "      <td>57</td>\n",
       "      <td>1</td>\n",
       "      <td>0</td>\n",
       "      <td>140</td>\n",
       "      <td>192</td>\n",
       "      <td>0</td>\n",
       "      <td>1</td>\n",
       "      <td>148</td>\n",
       "      <td>0</td>\n",
       "      <td>0.4</td>\n",
       "      <td>1</td>\n",
       "      <td>0</td>\n",
       "      <td>1</td>\n",
       "      <td>1</td>\n",
       "    </tr>\n",
       "    <tr>\n",
       "      <th>6</th>\n",
       "      <td>56</td>\n",
       "      <td>0</td>\n",
       "      <td>1</td>\n",
       "      <td>140</td>\n",
       "      <td>294</td>\n",
       "      <td>0</td>\n",
       "      <td>0</td>\n",
       "      <td>153</td>\n",
       "      <td>0</td>\n",
       "      <td>1.3</td>\n",
       "      <td>1</td>\n",
       "      <td>0</td>\n",
       "      <td>2</td>\n",
       "      <td>1</td>\n",
       "    </tr>\n",
       "    <tr>\n",
       "      <th>7</th>\n",
       "      <td>44</td>\n",
       "      <td>1</td>\n",
       "      <td>1</td>\n",
       "      <td>120</td>\n",
       "      <td>263</td>\n",
       "      <td>0</td>\n",
       "      <td>1</td>\n",
       "      <td>173</td>\n",
       "      <td>0</td>\n",
       "      <td>0.0</td>\n",
       "      <td>2</td>\n",
       "      <td>0</td>\n",
       "      <td>3</td>\n",
       "      <td>1</td>\n",
       "    </tr>\n",
       "    <tr>\n",
       "      <th>8</th>\n",
       "      <td>52</td>\n",
       "      <td>1</td>\n",
       "      <td>2</td>\n",
       "      <td>172</td>\n",
       "      <td>199</td>\n",
       "      <td>1</td>\n",
       "      <td>1</td>\n",
       "      <td>162</td>\n",
       "      <td>0</td>\n",
       "      <td>0.5</td>\n",
       "      <td>2</td>\n",
       "      <td>0</td>\n",
       "      <td>3</td>\n",
       "      <td>1</td>\n",
       "    </tr>\n",
       "    <tr>\n",
       "      <th>9</th>\n",
       "      <td>57</td>\n",
       "      <td>1</td>\n",
       "      <td>2</td>\n",
       "      <td>150</td>\n",
       "      <td>168</td>\n",
       "      <td>0</td>\n",
       "      <td>1</td>\n",
       "      <td>174</td>\n",
       "      <td>0</td>\n",
       "      <td>1.6</td>\n",
       "      <td>2</td>\n",
       "      <td>0</td>\n",
       "      <td>2</td>\n",
       "      <td>1</td>\n",
       "    </tr>\n",
       "  </tbody>\n",
       "</table>\n",
       "</div>"
      ],
      "text/plain": [
       "   age  sex  cp  trtbps  chol  fbs  restecg  thalachh  exng  oldpeak  slp  \\\n",
       "0   63    1   3     145   233    1        0       150     0      2.3    0   \n",
       "1   37    1   2     130   250    0        1       187     0      3.5    0   \n",
       "2   41    0   1     130   204    0        0       172     0      1.4    2   \n",
       "3   56    1   1     120   236    0        1       178     0      0.8    2   \n",
       "4   57    0   0     120   354    0        1       163     1      0.6    2   \n",
       "5   57    1   0     140   192    0        1       148     0      0.4    1   \n",
       "6   56    0   1     140   294    0        0       153     0      1.3    1   \n",
       "7   44    1   1     120   263    0        1       173     0      0.0    2   \n",
       "8   52    1   2     172   199    1        1       162     0      0.5    2   \n",
       "9   57    1   2     150   168    0        1       174     0      1.6    2   \n",
       "\n",
       "   caa  thall  output  \n",
       "0    0      1       1  \n",
       "1    0      2       1  \n",
       "2    0      2       1  \n",
       "3    0      2       1  \n",
       "4    0      2       1  \n",
       "5    0      1       1  \n",
       "6    0      2       1  \n",
       "7    0      3       1  \n",
       "8    0      3       1  \n",
       "9    0      2       1  "
      ]
     },
     "execution_count": 4,
     "metadata": {},
     "output_type": "execute_result"
    }
   ],
   "source": [
    "df1 = pd.read_csv(\"heart-attack-analysis-prediction-dataset/heart.csv\")\n",
    "df1.head(10)"
   ]
  },
  {
   "cell_type": "code",
   "execution_count": 5,
   "id": "902f7622",
   "metadata": {},
   "outputs": [
    {
     "data": {
      "text/plain": [
       "age           int64\n",
       "sex           int64\n",
       "cp            int64\n",
       "trtbps        int64\n",
       "chol          int64\n",
       "fbs           int64\n",
       "restecg       int64\n",
       "thalachh      int64\n",
       "exng          int64\n",
       "oldpeak     float64\n",
       "slp           int64\n",
       "caa           int64\n",
       "thall         int64\n",
       "output        int64\n",
       "dtype: object"
      ]
     },
     "execution_count": 5,
     "metadata": {},
     "output_type": "execute_result"
    }
   ],
   "source": [
    "df1.dtypes"
   ]
  },
  {
   "cell_type": "code",
   "execution_count": 6,
   "id": "fb257cc7",
   "metadata": {},
   "outputs": [
    {
     "data": {
      "text/plain": [
       "age         0\n",
       "sex         0\n",
       "cp          0\n",
       "trtbps      0\n",
       "chol        0\n",
       "fbs         0\n",
       "restecg     0\n",
       "thalachh    0\n",
       "exng        0\n",
       "oldpeak     0\n",
       "slp         0\n",
       "caa         0\n",
       "thall       0\n",
       "output      0\n",
       "dtype: int64"
      ]
     },
     "execution_count": 6,
     "metadata": {},
     "output_type": "execute_result"
    }
   ],
   "source": [
    "df1.isnull().sum()"
   ]
  },
  {
   "cell_type": "code",
   "execution_count": 7,
   "id": "0d8b0b4b",
   "metadata": {},
   "outputs": [
    {
     "data": {
      "text/plain": [
       "1"
      ]
     },
     "execution_count": 7,
     "metadata": {},
     "output_type": "execute_result"
    }
   ],
   "source": [
    "df1.duplicated().sum()"
   ]
  },
  {
   "cell_type": "code",
   "execution_count": 8,
   "id": "32e6bf68",
   "metadata": {},
   "outputs": [],
   "source": [
    "df1.drop_duplicates(keep = 'first', inplace = True)"
   ]
  },
  {
   "cell_type": "code",
   "execution_count": 9,
   "id": "3efa731d",
   "metadata": {},
   "outputs": [
    {
     "name": "stdout",
     "output_type": "stream",
     "text": [
      "1 : 54.3046357615894 %\n",
      "0 : 45.6953642384106 %\n"
     ]
    },
    {
     "data": {
      "text/plain": [
       "45.6953642384106"
      ]
     },
     "execution_count": 9,
     "metadata": {},
     "output_type": "execute_result"
    },
    {
     "data": {
      "image/png": "[encoded data removed]",
      "text/plain": [
       "<Figure size 432x288 with 1 Axes>"
      ]
     },
     "metadata": {
      "needs_background": "light"
     },
     "output_type": "display_data"
    }
   ],
   "source": [
    "class_balance(df1, \"output\")"
   ]
  },
  {
   "cell_type": "code",
   "execution_count": 10,
   "id": "83414db4",
   "metadata": {},
   "outputs": [
    {
     "data": {
      "image/png": "[encoded data removed]",
      "text/plain": [
       "<Figure size 576x576 with 2 Axes>"
      ]
     },
     "metadata": {
      "needs_background": "light"
     },
     "output_type": "display_data"
    }
   ],
   "source": [
    "features, labels = features_labels(df1, label_column=\"output\")\n",
    "#print(labels_df1)\n",
    "#print(features_df1)\n",
    "\n",
    "test_labels, pred_labels = train_test_model(randomForestClassifier, stratified_kfolds, features, labels)\n",
    "\n",
    "calculate_confusion_matrix(test_labels, pred_labels, labels=df1[\"output\"].unique())"
   ]
  },
  {
   "cell_type": "code",
   "execution_count": 11,
   "id": "6a329726",
   "metadata": {},
   "outputs": [],
   "source": [
    "stratified_kfolds = StratifiedKFold(n_splits=10, random_state=42, shuffle=True)\n",
    "    \n",
    "unseen_fold_train_indices = np.empty([0], dtype=int)\n",
    "unseen_fold_test_indices = np.empty([0], dtype=int)\n",
    "train_fold_indices = np.empty([0], dtype=int)\n",
    "test_fold_indices = np.empty([0], dtype=int)\n",
    "    \n",
    "kFold = 0\n",
    "for train_index, test_index in stratified_kfolds.split(features, labels):\n",
    "    if kFold == 0:\n",
    "        unseen_fold_train_indices = np.append(unseen_fold_train_indices, train_index)\n",
    "        unseen_fold_test_indices = np.append(unseen_fold_test_indices, test_index)\n",
    "    else:\n",
    "        train_fold_indices = np.append(train_fold_indices, train_index)\n",
    "        test_fold_indices = np.append(test_fold_indices, test_index)\n",
    "        \n",
    "    kFold += 1\n",
    "#print(train_fold_indices)"
   ]
  },
  {
   "cell_type": "code",
   "execution_count": 12,
   "id": "977f4e13",
   "metadata": {},
   "outputs": [],
   "source": [
    "train_features = features.iloc[train_fold_indices]\n",
    "train_labels = labels.iloc[train_fold_indices]\n",
    "\n",
    "unseen_fold_features = features.iloc[unseen_fold_train_indices]\n",
    "unseen_fold_labels = labels.iloc[unseen_fold_train_indices]"
   ]
  },
  {
   "cell_type": "code",
   "execution_count": 13,
   "id": "8389367c",
   "metadata": {},
   "outputs": [
    {
     "data": {
      "image/png": "[encoded data removed]",
      "text/plain": [
       "<Figure size 1080x360 with 1 Axes>"
      ]
     },
     "metadata": {
      "needs_background": "light"
     },
     "output_type": "display_data"
    },
    {
     "data": {
      "image/png": "[encoded data removed]",
      "text/plain": [
       "<Figure size 1080x360 with 1 Axes>"
      ]
     },
     "metadata": {
      "needs_background": "light"
     },
     "output_type": "display_data"
    }
   ],
   "source": [
    "elbowMethodResult(train_features)\n",
    "avgSilhouteMethodResult(train_features)"
   ]
  },
  {
   "cell_type": "code",
   "execution_count": 14,
   "id": "0b0f8545",
   "metadata": {},
   "outputs": [],
   "source": [
    "kmean_classifier = KMeans(n_clusters=3)\n",
    "cluster_labels = kmean_classifier.fit(train_features)"
   ]
  },
  {
   "cell_type": "code",
   "execution_count": 15,
   "id": "510b878c",
   "metadata": {},
   "outputs": [
    {
     "name": "stdout",
     "output_type": "stream",
     "text": [
      "Series([], Name: output, dtype: int64)\n",
      "0\n",
      "Series([], Name: output, dtype: int64)\n",
      "0\n",
      "Series([], Name: output, dtype: int64)\n",
      "0\n"
     ]
    },
    {
     "data": {
      "text/plain": [
       "[{'K': 1,\n",
       "  'centroid': array([5.58511586e+01, 7.08556150e-01, 1.01693405e+00, 1.34292335e+02,\n",
       "         2.54113191e+02, 1.74688057e-01, 4.12655971e-01, 1.47984848e+02,\n",
       "         3.54723708e-01, 1.03493761e+00, 1.32531194e+00, 7.72727273e-01,\n",
       "         2.37522282e+00]),\n",
       "  'total_classes': array([], dtype=int64)},\n",
       " {'K': 2,\n",
       "  'centroid': array([5.62958716e+01, 5.02293578e-01, 6.99541284e-01, 1.33004587e+02,\n",
       "         3.26045872e+02, 1.28440367e-01, 5.57339450e-01, 1.50715596e+02,\n",
       "         3.53211009e-01, 1.16926606e+00, 1.47935780e+00, 8.85321101e-01,\n",
       "         2.33486239e+00]),\n",
       "  'total_classes': array([], dtype=int64)},\n",
       " {'K': 3,\n",
       "  'centroid': array([5.18042745e+01, 7.36782902e-01, 1.02699663e+00, 1.27602925e+02,\n",
       "         1.98021372e+02, 1.28233971e-01, 6.55793026e-01, 1.50969629e+02,\n",
       "         2.83464567e-01, 9.94713161e-01, 1.44656918e+00, 5.70303712e-01,\n",
       "         2.22609674e+00]),\n",
       "  'total_classes': array([], dtype=int64)}]"
      ]
     },
     "execution_count": 15,
     "metadata": {},
     "output_type": "execute_result"
    }
   ],
   "source": [
    "cluster_details = ClusterInformation(kmean_classifier, train_features, train_labels, distance_threshold=0.43)\n",
    "cluster_details"
   ]
  },
  {
   "cell_type": "code",
   "execution_count": 16,
   "id": "384c7a0e",
   "metadata": {},
   "outputs": [
    {
     "ename": "KeyError",
     "evalue": "'minority_class'",
     "output_type": "error",
     "traceback": [
      "\u001b[1;31m---------------------------------------------------------------------------\u001b[0m",
      "\u001b[1;31mIndexError\u001b[0m                                Traceback (most recent call last)",
      "\u001b[1;32m<ipython-input-2-b6674cc5d13a>\u001b[0m in \u001b[0;36mUnseenFoldPrediction\u001b[1;34m(kMeansClf, unseen_fold_features, distance_threshold)\u001b[0m\n\u001b[0;32m    125\u001b[0m         \u001b[1;32mtry\u001b[0m\u001b[1;33m:\u001b[0m\u001b[1;33m\u001b[0m\u001b[1;33m\u001b[0m\u001b[0m\n\u001b[1;32m--> 126\u001b[1;33m             \u001b[0mchoosen_cluster\u001b[0m \u001b[1;33m=\u001b[0m \u001b[0msorted\u001b[0m\u001b[1;33m(\u001b[0m\u001b[0mclose_clusters\u001b[0m\u001b[1;33m.\u001b[0m\u001b[0mitems\u001b[0m\u001b[1;33m(\u001b[0m\u001b[1;33m)\u001b[0m\u001b[1;33m,\u001b[0m \u001b[0mkey\u001b[0m\u001b[1;33m=\u001b[0m\u001b[1;32mlambda\u001b[0m \u001b[0mx\u001b[0m\u001b[1;33m:\u001b[0m\u001b[0mx\u001b[0m\u001b[1;33m[\u001b[0m\u001b[1;36m1\u001b[0m\u001b[1;33m]\u001b[0m\u001b[1;33m)\u001b[0m\u001b[1;33m[\u001b[0m\u001b[1;36m0\u001b[0m\u001b[1;33m]\u001b[0m\u001b[1;33m\u001b[0m\u001b[1;33m\u001b[0m\u001b[0m\n\u001b[0m\u001b[0;32m    127\u001b[0m             \u001b[1;32mif\u001b[0m \u001b[0mlen\u001b[0m\u001b[1;33m(\u001b[0m\u001b[0mcluster_details\u001b[0m\u001b[1;33m[\u001b[0m\u001b[0mchoosen_cluster\u001b[0m\u001b[1;33m[\u001b[0m\u001b[1;36m0\u001b[0m\u001b[1;33m]\u001b[0m\u001b[1;33m]\u001b[0m\u001b[1;33m[\u001b[0m\u001b[1;34m\"total_classes\"\u001b[0m\u001b[1;33m]\u001b[0m\u001b[1;33m)\u001b[0m \u001b[1;33m>\u001b[0m \u001b[1;36m1\u001b[0m\u001b[1;33m:\u001b[0m\u001b[1;33m\u001b[0m\u001b[1;33m\u001b[0m\u001b[0m\n",
      "\u001b[1;31mIndexError\u001b[0m: list index out of range",
      "\nDuring handling of the above exception, another exception occurred:\n",
      "\u001b[1;31mKeyError\u001b[0m                                  Traceback (most recent call last)",
      "\u001b[1;32m<ipython-input-16-0e33463c81fc>\u001b[0m in \u001b[0;36m<module>\u001b[1;34m\u001b[0m\n\u001b[1;32m----> 1\u001b[1;33m \u001b[0mpredictions\u001b[0m \u001b[1;33m=\u001b[0m \u001b[0mUnseenFoldPrediction\u001b[0m\u001b[1;33m(\u001b[0m\u001b[0mkmean_classifier\u001b[0m\u001b[1;33m,\u001b[0m \u001b[0munseen_fold_features\u001b[0m\u001b[1;33m,\u001b[0m \u001b[1;36m0.43\u001b[0m\u001b[1;33m)\u001b[0m\u001b[1;33m\u001b[0m\u001b[1;33m\u001b[0m\u001b[0m\n\u001b[0m\u001b[0;32m      2\u001b[0m \u001b[0mpredictions\u001b[0m \u001b[1;33m=\u001b[0m \u001b[0mCleanPredictions\u001b[0m\u001b[1;33m(\u001b[0m\u001b[0mpredictions\u001b[0m\u001b[1;33m)\u001b[0m\u001b[1;33m\u001b[0m\u001b[1;33m\u001b[0m\u001b[0m\n\u001b[0;32m      3\u001b[0m \u001b[0mcalculate_confusion_matrix\u001b[0m\u001b[1;33m(\u001b[0m\u001b[0munseen_fold_labels\u001b[0m\u001b[1;33m,\u001b[0m \u001b[0mpredictions\u001b[0m\u001b[1;33m,\u001b[0m \u001b[0mlabels\u001b[0m\u001b[1;33m=\u001b[0m\u001b[0mdf1\u001b[0m\u001b[1;33m[\u001b[0m\u001b[1;34m\"output\"\u001b[0m\u001b[1;33m]\u001b[0m\u001b[1;33m.\u001b[0m\u001b[0munique\u001b[0m\u001b[1;33m(\u001b[0m\u001b[1;33m)\u001b[0m\u001b[1;33m)\u001b[0m\u001b[1;33m\u001b[0m\u001b[1;33m\u001b[0m\u001b[0m\n",
      "\u001b[1;32m<ipython-input-2-b6674cc5d13a>\u001b[0m in \u001b[0;36mUnseenFoldPrediction\u001b[1;34m(kMeansClf, unseen_fold_features, distance_threshold)\u001b[0m\n\u001b[0;32m    130\u001b[0m                 \u001b[0mpredicted_labels\u001b[0m\u001b[1;33m.\u001b[0m\u001b[0mappend\u001b[0m\u001b[1;33m(\u001b[0m\u001b[0mcluster_details\u001b[0m\u001b[1;33m[\u001b[0m\u001b[0mchoosen_cluster\u001b[0m\u001b[1;33m[\u001b[0m\u001b[1;36m0\u001b[0m\u001b[1;33m]\u001b[0m\u001b[1;33m]\u001b[0m\u001b[1;33m[\u001b[0m\u001b[1;34m\"minority_class\"\u001b[0m\u001b[1;33m]\u001b[0m\u001b[1;33m)\u001b[0m\u001b[1;33m\u001b[0m\u001b[1;33m\u001b[0m\u001b[0m\n\u001b[0;32m    131\u001b[0m         \u001b[1;32mexcept\u001b[0m \u001b[0mException\u001b[0m\u001b[1;33m:\u001b[0m\u001b[1;33m\u001b[0m\u001b[1;33m\u001b[0m\u001b[0m\n\u001b[1;32m--> 132\u001b[1;33m             \u001b[0mpredicted_labels\u001b[0m\u001b[1;33m.\u001b[0m\u001b[0mappend\u001b[0m\u001b[1;33m(\u001b[0m\u001b[0mcluster_details\u001b[0m\u001b[1;33m[\u001b[0m\u001b[1;36m0\u001b[0m\u001b[1;33m]\u001b[0m\u001b[1;33m[\u001b[0m\u001b[1;34m\"minority_class\"\u001b[0m\u001b[1;33m]\u001b[0m\u001b[1;33m)\u001b[0m\u001b[1;33m\u001b[0m\u001b[1;33m\u001b[0m\u001b[0m\n\u001b[0m\u001b[0;32m    133\u001b[0m \u001b[1;33m\u001b[0m\u001b[0m\n\u001b[0;32m    134\u001b[0m     \u001b[1;32mreturn\u001b[0m \u001b[0mpredicted_labels\u001b[0m\u001b[1;33m\u001b[0m\u001b[1;33m\u001b[0m\u001b[0m\n",
      "\u001b[1;31mKeyError\u001b[0m: 'minority_class'"
     ]
    }
   ],
   "source": [
    "predictions = UnseenFoldPrediction(kmean_classifier, unseen_fold_features, 0.43)\n",
    "predictions = CleanPredictions(predictions)\n",
    "calculate_confusion_matrix(unseen_fold_labels, predictions, labels=df1[\"output\"].unique())"
   ]
  },
  {
   "cell_type": "markdown",
   "id": "499444e0",
   "metadata": {},
   "source": [
    "### Low Imbalance (65%)"
   ]
  },
  {
   "cell_type": "code",
   "execution_count": 17,
   "id": "73631991",
   "metadata": {},
   "outputs": [],
   "source": [
    "output = df1.index[df1[\"output\"] == 0]"
   ]
  },
  {
   "cell_type": "code",
   "execution_count": 18,
   "id": "ec69bc16",
   "metadata": {},
   "outputs": [],
   "source": [
    "LID1 = df1.drop(output[:int(len(output) * 0.363)])"
   ]
  },
  {
   "cell_type": "code",
   "execution_count": 19,
   "id": "a03a3e23",
   "metadata": {},
   "outputs": [
    {
     "data": {
      "text/html": [
       "<div>\n",
       "<style scoped>\n",
       "    .dataframe tbody tr th:only-of-type {\n",
       "        vertical-align: middle;\n",
       "    }\n",
       "\n",
       "    .dataframe tbody tr th {\n",
       "        vertical-align: top;\n",
       "    }\n",
       "\n",
       "    .dataframe thead th {\n",
       "        text-align: right;\n",
       "    }\n",
       "</style>\n",
       "<table border=\"1\" class=\"dataframe\">\n",
       "  <thead>\n",
       "    <tr style=\"text-align: right;\">\n",
       "      <th></th>\n",
       "      <th>age</th>\n",
       "      <th>sex</th>\n",
       "      <th>cp</th>\n",
       "      <th>trtbps</th>\n",
       "      <th>chol</th>\n",
       "      <th>fbs</th>\n",
       "      <th>restecg</th>\n",
       "      <th>thalachh</th>\n",
       "      <th>exng</th>\n",
       "      <th>oldpeak</th>\n",
       "      <th>slp</th>\n",
       "      <th>caa</th>\n",
       "      <th>thall</th>\n",
       "      <th>output</th>\n",
       "    </tr>\n",
       "  </thead>\n",
       "  <tbody>\n",
       "    <tr>\n",
       "      <th>0</th>\n",
       "      <td>63</td>\n",
       "      <td>1</td>\n",
       "      <td>3</td>\n",
       "      <td>145</td>\n",
       "      <td>233</td>\n",
       "      <td>1</td>\n",
       "      <td>0</td>\n",
       "      <td>150</td>\n",
       "      <td>0</td>\n",
       "      <td>2.3</td>\n",
       "      <td>0</td>\n",
       "      <td>0</td>\n",
       "      <td>1</td>\n",
       "      <td>1</td>\n",
       "    </tr>\n",
       "    <tr>\n",
       "      <th>1</th>\n",
       "      <td>37</td>\n",
       "      <td>1</td>\n",
       "      <td>2</td>\n",
       "      <td>130</td>\n",
       "      <td>250</td>\n",
       "      <td>0</td>\n",
       "      <td>1</td>\n",
       "      <td>187</td>\n",
       "      <td>0</td>\n",
       "      <td>3.5</td>\n",
       "      <td>0</td>\n",
       "      <td>0</td>\n",
       "      <td>2</td>\n",
       "      <td>1</td>\n",
       "    </tr>\n",
       "    <tr>\n",
       "      <th>2</th>\n",
       "      <td>41</td>\n",
       "      <td>0</td>\n",
       "      <td>1</td>\n",
       "      <td>130</td>\n",
       "      <td>204</td>\n",
       "      <td>0</td>\n",
       "      <td>0</td>\n",
       "      <td>172</td>\n",
       "      <td>0</td>\n",
       "      <td>1.4</td>\n",
       "      <td>2</td>\n",
       "      <td>0</td>\n",
       "      <td>2</td>\n",
       "      <td>1</td>\n",
       "    </tr>\n",
       "    <tr>\n",
       "      <th>3</th>\n",
       "      <td>56</td>\n",
       "      <td>1</td>\n",
       "      <td>1</td>\n",
       "      <td>120</td>\n",
       "      <td>236</td>\n",
       "      <td>0</td>\n",
       "      <td>1</td>\n",
       "      <td>178</td>\n",
       "      <td>0</td>\n",
       "      <td>0.8</td>\n",
       "      <td>2</td>\n",
       "      <td>0</td>\n",
       "      <td>2</td>\n",
       "      <td>1</td>\n",
       "    </tr>\n",
       "    <tr>\n",
       "      <th>4</th>\n",
       "      <td>57</td>\n",
       "      <td>0</td>\n",
       "      <td>0</td>\n",
       "      <td>120</td>\n",
       "      <td>354</td>\n",
       "      <td>0</td>\n",
       "      <td>1</td>\n",
       "      <td>163</td>\n",
       "      <td>1</td>\n",
       "      <td>0.6</td>\n",
       "      <td>2</td>\n",
       "      <td>0</td>\n",
       "      <td>2</td>\n",
       "      <td>1</td>\n",
       "    </tr>\n",
       "    <tr>\n",
       "      <th>...</th>\n",
       "      <td>...</td>\n",
       "      <td>...</td>\n",
       "      <td>...</td>\n",
       "      <td>...</td>\n",
       "      <td>...</td>\n",
       "      <td>...</td>\n",
       "      <td>...</td>\n",
       "      <td>...</td>\n",
       "      <td>...</td>\n",
       "      <td>...</td>\n",
       "      <td>...</td>\n",
       "      <td>...</td>\n",
       "      <td>...</td>\n",
       "      <td>...</td>\n",
       "    </tr>\n",
       "    <tr>\n",
       "      <th>298</th>\n",
       "      <td>57</td>\n",
       "      <td>0</td>\n",
       "      <td>0</td>\n",
       "      <td>140</td>\n",
       "      <td>241</td>\n",
       "      <td>0</td>\n",
       "      <td>1</td>\n",
       "      <td>123</td>\n",
       "      <td>1</td>\n",
       "      <td>0.2</td>\n",
       "      <td>1</td>\n",
       "      <td>0</td>\n",
       "      <td>3</td>\n",
       "      <td>0</td>\n",
       "    </tr>\n",
       "    <tr>\n",
       "      <th>299</th>\n",
       "      <td>45</td>\n",
       "      <td>1</td>\n",
       "      <td>3</td>\n",
       "      <td>110</td>\n",
       "      <td>264</td>\n",
       "      <td>0</td>\n",
       "      <td>1</td>\n",
       "      <td>132</td>\n",
       "      <td>0</td>\n",
       "      <td>1.2</td>\n",
       "      <td>1</td>\n",
       "      <td>0</td>\n",
       "      <td>3</td>\n",
       "      <td>0</td>\n",
       "    </tr>\n",
       "    <tr>\n",
       "      <th>300</th>\n",
       "      <td>68</td>\n",
       "      <td>1</td>\n",
       "      <td>0</td>\n",
       "      <td>144</td>\n",
       "      <td>193</td>\n",
       "      <td>1</td>\n",
       "      <td>1</td>\n",
       "      <td>141</td>\n",
       "      <td>0</td>\n",
       "      <td>3.4</td>\n",
       "      <td>1</td>\n",
       "      <td>2</td>\n",
       "      <td>3</td>\n",
       "      <td>0</td>\n",
       "    </tr>\n",
       "    <tr>\n",
       "      <th>301</th>\n",
       "      <td>57</td>\n",
       "      <td>1</td>\n",
       "      <td>0</td>\n",
       "      <td>130</td>\n",
       "      <td>131</td>\n",
       "      <td>0</td>\n",
       "      <td>1</td>\n",
       "      <td>115</td>\n",
       "      <td>1</td>\n",
       "      <td>1.2</td>\n",
       "      <td>1</td>\n",
       "      <td>1</td>\n",
       "      <td>3</td>\n",
       "      <td>0</td>\n",
       "    </tr>\n",
       "    <tr>\n",
       "      <th>302</th>\n",
       "      <td>57</td>\n",
       "      <td>0</td>\n",
       "      <td>1</td>\n",
       "      <td>130</td>\n",
       "      <td>236</td>\n",
       "      <td>0</td>\n",
       "      <td>0</td>\n",
       "      <td>174</td>\n",
       "      <td>0</td>\n",
       "      <td>0.0</td>\n",
       "      <td>1</td>\n",
       "      <td>1</td>\n",
       "      <td>2</td>\n",
       "      <td>0</td>\n",
       "    </tr>\n",
       "  </tbody>\n",
       "</table>\n",
       "<p>252 rows × 14 columns</p>\n",
       "</div>"
      ],
      "text/plain": [
       "     age  sex  cp  trtbps  chol  fbs  restecg  thalachh  exng  oldpeak  slp  \\\n",
       "0     63    1   3     145   233    1        0       150     0      2.3    0   \n",
       "1     37    1   2     130   250    0        1       187     0      3.5    0   \n",
       "2     41    0   1     130   204    0        0       172     0      1.4    2   \n",
       "3     56    1   1     120   236    0        1       178     0      0.8    2   \n",
       "4     57    0   0     120   354    0        1       163     1      0.6    2   \n",
       "..   ...  ...  ..     ...   ...  ...      ...       ...   ...      ...  ...   \n",
       "298   57    0   0     140   241    0        1       123     1      0.2    1   \n",
       "299   45    1   3     110   264    0        1       132     0      1.2    1   \n",
       "300   68    1   0     144   193    1        1       141     0      3.4    1   \n",
       "301   57    1   0     130   131    0        1       115     1      1.2    1   \n",
       "302   57    0   1     130   236    0        0       174     0      0.0    1   \n",
       "\n",
       "     caa  thall  output  \n",
       "0      0      1       1  \n",
       "1      0      2       1  \n",
       "2      0      2       1  \n",
       "3      0      2       1  \n",
       "4      0      2       1  \n",
       "..   ...    ...     ...  \n",
       "298    0      3       0  \n",
       "299    0      3       0  \n",
       "300    2      3       0  \n",
       "301    1      3       0  \n",
       "302    1      2       0  \n",
       "\n",
       "[252 rows x 14 columns]"
      ]
     },
     "execution_count": 19,
     "metadata": {},
     "output_type": "execute_result"
    }
   ],
   "source": [
    "LID1"
   ]
  },
  {
   "cell_type": "code",
   "execution_count": 20,
   "id": "c338cf6b",
   "metadata": {
    "scrolled": true
   },
   "outputs": [
    {
     "name": "stdout",
     "output_type": "stream",
     "text": [
      "1 : 65.07936507936508 %\n",
      "0 : 34.92063492063492 %\n"
     ]
    },
    {
     "data": {
      "text/plain": [
       "34.92063492063492"
      ]
     },
     "execution_count": 20,
     "metadata": {},
     "output_type": "execute_result"
    },
    {
     "data": {
      "image/png": "[encoded data removed]",
      "text/plain": [
       "<Figure size 432x288 with 1 Axes>"
      ]
     },
     "metadata": {
      "needs_background": "light"
     },
     "output_type": "display_data"
    }
   ],
   "source": [
    "class_balance(LID1, \"output\")"
   ]
  },
  {
   "cell_type": "code",
   "execution_count": 21,
   "id": "067c7d57",
   "metadata": {},
   "outputs": [
    {
     "data": {
      "image/png": "[encoded data removed]",
      "text/plain": [
       "<Figure size 576x576 with 2 Axes>"
      ]
     },
     "metadata": {
      "needs_background": "light"
     },
     "output_type": "display_data"
    }
   ],
   "source": [
    "features, labels = features_labels(LID1, label_column=\"output\")\n",
    "#print(labels_df1)\n",
    "#print(features_df1)\n",
    "\n",
    "test_labels, pred_labels = train_test_model(randomForestClassifier, stratified_kfolds, features, labels)\n",
    "\n",
    "calculate_confusion_matrix(test_labels, pred_labels, labels=LID1[\"output\"].unique())"
   ]
  },
  {
   "cell_type": "code",
   "execution_count": 22,
   "id": "5081d39f",
   "metadata": {},
   "outputs": [],
   "source": [
    "stratified_kfolds = StratifiedKFold(n_splits=10, random_state=42, shuffle=True)\n",
    "    \n",
    "unseen_fold_train_indices = np.empty([0], dtype=int)\n",
    "unseen_fold_test_indices = np.empty([0], dtype=int)\n",
    "train_fold_indices = np.empty([0], dtype=int)\n",
    "test_fold_indices = np.empty([0], dtype=int)\n",
    "    \n",
    "kFold = 0\n",
    "for train_index, test_index in stratified_kfolds.split(features, labels):\n",
    "    if kFold == 0:\n",
    "        unseen_fold_train_indices = np.append(unseen_fold_train_indices, train_index)\n",
    "        unseen_fold_test_indices = np.append(unseen_fold_test_indices, test_index)\n",
    "    else:\n",
    "        train_fold_indices = np.append(train_fold_indices, train_index)\n",
    "        test_fold_indices = np.append(test_fold_indices, test_index)\n",
    "        \n",
    "    kFold += 1\n",
    "#print(train_fold_indices)"
   ]
  },
  {
   "cell_type": "code",
   "execution_count": 23,
   "id": "3b7410e1",
   "metadata": {},
   "outputs": [],
   "source": [
    "train_features = features.iloc[train_fold_indices]\n",
    "train_labels = labels.iloc[train_fold_indices]\n",
    "\n",
    "unseen_fold_features = features.iloc[unseen_fold_train_indices]\n",
    "unseen_fold_labels = labels.iloc[unseen_fold_train_indices]"
   ]
  },
  {
   "cell_type": "code",
   "execution_count": 24,
   "id": "7e2ff8f9",
   "metadata": {},
   "outputs": [
    {
     "data": {
      "image/png": "[encoded data removed]",
      "text/plain": [
       "<Figure size 1080x360 with 1 Axes>"
      ]
     },
     "metadata": {
      "needs_background": "light"
     },
     "output_type": "display_data"
    },
    {
     "data": {
      "image/png": "[encoded data removed]",
      "text/plain": [
       "<Figure size 1080x360 with 1 Axes>"
      ]
     },
     "metadata": {
      "needs_background": "light"
     },
     "output_type": "display_data"
    }
   ],
   "source": [
    "elbowMethodResult(train_features)\n",
    "avgSilhouteMethodResult(train_features)"
   ]
  },
  {
   "cell_type": "code",
   "execution_count": 25,
   "id": "496b843a",
   "metadata": {},
   "outputs": [],
   "source": [
    "kmean_classifier = KMeans(n_clusters=3)\n",
    "cluster_labels = kmean_classifier.fit(train_features)"
   ]
  },
  {
   "cell_type": "code",
   "execution_count": 26,
   "id": "a33ffdea",
   "metadata": {},
   "outputs": [
    {
     "name": "stdout",
     "output_type": "stream",
     "text": [
      "Series([], Name: output, dtype: int64)\n",
      "0\n",
      "Series([], Name: output, dtype: int64)\n",
      "0\n",
      "Series([], Name: output, dtype: int64)\n",
      "0\n"
     ]
    },
    {
     "data": {
      "text/plain": [
       "[{'K': 1,\n",
       "  'centroid': array([5.49843400e+01, 6.59955257e-01, 1.16107383e+00, 1.34549217e+02,\n",
       "         2.54228188e+02, 1.72259508e-01, 4.46308725e-01, 1.49847875e+02,\n",
       "         2.98657718e-01, 8.67225951e-01, 1.37472036e+00, 6.45413870e-01,\n",
       "         2.31655481e+00]),\n",
       "  'total_classes': array([], dtype=int64)},\n",
       " {'K': 2,\n",
       "  'centroid': array([5.19336801e+01, 7.06111834e-01, 1.12093628e+00, 1.27894668e+02,\n",
       "         1.98624187e+02, 1.36540962e-01, 7.06111834e-01, 1.51940182e+02,\n",
       "         2.62678804e-01, 8.32769831e-01, 1.50845254e+00, 4.95448635e-01,\n",
       "         2.12873862e+00]),\n",
       "  'total_classes': array([], dtype=int64)},\n",
       " {'K': 3,\n",
       "  'centroid': array([5.62955145e+01, 4.88126649e-01, 7.62532982e-01, 1.32522427e+02,\n",
       "         3.26931398e+02, 1.47757256e-01, 5.72559367e-01, 1.51110818e+02,\n",
       "         3.16622691e-01, 1.20105541e+00, 1.50923483e+00, 9.78891821e-01,\n",
       "         2.29815303e+00]),\n",
       "  'total_classes': array([], dtype=int64)}]"
      ]
     },
     "execution_count": 26,
     "metadata": {},
     "output_type": "execute_result"
    }
   ],
   "source": [
    "cluster_details = ClusterInformation(kmean_classifier, train_features, train_labels, distance_threshold=0.43)\n",
    "cluster_details"
   ]
  },
  {
   "cell_type": "code",
   "execution_count": 27,
   "id": "59534ed6",
   "metadata": {},
   "outputs": [
    {
     "ename": "KeyError",
     "evalue": "'minority_class'",
     "output_type": "error",
     "traceback": [
      "\u001b[1;31m---------------------------------------------------------------------------\u001b[0m",
      "\u001b[1;31mIndexError\u001b[0m                                Traceback (most recent call last)",
      "\u001b[1;32m<ipython-input-2-a29636a241c0>\u001b[0m in \u001b[0;36mgetUnseenFoldPrediction\u001b[1;34m(kMeansClf, unseen_fold_features, distance_threshold)\u001b[0m\n\u001b[0;32m    145\u001b[0m         \u001b[1;32mtry\u001b[0m\u001b[1;33m:\u001b[0m\u001b[1;33m\u001b[0m\u001b[1;33m\u001b[0m\u001b[0m\n\u001b[1;32m--> 146\u001b[1;33m             \u001b[0mchoosen_cluster\u001b[0m \u001b[1;33m=\u001b[0m \u001b[0msorted\u001b[0m\u001b[1;33m(\u001b[0m\u001b[0mclose_clusters\u001b[0m\u001b[1;33m.\u001b[0m\u001b[0mitems\u001b[0m\u001b[1;33m(\u001b[0m\u001b[1;33m)\u001b[0m\u001b[1;33m,\u001b[0m \u001b[0mkey\u001b[0m\u001b[1;33m=\u001b[0m\u001b[1;32mlambda\u001b[0m \u001b[0mx\u001b[0m\u001b[1;33m:\u001b[0m\u001b[0mx\u001b[0m\u001b[1;33m[\u001b[0m\u001b[1;36m1\u001b[0m\u001b[1;33m]\u001b[0m\u001b[1;33m)\u001b[0m\u001b[1;33m[\u001b[0m\u001b[1;36m0\u001b[0m\u001b[1;33m]\u001b[0m\u001b[1;33m\u001b[0m\u001b[1;33m\u001b[0m\u001b[0m\n\u001b[0m\u001b[0;32m    147\u001b[0m             \u001b[1;32mif\u001b[0m \u001b[0mlen\u001b[0m\u001b[1;33m(\u001b[0m\u001b[0mcluster_details\u001b[0m\u001b[1;33m[\u001b[0m\u001b[0mchoosen_cluster\u001b[0m\u001b[1;33m[\u001b[0m\u001b[1;36m0\u001b[0m\u001b[1;33m]\u001b[0m\u001b[1;33m]\u001b[0m\u001b[1;33m[\u001b[0m\u001b[1;34m\"total_classes\"\u001b[0m\u001b[1;33m]\u001b[0m\u001b[1;33m)\u001b[0m \u001b[1;33m>\u001b[0m \u001b[1;36m1\u001b[0m\u001b[1;33m:\u001b[0m\u001b[1;33m\u001b[0m\u001b[1;33m\u001b[0m\u001b[0m\n",
      "\u001b[1;31mIndexError\u001b[0m: list index out of range",
      "\nDuring handling of the above exception, another exception occurred:\n",
      "\u001b[1;31mKeyError\u001b[0m                                  Traceback (most recent call last)",
      "\u001b[1;32m<ipython-input-27-cfafe290ef05>\u001b[0m in \u001b[0;36m<module>\u001b[1;34m\u001b[0m\n\u001b[1;32m----> 1\u001b[1;33m \u001b[0mpredictions\u001b[0m \u001b[1;33m=\u001b[0m \u001b[0mgetUnseenFoldPrediction\u001b[0m\u001b[1;33m(\u001b[0m\u001b[0mkmean_classifier\u001b[0m\u001b[1;33m,\u001b[0m \u001b[0munseen_fold_features\u001b[0m\u001b[1;33m,\u001b[0m \u001b[1;36m0.43\u001b[0m\u001b[1;33m)\u001b[0m\u001b[1;33m\u001b[0m\u001b[1;33m\u001b[0m\u001b[0m\n\u001b[0m\u001b[0;32m      2\u001b[0m \u001b[0mpredictions\u001b[0m \u001b[1;33m=\u001b[0m \u001b[0mgetCleanPredictions\u001b[0m\u001b[1;33m(\u001b[0m\u001b[0mpredictions\u001b[0m\u001b[1;33m)\u001b[0m\u001b[1;33m\u001b[0m\u001b[1;33m\u001b[0m\u001b[0m\n\u001b[0;32m      3\u001b[0m \u001b[0mcompute_confusion_matrix\u001b[0m\u001b[1;33m(\u001b[0m\u001b[0munseen_fold_labels\u001b[0m\u001b[1;33m,\u001b[0m \u001b[0mpredictions\u001b[0m\u001b[1;33m,\u001b[0m \u001b[0mlabels\u001b[0m\u001b[1;33m=\u001b[0m\u001b[0mLID1\u001b[0m\u001b[1;33m[\u001b[0m\u001b[1;34m\"output\"\u001b[0m\u001b[1;33m]\u001b[0m\u001b[1;33m.\u001b[0m\u001b[0munique\u001b[0m\u001b[1;33m(\u001b[0m\u001b[1;33m)\u001b[0m\u001b[1;33m)\u001b[0m\u001b[1;33m\u001b[0m\u001b[1;33m\u001b[0m\u001b[0m\n",
      "\u001b[1;32m<ipython-input-2-a29636a241c0>\u001b[0m in \u001b[0;36mgetUnseenFoldPrediction\u001b[1;34m(kMeansClf, unseen_fold_features, distance_threshold)\u001b[0m\n\u001b[0;32m    150\u001b[0m                 \u001b[0mpredicted_labels\u001b[0m\u001b[1;33m.\u001b[0m\u001b[0mappend\u001b[0m\u001b[1;33m(\u001b[0m\u001b[0mcluster_details\u001b[0m\u001b[1;33m[\u001b[0m\u001b[0mchoosen_cluster\u001b[0m\u001b[1;33m[\u001b[0m\u001b[1;36m0\u001b[0m\u001b[1;33m]\u001b[0m\u001b[1;33m]\u001b[0m\u001b[1;33m[\u001b[0m\u001b[1;34m\"minority_class\"\u001b[0m\u001b[1;33m]\u001b[0m\u001b[1;33m)\u001b[0m\u001b[1;33m\u001b[0m\u001b[1;33m\u001b[0m\u001b[0m\n\u001b[0;32m    151\u001b[0m         \u001b[1;32mexcept\u001b[0m \u001b[0mException\u001b[0m\u001b[1;33m:\u001b[0m\u001b[1;33m\u001b[0m\u001b[1;33m\u001b[0m\u001b[0m\n\u001b[1;32m--> 152\u001b[1;33m             \u001b[0mpredicted_labels\u001b[0m\u001b[1;33m.\u001b[0m\u001b[0mappend\u001b[0m\u001b[1;33m(\u001b[0m\u001b[0mcluster_details\u001b[0m\u001b[1;33m[\u001b[0m\u001b[1;36m0\u001b[0m\u001b[1;33m]\u001b[0m\u001b[1;33m[\u001b[0m\u001b[1;34m\"minority_class\"\u001b[0m\u001b[1;33m]\u001b[0m\u001b[1;33m)\u001b[0m\u001b[1;33m\u001b[0m\u001b[1;33m\u001b[0m\u001b[0m\n\u001b[0m\u001b[0;32m    153\u001b[0m \u001b[1;33m\u001b[0m\u001b[0m\n\u001b[0;32m    154\u001b[0m     \u001b[1;32mreturn\u001b[0m \u001b[0mpredicted_labels\u001b[0m\u001b[1;33m\u001b[0m\u001b[1;33m\u001b[0m\u001b[0m\n",
      "\u001b[1;31mKeyError\u001b[0m: 'minority_class'"
     ]
    }
   ],
   "source": [
    "predictions = UnseenFoldPrediction(kmean_classifier, unseen_fold_features, 0.43)\n",
    "predictions = CleanPredictions(predictions)\n",
    "calculate_confusion_matrix(unseen_fold_labels, predictions, labels=LID1[\"output\"].unique())"
   ]
  },
  {
   "cell_type": "markdown",
   "id": "4617a482",
   "metadata": {},
   "source": [
    "### Medium Imbalance (75%)"
   ]
  },
  {
   "cell_type": "code",
   "execution_count": 28,
   "id": "a1c2d872",
   "metadata": {},
   "outputs": [],
   "source": [
    "MID1 = df1.drop(output[:int(len(output) * 0.61)])"
   ]
  },
  {
   "cell_type": "code",
   "execution_count": 29,
   "id": "87b37832",
   "metadata": {
    "scrolled": true
   },
   "outputs": [
    {
     "data": {
      "text/html": [
       "<div>\n",
       "<style scoped>\n",
       "    .dataframe tbody tr th:only-of-type {\n",
       "        vertical-align: middle;\n",
       "    }\n",
       "\n",
       "    .dataframe tbody tr th {\n",
       "        vertical-align: top;\n",
       "    }\n",
       "\n",
       "    .dataframe thead th {\n",
       "        text-align: right;\n",
       "    }\n",
       "</style>\n",
       "<table border=\"1\" class=\"dataframe\">\n",
       "  <thead>\n",
       "    <tr style=\"text-align: right;\">\n",
       "      <th></th>\n",
       "      <th>age</th>\n",
       "      <th>sex</th>\n",
       "      <th>cp</th>\n",
       "      <th>trtbps</th>\n",
       "      <th>chol</th>\n",
       "      <th>fbs</th>\n",
       "      <th>restecg</th>\n",
       "      <th>thalachh</th>\n",
       "      <th>exng</th>\n",
       "      <th>oldpeak</th>\n",
       "      <th>slp</th>\n",
       "      <th>caa</th>\n",
       "      <th>thall</th>\n",
       "      <th>output</th>\n",
       "    </tr>\n",
       "  </thead>\n",
       "  <tbody>\n",
       "    <tr>\n",
       "      <th>0</th>\n",
       "      <td>63</td>\n",
       "      <td>1</td>\n",
       "      <td>3</td>\n",
       "      <td>145</td>\n",
       "      <td>233</td>\n",
       "      <td>1</td>\n",
       "      <td>0</td>\n",
       "      <td>150</td>\n",
       "      <td>0</td>\n",
       "      <td>2.3</td>\n",
       "      <td>0</td>\n",
       "      <td>0</td>\n",
       "      <td>1</td>\n",
       "      <td>1</td>\n",
       "    </tr>\n",
       "    <tr>\n",
       "      <th>1</th>\n",
       "      <td>37</td>\n",
       "      <td>1</td>\n",
       "      <td>2</td>\n",
       "      <td>130</td>\n",
       "      <td>250</td>\n",
       "      <td>0</td>\n",
       "      <td>1</td>\n",
       "      <td>187</td>\n",
       "      <td>0</td>\n",
       "      <td>3.5</td>\n",
       "      <td>0</td>\n",
       "      <td>0</td>\n",
       "      <td>2</td>\n",
       "      <td>1</td>\n",
       "    </tr>\n",
       "    <tr>\n",
       "      <th>2</th>\n",
       "      <td>41</td>\n",
       "      <td>0</td>\n",
       "      <td>1</td>\n",
       "      <td>130</td>\n",
       "      <td>204</td>\n",
       "      <td>0</td>\n",
       "      <td>0</td>\n",
       "      <td>172</td>\n",
       "      <td>0</td>\n",
       "      <td>1.4</td>\n",
       "      <td>2</td>\n",
       "      <td>0</td>\n",
       "      <td>2</td>\n",
       "      <td>1</td>\n",
       "    </tr>\n",
       "    <tr>\n",
       "      <th>3</th>\n",
       "      <td>56</td>\n",
       "      <td>1</td>\n",
       "      <td>1</td>\n",
       "      <td>120</td>\n",
       "      <td>236</td>\n",
       "      <td>0</td>\n",
       "      <td>1</td>\n",
       "      <td>178</td>\n",
       "      <td>0</td>\n",
       "      <td>0.8</td>\n",
       "      <td>2</td>\n",
       "      <td>0</td>\n",
       "      <td>2</td>\n",
       "      <td>1</td>\n",
       "    </tr>\n",
       "    <tr>\n",
       "      <th>4</th>\n",
       "      <td>57</td>\n",
       "      <td>0</td>\n",
       "      <td>0</td>\n",
       "      <td>120</td>\n",
       "      <td>354</td>\n",
       "      <td>0</td>\n",
       "      <td>1</td>\n",
       "      <td>163</td>\n",
       "      <td>1</td>\n",
       "      <td>0.6</td>\n",
       "      <td>2</td>\n",
       "      <td>0</td>\n",
       "      <td>2</td>\n",
       "      <td>1</td>\n",
       "    </tr>\n",
       "    <tr>\n",
       "      <th>...</th>\n",
       "      <td>...</td>\n",
       "      <td>...</td>\n",
       "      <td>...</td>\n",
       "      <td>...</td>\n",
       "      <td>...</td>\n",
       "      <td>...</td>\n",
       "      <td>...</td>\n",
       "      <td>...</td>\n",
       "      <td>...</td>\n",
       "      <td>...</td>\n",
       "      <td>...</td>\n",
       "      <td>...</td>\n",
       "      <td>...</td>\n",
       "      <td>...</td>\n",
       "    </tr>\n",
       "    <tr>\n",
       "      <th>298</th>\n",
       "      <td>57</td>\n",
       "      <td>0</td>\n",
       "      <td>0</td>\n",
       "      <td>140</td>\n",
       "      <td>241</td>\n",
       "      <td>0</td>\n",
       "      <td>1</td>\n",
       "      <td>123</td>\n",
       "      <td>1</td>\n",
       "      <td>0.2</td>\n",
       "      <td>1</td>\n",
       "      <td>0</td>\n",
       "      <td>3</td>\n",
       "      <td>0</td>\n",
       "    </tr>\n",
       "    <tr>\n",
       "      <th>299</th>\n",
       "      <td>45</td>\n",
       "      <td>1</td>\n",
       "      <td>3</td>\n",
       "      <td>110</td>\n",
       "      <td>264</td>\n",
       "      <td>0</td>\n",
       "      <td>1</td>\n",
       "      <td>132</td>\n",
       "      <td>0</td>\n",
       "      <td>1.2</td>\n",
       "      <td>1</td>\n",
       "      <td>0</td>\n",
       "      <td>3</td>\n",
       "      <td>0</td>\n",
       "    </tr>\n",
       "    <tr>\n",
       "      <th>300</th>\n",
       "      <td>68</td>\n",
       "      <td>1</td>\n",
       "      <td>0</td>\n",
       "      <td>144</td>\n",
       "      <td>193</td>\n",
       "      <td>1</td>\n",
       "      <td>1</td>\n",
       "      <td>141</td>\n",
       "      <td>0</td>\n",
       "      <td>3.4</td>\n",
       "      <td>1</td>\n",
       "      <td>2</td>\n",
       "      <td>3</td>\n",
       "      <td>0</td>\n",
       "    </tr>\n",
       "    <tr>\n",
       "      <th>301</th>\n",
       "      <td>57</td>\n",
       "      <td>1</td>\n",
       "      <td>0</td>\n",
       "      <td>130</td>\n",
       "      <td>131</td>\n",
       "      <td>0</td>\n",
       "      <td>1</td>\n",
       "      <td>115</td>\n",
       "      <td>1</td>\n",
       "      <td>1.2</td>\n",
       "      <td>1</td>\n",
       "      <td>1</td>\n",
       "      <td>3</td>\n",
       "      <td>0</td>\n",
       "    </tr>\n",
       "    <tr>\n",
       "      <th>302</th>\n",
       "      <td>57</td>\n",
       "      <td>0</td>\n",
       "      <td>1</td>\n",
       "      <td>130</td>\n",
       "      <td>236</td>\n",
       "      <td>0</td>\n",
       "      <td>0</td>\n",
       "      <td>174</td>\n",
       "      <td>0</td>\n",
       "      <td>0.0</td>\n",
       "      <td>1</td>\n",
       "      <td>1</td>\n",
       "      <td>2</td>\n",
       "      <td>0</td>\n",
       "    </tr>\n",
       "  </tbody>\n",
       "</table>\n",
       "<p>218 rows × 14 columns</p>\n",
       "</div>"
      ],
      "text/plain": [
       "     age  sex  cp  trtbps  chol  fbs  restecg  thalachh  exng  oldpeak  slp  \\\n",
       "0     63    1   3     145   233    1        0       150     0      2.3    0   \n",
       "1     37    1   2     130   250    0        1       187     0      3.5    0   \n",
       "2     41    0   1     130   204    0        0       172     0      1.4    2   \n",
       "3     56    1   1     120   236    0        1       178     0      0.8    2   \n",
       "4     57    0   0     120   354    0        1       163     1      0.6    2   \n",
       "..   ...  ...  ..     ...   ...  ...      ...       ...   ...      ...  ...   \n",
       "298   57    0   0     140   241    0        1       123     1      0.2    1   \n",
       "299   45    1   3     110   264    0        1       132     0      1.2    1   \n",
       "300   68    1   0     144   193    1        1       141     0      3.4    1   \n",
       "301   57    1   0     130   131    0        1       115     1      1.2    1   \n",
       "302   57    0   1     130   236    0        0       174     0      0.0    1   \n",
       "\n",
       "     caa  thall  output  \n",
       "0      0      1       1  \n",
       "1      0      2       1  \n",
       "2      0      2       1  \n",
       "3      0      2       1  \n",
       "4      0      2       1  \n",
       "..   ...    ...     ...  \n",
       "298    0      3       0  \n",
       "299    0      3       0  \n",
       "300    2      3       0  \n",
       "301    1      3       0  \n",
       "302    1      2       0  \n",
       "\n",
       "[218 rows x 14 columns]"
      ]
     },
     "execution_count": 29,
     "metadata": {},
     "output_type": "execute_result"
    }
   ],
   "source": [
    "MID1"
   ]
  },
  {
   "cell_type": "code",
   "execution_count": 30,
   "id": "285e32cb",
   "metadata": {},
   "outputs": [
    {
     "name": "stdout",
     "output_type": "stream",
     "text": [
      "1 : 75.22935779816514 %\n",
      "0 : 24.770642201834864 %\n"
     ]
    },
    {
     "data": {
      "text/plain": [
       "24.770642201834864"
      ]
     },
     "execution_count": 30,
     "metadata": {},
     "output_type": "execute_result"
    },
    {
     "data": {
      "image/png": "[encoded data removed]",
      "text/plain": [
       "<Figure size 432x288 with 1 Axes>"
      ]
     },
     "metadata": {
      "needs_background": "light"
     },
     "output_type": "display_data"
    }
   ],
   "source": [
    "class_balance(MID1, \"output\")"
   ]
  },
  {
   "cell_type": "code",
   "execution_count": 31,
   "id": "664822fb",
   "metadata": {},
   "outputs": [
    {
     "data": {
      "image/png": "[encoded data removed]",
      "text/plain": [
       "<Figure size 576x576 with 2 Axes>"
      ]
     },
     "metadata": {
      "needs_background": "light"
     },
     "output_type": "display_data"
    }
   ],
   "source": [
    "features, labels = features_labels(MID1, label_column=\"output\")\n",
    "#print(labels_df1)\n",
    "#print(features_df1)\n",
    "\n",
    "test_labels, pred_labels = train_test_model(randomForestClassifier, stratified_kfolds, features, labels)\n",
    "\n",
    "calculate_confusion_matrix(test_labels, pred_labels, labels=MID1[\"output\"].unique())"
   ]
  },
  {
   "cell_type": "code",
   "execution_count": 32,
   "id": "86e7f1c7",
   "metadata": {},
   "outputs": [],
   "source": [
    "stratified_kfolds = StratifiedKFold(n_splits=10, random_state=42, shuffle=True)\n",
    "    \n",
    "unseen_fold_train_indices = np.empty([0], dtype=int)\n",
    "unseen_fold_test_indices = np.empty([0], dtype=int)\n",
    "train_fold_indices = np.empty([0], dtype=int)\n",
    "test_fold_indices = np.empty([0], dtype=int)\n",
    "    \n",
    "kFold = 0\n",
    "for train_index, test_index in stratified_kfolds.split(features, labels):\n",
    "    if kFold == 0:\n",
    "        unseen_fold_train_indices = np.append(unseen_fold_train_indices, train_index)\n",
    "        unseen_fold_test_indices = np.append(unseen_fold_test_indices, test_index)\n",
    "    else:\n",
    "        train_fold_indices = np.append(train_fold_indices, train_index)\n",
    "        test_fold_indices = np.append(test_fold_indices, test_index)\n",
    "        \n",
    "    kFold += 1\n",
    "#print(train_fold_indices)"
   ]
  },
  {
   "cell_type": "code",
   "execution_count": 33,
   "id": "3feb240d",
   "metadata": {},
   "outputs": [],
   "source": [
    "train_features = features.iloc[train_fold_indices]\n",
    "train_labels = labels.iloc[train_fold_indices]\n",
    "\n",
    "unseen_fold_features = features.iloc[unseen_fold_train_indices]\n",
    "unseen_fold_labels = labels.iloc[unseen_fold_train_indices]"
   ]
  },
  {
   "cell_type": "code",
   "execution_count": 34,
   "id": "672b6dc3",
   "metadata": {},
   "outputs": [
    {
     "data": {
      "image/png": "[encoded data removed]",
      "text/plain": [
       "<Figure size 1080x360 with 1 Axes>"
      ]
     },
     "metadata": {
      "needs_background": "light"
     },
     "output_type": "display_data"
    },
    {
     "data": {
      "image/png": "[encoded data removed]",
      "text/plain": [
       "<Figure size 1080x360 with 1 Axes>"
      ]
     },
     "metadata": {
      "needs_background": "light"
     },
     "output_type": "display_data"
    }
   ],
   "source": [
    "elbowMethodResult(train_features)\n",
    "avgSilhouteMethodResult(train_features)"
   ]
  },
  {
   "cell_type": "code",
   "execution_count": 35,
   "id": "a88c9fc9",
   "metadata": {},
   "outputs": [],
   "source": [
    "kmean_classifier = KMeans(n_clusters=3)\n",
    "cluster_labels = kmean_classifier.fit(train_features)"
   ]
  },
  {
   "cell_type": "code",
   "execution_count": 36,
   "id": "6b515ccd",
   "metadata": {},
   "outputs": [
    {
     "name": "stdout",
     "output_type": "stream",
     "text": [
      "Series([], Name: output, dtype: int64)\n",
      "0\n",
      "Series([], Name: output, dtype: int64)\n",
      "0\n",
      "Series([], Name: output, dtype: int64)\n",
      "0\n"
     ]
    },
    {
     "data": {
      "text/plain": [
       "[{'K': 1,\n",
       "  'centroid': array([5.39743590e+01, 6.55128205e-01, 1.25512821e+00, 1.32108974e+02,\n",
       "         2.47256410e+02, 1.37179487e-01, 4.89743590e-01, 1.56189744e+02,\n",
       "         2.17948718e-01, 6.88974359e-01, 1.50256410e+00, 5.34615385e-01,\n",
       "         2.23846154e+00]),\n",
       "  'total_classes': array([], dtype=int64)},\n",
       " {'K': 2,\n",
       "  'centroid': array([5.50602410e+01, 4.63855422e-01, 8.46385542e-01, 1.31909639e+02,\n",
       "         3.21415663e+02, 1.71686747e-01, 6.35542169e-01, 1.48243976e+02,\n",
       "         3.19277108e-01, 1.11144578e+00, 1.48192771e+00, 7.95180723e-01,\n",
       "         2.19578313e+00]),\n",
       "  'total_classes': array([], dtype=int64)},\n",
       " {'K': 3,\n",
       "  'centroid': array([5.20504587e+01, 6.54434251e-01, 1.20030581e+00, 1.27126911e+02,\n",
       "         1.95957187e+02, 1.60550459e-01, 7.17125382e-01, 1.51547401e+02,\n",
       "         2.35474006e-01, 8.06727829e-01, 1.50917431e+00, 4.81651376e-01,\n",
       "         2.10091743e+00]),\n",
       "  'total_classes': array([], dtype=int64)}]"
      ]
     },
     "execution_count": 36,
     "metadata": {},
     "output_type": "execute_result"
    }
   ],
   "source": [
    "cluster_details = ClusterInformation(kmean_classifier, train_features, train_labels, distance_threshold=0.43)\n",
    "cluster_details"
   ]
  },
  {
   "cell_type": "code",
   "execution_count": 37,
   "id": "ac2028fa",
   "metadata": {},
   "outputs": [
    {
     "ename": "KeyError",
     "evalue": "'minority_class'",
     "output_type": "error",
     "traceback": [
      "\u001b[1;31m---------------------------------------------------------------------------\u001b[0m",
      "\u001b[1;31mIndexError\u001b[0m                                Traceback (most recent call last)",
      "\u001b[1;32m<ipython-input-2-a29636a241c0>\u001b[0m in \u001b[0;36mgetUnseenFoldPrediction\u001b[1;34m(kMeansClf, unseen_fold_features, distance_threshold)\u001b[0m\n\u001b[0;32m    145\u001b[0m         \u001b[1;32mtry\u001b[0m\u001b[1;33m:\u001b[0m\u001b[1;33m\u001b[0m\u001b[1;33m\u001b[0m\u001b[0m\n\u001b[1;32m--> 146\u001b[1;33m             \u001b[0mchoosen_cluster\u001b[0m \u001b[1;33m=\u001b[0m \u001b[0msorted\u001b[0m\u001b[1;33m(\u001b[0m\u001b[0mclose_clusters\u001b[0m\u001b[1;33m.\u001b[0m\u001b[0mitems\u001b[0m\u001b[1;33m(\u001b[0m\u001b[1;33m)\u001b[0m\u001b[1;33m,\u001b[0m \u001b[0mkey\u001b[0m\u001b[1;33m=\u001b[0m\u001b[1;32mlambda\u001b[0m \u001b[0mx\u001b[0m\u001b[1;33m:\u001b[0m\u001b[0mx\u001b[0m\u001b[1;33m[\u001b[0m\u001b[1;36m1\u001b[0m\u001b[1;33m]\u001b[0m\u001b[1;33m)\u001b[0m\u001b[1;33m[\u001b[0m\u001b[1;36m0\u001b[0m\u001b[1;33m]\u001b[0m\u001b[1;33m\u001b[0m\u001b[1;33m\u001b[0m\u001b[0m\n\u001b[0m\u001b[0;32m    147\u001b[0m             \u001b[1;32mif\u001b[0m \u001b[0mlen\u001b[0m\u001b[1;33m(\u001b[0m\u001b[0mcluster_details\u001b[0m\u001b[1;33m[\u001b[0m\u001b[0mchoosen_cluster\u001b[0m\u001b[1;33m[\u001b[0m\u001b[1;36m0\u001b[0m\u001b[1;33m]\u001b[0m\u001b[1;33m]\u001b[0m\u001b[1;33m[\u001b[0m\u001b[1;34m\"total_classes\"\u001b[0m\u001b[1;33m]\u001b[0m\u001b[1;33m)\u001b[0m \u001b[1;33m>\u001b[0m \u001b[1;36m1\u001b[0m\u001b[1;33m:\u001b[0m\u001b[1;33m\u001b[0m\u001b[1;33m\u001b[0m\u001b[0m\n",
      "\u001b[1;31mIndexError\u001b[0m: list index out of range",
      "\nDuring handling of the above exception, another exception occurred:\n",
      "\u001b[1;31mKeyError\u001b[0m                                  Traceback (most recent call last)",
      "\u001b[1;32m<ipython-input-37-de449be8be56>\u001b[0m in \u001b[0;36m<module>\u001b[1;34m\u001b[0m\n\u001b[1;32m----> 1\u001b[1;33m \u001b[0mpredictions\u001b[0m \u001b[1;33m=\u001b[0m \u001b[0mgetUnseenFoldPrediction\u001b[0m\u001b[1;33m(\u001b[0m\u001b[0mkmean_classifier\u001b[0m\u001b[1;33m,\u001b[0m \u001b[0munseen_fold_features\u001b[0m\u001b[1;33m,\u001b[0m \u001b[1;36m0.43\u001b[0m\u001b[1;33m)\u001b[0m\u001b[1;33m\u001b[0m\u001b[1;33m\u001b[0m\u001b[0m\n\u001b[0m\u001b[0;32m      2\u001b[0m \u001b[0mpredictions\u001b[0m \u001b[1;33m=\u001b[0m \u001b[0mgetCleanPredictions\u001b[0m\u001b[1;33m(\u001b[0m\u001b[0mpredictions\u001b[0m\u001b[1;33m)\u001b[0m\u001b[1;33m\u001b[0m\u001b[1;33m\u001b[0m\u001b[0m\n\u001b[0;32m      3\u001b[0m \u001b[0mcompute_confusion_matrix\u001b[0m\u001b[1;33m(\u001b[0m\u001b[0munseen_fold_labels\u001b[0m\u001b[1;33m,\u001b[0m \u001b[0mpredictions\u001b[0m\u001b[1;33m,\u001b[0m \u001b[0mlabels\u001b[0m\u001b[1;33m=\u001b[0m\u001b[0mMID1\u001b[0m\u001b[1;33m[\u001b[0m\u001b[1;34m\"output\"\u001b[0m\u001b[1;33m]\u001b[0m\u001b[1;33m.\u001b[0m\u001b[0munique\u001b[0m\u001b[1;33m(\u001b[0m\u001b[1;33m)\u001b[0m\u001b[1;33m)\u001b[0m\u001b[1;33m\u001b[0m\u001b[1;33m\u001b[0m\u001b[0m\n",
      "\u001b[1;32m<ipython-input-2-a29636a241c0>\u001b[0m in \u001b[0;36mgetUnseenFoldPrediction\u001b[1;34m(kMeansClf, unseen_fold_features, distance_threshold)\u001b[0m\n\u001b[0;32m    150\u001b[0m                 \u001b[0mpredicted_labels\u001b[0m\u001b[1;33m.\u001b[0m\u001b[0mappend\u001b[0m\u001b[1;33m(\u001b[0m\u001b[0mcluster_details\u001b[0m\u001b[1;33m[\u001b[0m\u001b[0mchoosen_cluster\u001b[0m\u001b[1;33m[\u001b[0m\u001b[1;36m0\u001b[0m\u001b[1;33m]\u001b[0m\u001b[1;33m]\u001b[0m\u001b[1;33m[\u001b[0m\u001b[1;34m\"minority_class\"\u001b[0m\u001b[1;33m]\u001b[0m\u001b[1;33m)\u001b[0m\u001b[1;33m\u001b[0m\u001b[1;33m\u001b[0m\u001b[0m\n\u001b[0;32m    151\u001b[0m         \u001b[1;32mexcept\u001b[0m \u001b[0mException\u001b[0m\u001b[1;33m:\u001b[0m\u001b[1;33m\u001b[0m\u001b[1;33m\u001b[0m\u001b[0m\n\u001b[1;32m--> 152\u001b[1;33m             \u001b[0mpredicted_labels\u001b[0m\u001b[1;33m.\u001b[0m\u001b[0mappend\u001b[0m\u001b[1;33m(\u001b[0m\u001b[0mcluster_details\u001b[0m\u001b[1;33m[\u001b[0m\u001b[1;36m0\u001b[0m\u001b[1;33m]\u001b[0m\u001b[1;33m[\u001b[0m\u001b[1;34m\"minority_class\"\u001b[0m\u001b[1;33m]\u001b[0m\u001b[1;33m)\u001b[0m\u001b[1;33m\u001b[0m\u001b[1;33m\u001b[0m\u001b[0m\n\u001b[0m\u001b[0;32m    153\u001b[0m \u001b[1;33m\u001b[0m\u001b[0m\n\u001b[0;32m    154\u001b[0m     \u001b[1;32mreturn\u001b[0m \u001b[0mpredicted_labels\u001b[0m\u001b[1;33m\u001b[0m\u001b[1;33m\u001b[0m\u001b[0m\n",
      "\u001b[1;31mKeyError\u001b[0m: 'minority_class'"
     ]
    }
   ],
   "source": [
    "predictions = UnseenFoldPrediction(kmean_classifier, unseen_fold_features, 0.43)\n",
    "predictions = CleanPredictions(predictions)\n",
    "calculate_confusion_matrix(unseen_fold_labels, predictions, labels=MID1[\"output\"].unique())"
   ]
  },
  {
   "cell_type": "markdown",
   "id": "cdd829e3",
   "metadata": {},
   "source": [
    "### High Imbalance (90%)"
   ]
  },
  {
   "cell_type": "code",
   "execution_count": 38,
   "id": "09b8a89e",
   "metadata": {},
   "outputs": [],
   "source": [
    "HID1 = df1.drop(output[:int(len(output) * 0.87)])"
   ]
  },
  {
   "cell_type": "code",
   "execution_count": 39,
   "id": "8a63a94d",
   "metadata": {},
   "outputs": [
    {
     "data": {
      "text/html": [
       "<div>\n",
       "<style scoped>\n",
       "    .dataframe tbody tr th:only-of-type {\n",
       "        vertical-align: middle;\n",
       "    }\n",
       "\n",
       "    .dataframe tbody tr th {\n",
       "        vertical-align: top;\n",
       "    }\n",
       "\n",
       "    .dataframe thead th {\n",
       "        text-align: right;\n",
       "    }\n",
       "</style>\n",
       "<table border=\"1\" class=\"dataframe\">\n",
       "  <thead>\n",
       "    <tr style=\"text-align: right;\">\n",
       "      <th></th>\n",
       "      <th>age</th>\n",
       "      <th>sex</th>\n",
       "      <th>cp</th>\n",
       "      <th>trtbps</th>\n",
       "      <th>chol</th>\n",
       "      <th>fbs</th>\n",
       "      <th>restecg</th>\n",
       "      <th>thalachh</th>\n",
       "      <th>exng</th>\n",
       "      <th>oldpeak</th>\n",
       "      <th>slp</th>\n",
       "      <th>caa</th>\n",
       "      <th>thall</th>\n",
       "      <th>output</th>\n",
       "    </tr>\n",
       "  </thead>\n",
       "  <tbody>\n",
       "    <tr>\n",
       "      <th>0</th>\n",
       "      <td>63</td>\n",
       "      <td>1</td>\n",
       "      <td>3</td>\n",
       "      <td>145</td>\n",
       "      <td>233</td>\n",
       "      <td>1</td>\n",
       "      <td>0</td>\n",
       "      <td>150</td>\n",
       "      <td>0</td>\n",
       "      <td>2.3</td>\n",
       "      <td>0</td>\n",
       "      <td>0</td>\n",
       "      <td>1</td>\n",
       "      <td>1</td>\n",
       "    </tr>\n",
       "    <tr>\n",
       "      <th>1</th>\n",
       "      <td>37</td>\n",
       "      <td>1</td>\n",
       "      <td>2</td>\n",
       "      <td>130</td>\n",
       "      <td>250</td>\n",
       "      <td>0</td>\n",
       "      <td>1</td>\n",
       "      <td>187</td>\n",
       "      <td>0</td>\n",
       "      <td>3.5</td>\n",
       "      <td>0</td>\n",
       "      <td>0</td>\n",
       "      <td>2</td>\n",
       "      <td>1</td>\n",
       "    </tr>\n",
       "    <tr>\n",
       "      <th>2</th>\n",
       "      <td>41</td>\n",
       "      <td>0</td>\n",
       "      <td>1</td>\n",
       "      <td>130</td>\n",
       "      <td>204</td>\n",
       "      <td>0</td>\n",
       "      <td>0</td>\n",
       "      <td>172</td>\n",
       "      <td>0</td>\n",
       "      <td>1.4</td>\n",
       "      <td>2</td>\n",
       "      <td>0</td>\n",
       "      <td>2</td>\n",
       "      <td>1</td>\n",
       "    </tr>\n",
       "    <tr>\n",
       "      <th>3</th>\n",
       "      <td>56</td>\n",
       "      <td>1</td>\n",
       "      <td>1</td>\n",
       "      <td>120</td>\n",
       "      <td>236</td>\n",
       "      <td>0</td>\n",
       "      <td>1</td>\n",
       "      <td>178</td>\n",
       "      <td>0</td>\n",
       "      <td>0.8</td>\n",
       "      <td>2</td>\n",
       "      <td>0</td>\n",
       "      <td>2</td>\n",
       "      <td>1</td>\n",
       "    </tr>\n",
       "    <tr>\n",
       "      <th>4</th>\n",
       "      <td>57</td>\n",
       "      <td>0</td>\n",
       "      <td>0</td>\n",
       "      <td>120</td>\n",
       "      <td>354</td>\n",
       "      <td>0</td>\n",
       "      <td>1</td>\n",
       "      <td>163</td>\n",
       "      <td>1</td>\n",
       "      <td>0.6</td>\n",
       "      <td>2</td>\n",
       "      <td>0</td>\n",
       "      <td>2</td>\n",
       "      <td>1</td>\n",
       "    </tr>\n",
       "    <tr>\n",
       "      <th>...</th>\n",
       "      <td>...</td>\n",
       "      <td>...</td>\n",
       "      <td>...</td>\n",
       "      <td>...</td>\n",
       "      <td>...</td>\n",
       "      <td>...</td>\n",
       "      <td>...</td>\n",
       "      <td>...</td>\n",
       "      <td>...</td>\n",
       "      <td>...</td>\n",
       "      <td>...</td>\n",
       "      <td>...</td>\n",
       "      <td>...</td>\n",
       "      <td>...</td>\n",
       "    </tr>\n",
       "    <tr>\n",
       "      <th>298</th>\n",
       "      <td>57</td>\n",
       "      <td>0</td>\n",
       "      <td>0</td>\n",
       "      <td>140</td>\n",
       "      <td>241</td>\n",
       "      <td>0</td>\n",
       "      <td>1</td>\n",
       "      <td>123</td>\n",
       "      <td>1</td>\n",
       "      <td>0.2</td>\n",
       "      <td>1</td>\n",
       "      <td>0</td>\n",
       "      <td>3</td>\n",
       "      <td>0</td>\n",
       "    </tr>\n",
       "    <tr>\n",
       "      <th>299</th>\n",
       "      <td>45</td>\n",
       "      <td>1</td>\n",
       "      <td>3</td>\n",
       "      <td>110</td>\n",
       "      <td>264</td>\n",
       "      <td>0</td>\n",
       "      <td>1</td>\n",
       "      <td>132</td>\n",
       "      <td>0</td>\n",
       "      <td>1.2</td>\n",
       "      <td>1</td>\n",
       "      <td>0</td>\n",
       "      <td>3</td>\n",
       "      <td>0</td>\n",
       "    </tr>\n",
       "    <tr>\n",
       "      <th>300</th>\n",
       "      <td>68</td>\n",
       "      <td>1</td>\n",
       "      <td>0</td>\n",
       "      <td>144</td>\n",
       "      <td>193</td>\n",
       "      <td>1</td>\n",
       "      <td>1</td>\n",
       "      <td>141</td>\n",
       "      <td>0</td>\n",
       "      <td>3.4</td>\n",
       "      <td>1</td>\n",
       "      <td>2</td>\n",
       "      <td>3</td>\n",
       "      <td>0</td>\n",
       "    </tr>\n",
       "    <tr>\n",
       "      <th>301</th>\n",
       "      <td>57</td>\n",
       "      <td>1</td>\n",
       "      <td>0</td>\n",
       "      <td>130</td>\n",
       "      <td>131</td>\n",
       "      <td>0</td>\n",
       "      <td>1</td>\n",
       "      <td>115</td>\n",
       "      <td>1</td>\n",
       "      <td>1.2</td>\n",
       "      <td>1</td>\n",
       "      <td>1</td>\n",
       "      <td>3</td>\n",
       "      <td>0</td>\n",
       "    </tr>\n",
       "    <tr>\n",
       "      <th>302</th>\n",
       "      <td>57</td>\n",
       "      <td>0</td>\n",
       "      <td>1</td>\n",
       "      <td>130</td>\n",
       "      <td>236</td>\n",
       "      <td>0</td>\n",
       "      <td>0</td>\n",
       "      <td>174</td>\n",
       "      <td>0</td>\n",
       "      <td>0.0</td>\n",
       "      <td>1</td>\n",
       "      <td>1</td>\n",
       "      <td>2</td>\n",
       "      <td>0</td>\n",
       "    </tr>\n",
       "  </tbody>\n",
       "</table>\n",
       "<p>182 rows × 14 columns</p>\n",
       "</div>"
      ],
      "text/plain": [
       "     age  sex  cp  trtbps  chol  fbs  restecg  thalachh  exng  oldpeak  slp  \\\n",
       "0     63    1   3     145   233    1        0       150     0      2.3    0   \n",
       "1     37    1   2     130   250    0        1       187     0      3.5    0   \n",
       "2     41    0   1     130   204    0        0       172     0      1.4    2   \n",
       "3     56    1   1     120   236    0        1       178     0      0.8    2   \n",
       "4     57    0   0     120   354    0        1       163     1      0.6    2   \n",
       "..   ...  ...  ..     ...   ...  ...      ...       ...   ...      ...  ...   \n",
       "298   57    0   0     140   241    0        1       123     1      0.2    1   \n",
       "299   45    1   3     110   264    0        1       132     0      1.2    1   \n",
       "300   68    1   0     144   193    1        1       141     0      3.4    1   \n",
       "301   57    1   0     130   131    0        1       115     1      1.2    1   \n",
       "302   57    0   1     130   236    0        0       174     0      0.0    1   \n",
       "\n",
       "     caa  thall  output  \n",
       "0      0      1       1  \n",
       "1      0      2       1  \n",
       "2      0      2       1  \n",
       "3      0      2       1  \n",
       "4      0      2       1  \n",
       "..   ...    ...     ...  \n",
       "298    0      3       0  \n",
       "299    0      3       0  \n",
       "300    2      3       0  \n",
       "301    1      3       0  \n",
       "302    1      2       0  \n",
       "\n",
       "[182 rows x 14 columns]"
      ]
     },
     "execution_count": 39,
     "metadata": {},
     "output_type": "execute_result"
    }
   ],
   "source": [
    "HID1"
   ]
  },
  {
   "cell_type": "code",
   "execution_count": 40,
   "id": "6ee0b5f3",
   "metadata": {},
   "outputs": [
    {
     "name": "stdout",
     "output_type": "stream",
     "text": [
      "1 : 90.10989010989012 %\n",
      "0 : 9.89010989010989 %\n"
     ]
    },
    {
     "data": {
      "text/plain": [
       "9.89010989010989"
      ]
     },
     "execution_count": 40,
     "metadata": {},
     "output_type": "execute_result"
    },
    {
     "data": {
      "image/png": "[encoded data removed]",
      "text/plain": [
       "<Figure size 432x288 with 1 Axes>"
      ]
     },
     "metadata": {
      "needs_background": "light"
     },
     "output_type": "display_data"
    }
   ],
   "source": [
    "class_balance(HID1, \"output\")"
   ]
  },
  {
   "cell_type": "code",
   "execution_count": 41,
   "id": "b8944432",
   "metadata": {},
   "outputs": [
    {
     "data": {
      "image/png": "[encoded data removed]",
      "text/plain": [
       "<Figure size 576x576 with 2 Axes>"
      ]
     },
     "metadata": {
      "needs_background": "light"
     },
     "output_type": "display_data"
    }
   ],
   "source": [
    "features, labels = features_labels(HID1, label_column=\"output\")\n",
    "test_labels, pred_labels = train_test_model(randomForestClassifier, stratified_kfolds, features, labels)\n",
    "\n",
    "calculate_confusion_matrix(test_labels, pred_labels, labels=HID1[\"output\"].unique())"
   ]
  },
  {
   "cell_type": "code",
   "execution_count": 42,
   "id": "24036634",
   "metadata": {},
   "outputs": [],
   "source": [
    "stratified_kfolds = StratifiedKFold(n_splits=10, random_state=42, shuffle=True)\n",
    "    \n",
    "unseen_fold_train_indices = np.empty([0], dtype=int)\n",
    "unseen_fold_test_indices = np.empty([0], dtype=int)\n",
    "train_fold_indices = np.empty([0], dtype=int)\n",
    "test_fold_indices = np.empty([0], dtype=int)\n",
    "    \n",
    "kFold = 0\n",
    "for train_index, test_index in stratified_kfolds.split(features, labels):\n",
    "    if kFold == 0:\n",
    "        unseen_fold_train_indices = np.append(unseen_fold_train_indices, train_index)\n",
    "        unseen_fold_test_indices = np.append(unseen_fold_test_indices, test_index)\n",
    "    else:\n",
    "        train_fold_indices = np.append(train_fold_indices, train_index)\n",
    "        test_fold_indices = np.append(test_fold_indices, test_index)\n",
    "        \n",
    "    kFold += 1\n",
    "#print(train_fold_indices)"
   ]
  },
  {
   "cell_type": "code",
   "execution_count": 43,
   "id": "5a2406cb",
   "metadata": {},
   "outputs": [],
   "source": [
    "train_features = features.iloc[train_fold_indices]\n",
    "train_labels = labels.iloc[train_fold_indices]\n",
    "\n",
    "unseen_fold_features = features.iloc[unseen_fold_train_indices]\n",
    "unseen_fold_labels = labels.iloc[unseen_fold_train_indices]"
   ]
  },
  {
   "cell_type": "code",
   "execution_count": 44,
   "id": "69f0d4f4",
   "metadata": {},
   "outputs": [
    {
     "data": {
      "image/png": "[encoded data removed]",
      "text/plain": [
       "<Figure size 1080x360 with 1 Axes>"
      ]
     },
     "metadata": {
      "needs_background": "light"
     },
     "output_type": "display_data"
    },
    {
     "data": {
      "image/png": "[encoded data removed]",
      "text/plain": [
       "<Figure size 1080x360 with 1 Axes>"
      ]
     },
     "metadata": {
      "needs_background": "light"
     },
     "output_type": "display_data"
    }
   ],
   "source": [
    "elbowMethodResult(train_features)\n",
    "avgSilhouteMethodResult(train_features)"
   ]
  },
  {
   "cell_type": "code",
   "execution_count": 45,
   "id": "535d72fd",
   "metadata": {},
   "outputs": [],
   "source": [
    "kmean_classifier = KMeans(n_clusters=3)\n",
    "cluster_labels = kmean_classifier.fit(train_features)"
   ]
  },
  {
   "cell_type": "code",
   "execution_count": 46,
   "id": "97142e5e",
   "metadata": {},
   "outputs": [
    {
     "name": "stdout",
     "output_type": "stream",
     "text": [
      "Series([], Name: output, dtype: int64)\n",
      "0\n",
      "Series([], Name: output, dtype: int64)\n",
      "0\n",
      "Series([], Name: output, dtype: int64)\n",
      "0\n"
     ]
    },
    {
     "data": {
      "text/plain": [
       "[{'K': 1,\n",
       "  'centroid': array([5.38562197e+01, 5.91276252e-01, 1.37479806e+00, 1.33016155e+02,\n",
       "         2.49520194e+02, 1.58319871e-01, 4.62035541e-01, 1.57474960e+02,\n",
       "         1.69628433e-01, 6.23747981e-01, 1.50403877e+00, 4.34571890e-01,\n",
       "         2.15670436e+00]),\n",
       "  'total_classes': array([], dtype=int64)},\n",
       " {'K': 2,\n",
       "  'centroid': array([5.14649266e+01, 6.31321370e-01, 1.29363785e+00, 1.26631321e+02,\n",
       "         1.97221860e+02, 1.45187602e-01, 7.37357259e-01, 1.55378467e+02,\n",
       "         1.99021207e-01, 6.84502447e-01, 1.55464927e+00, 3.81729201e-01,\n",
       "         2.11908646e+00]),\n",
       "  'total_classes': array([], dtype=int64)},\n",
       " {'K': 3,\n",
       "  'centroid': array([5.53539095e+01, 4.03292181e-01, 1.09053498e+00, 1.30724280e+02,\n",
       "         3.29292181e+02, 9.87654321e-02, 6.70781893e-01, 1.57205761e+02,\n",
       "         1.31687243e-01, 8.90534979e-01, 1.62551440e+00, 5.06172840e-01,\n",
       "         2.16049383e+00]),\n",
       "  'total_classes': array([], dtype=int64)}]"
      ]
     },
     "execution_count": 46,
     "metadata": {},
     "output_type": "execute_result"
    }
   ],
   "source": [
    "cluster_details = ClusterInformation(kmean_classifier, train_features, train_labels, distance_threshold=0.43)\n",
    "cluster_details"
   ]
  },
  {
   "cell_type": "code",
   "execution_count": 47,
   "id": "47899784",
   "metadata": {},
   "outputs": [
    {
     "ename": "KeyError",
     "evalue": "'minority_class'",
     "output_type": "error",
     "traceback": [
      "\u001b[1;31m---------------------------------------------------------------------------\u001b[0m",
      "\u001b[1;31mIndexError\u001b[0m                                Traceback (most recent call last)",
      "\u001b[1;32m<ipython-input-2-a29636a241c0>\u001b[0m in \u001b[0;36mgetUnseenFoldPrediction\u001b[1;34m(kMeansClf, unseen_fold_features, distance_threshold)\u001b[0m\n\u001b[0;32m    145\u001b[0m         \u001b[1;32mtry\u001b[0m\u001b[1;33m:\u001b[0m\u001b[1;33m\u001b[0m\u001b[1;33m\u001b[0m\u001b[0m\n\u001b[1;32m--> 146\u001b[1;33m             \u001b[0mchoosen_cluster\u001b[0m \u001b[1;33m=\u001b[0m \u001b[0msorted\u001b[0m\u001b[1;33m(\u001b[0m\u001b[0mclose_clusters\u001b[0m\u001b[1;33m.\u001b[0m\u001b[0mitems\u001b[0m\u001b[1;33m(\u001b[0m\u001b[1;33m)\u001b[0m\u001b[1;33m,\u001b[0m \u001b[0mkey\u001b[0m\u001b[1;33m=\u001b[0m\u001b[1;32mlambda\u001b[0m \u001b[0mx\u001b[0m\u001b[1;33m:\u001b[0m\u001b[0mx\u001b[0m\u001b[1;33m[\u001b[0m\u001b[1;36m1\u001b[0m\u001b[1;33m]\u001b[0m\u001b[1;33m)\u001b[0m\u001b[1;33m[\u001b[0m\u001b[1;36m0\u001b[0m\u001b[1;33m]\u001b[0m\u001b[1;33m\u001b[0m\u001b[1;33m\u001b[0m\u001b[0m\n\u001b[0m\u001b[0;32m    147\u001b[0m             \u001b[1;32mif\u001b[0m \u001b[0mlen\u001b[0m\u001b[1;33m(\u001b[0m\u001b[0mcluster_details\u001b[0m\u001b[1;33m[\u001b[0m\u001b[0mchoosen_cluster\u001b[0m\u001b[1;33m[\u001b[0m\u001b[1;36m0\u001b[0m\u001b[1;33m]\u001b[0m\u001b[1;33m]\u001b[0m\u001b[1;33m[\u001b[0m\u001b[1;34m\"total_classes\"\u001b[0m\u001b[1;33m]\u001b[0m\u001b[1;33m)\u001b[0m \u001b[1;33m>\u001b[0m \u001b[1;36m1\u001b[0m\u001b[1;33m:\u001b[0m\u001b[1;33m\u001b[0m\u001b[1;33m\u001b[0m\u001b[0m\n",
      "\u001b[1;31mIndexError\u001b[0m: list index out of range",
      "\nDuring handling of the above exception, another exception occurred:\n",
      "\u001b[1;31mKeyError\u001b[0m                                  Traceback (most recent call last)",
      "\u001b[1;32m<ipython-input-47-d4773055b1a9>\u001b[0m in \u001b[0;36m<module>\u001b[1;34m\u001b[0m\n\u001b[1;32m----> 1\u001b[1;33m \u001b[0mpredictions\u001b[0m \u001b[1;33m=\u001b[0m \u001b[0mgetUnseenFoldPrediction\u001b[0m\u001b[1;33m(\u001b[0m\u001b[0mkmean_classifier\u001b[0m\u001b[1;33m,\u001b[0m \u001b[0munseen_fold_features\u001b[0m\u001b[1;33m,\u001b[0m \u001b[1;36m0.43\u001b[0m\u001b[1;33m)\u001b[0m\u001b[1;33m\u001b[0m\u001b[1;33m\u001b[0m\u001b[0m\n\u001b[0m\u001b[0;32m      2\u001b[0m \u001b[0mpredictions\u001b[0m \u001b[1;33m=\u001b[0m \u001b[0mgetCleanPredictions\u001b[0m\u001b[1;33m(\u001b[0m\u001b[0mpredictions\u001b[0m\u001b[1;33m)\u001b[0m\u001b[1;33m\u001b[0m\u001b[1;33m\u001b[0m\u001b[0m\n\u001b[0;32m      3\u001b[0m \u001b[0mcompute_confusion_matrix\u001b[0m\u001b[1;33m(\u001b[0m\u001b[0munseen_fold_labels\u001b[0m\u001b[1;33m,\u001b[0m \u001b[0mpredictions\u001b[0m\u001b[1;33m,\u001b[0m \u001b[0mlabels\u001b[0m\u001b[1;33m=\u001b[0m\u001b[0mHID1\u001b[0m\u001b[1;33m[\u001b[0m\u001b[1;34m\"output\"\u001b[0m\u001b[1;33m]\u001b[0m\u001b[1;33m.\u001b[0m\u001b[0munique\u001b[0m\u001b[1;33m(\u001b[0m\u001b[1;33m)\u001b[0m\u001b[1;33m)\u001b[0m\u001b[1;33m\u001b[0m\u001b[1;33m\u001b[0m\u001b[0m\n",
      "\u001b[1;32m<ipython-input-2-a29636a241c0>\u001b[0m in \u001b[0;36mgetUnseenFoldPrediction\u001b[1;34m(kMeansClf, unseen_fold_features, distance_threshold)\u001b[0m\n\u001b[0;32m    150\u001b[0m                 \u001b[0mpredicted_labels\u001b[0m\u001b[1;33m.\u001b[0m\u001b[0mappend\u001b[0m\u001b[1;33m(\u001b[0m\u001b[0mcluster_details\u001b[0m\u001b[1;33m[\u001b[0m\u001b[0mchoosen_cluster\u001b[0m\u001b[1;33m[\u001b[0m\u001b[1;36m0\u001b[0m\u001b[1;33m]\u001b[0m\u001b[1;33m]\u001b[0m\u001b[1;33m[\u001b[0m\u001b[1;34m\"minority_class\"\u001b[0m\u001b[1;33m]\u001b[0m\u001b[1;33m)\u001b[0m\u001b[1;33m\u001b[0m\u001b[1;33m\u001b[0m\u001b[0m\n\u001b[0;32m    151\u001b[0m         \u001b[1;32mexcept\u001b[0m \u001b[0mException\u001b[0m\u001b[1;33m:\u001b[0m\u001b[1;33m\u001b[0m\u001b[1;33m\u001b[0m\u001b[0m\n\u001b[1;32m--> 152\u001b[1;33m             \u001b[0mpredicted_labels\u001b[0m\u001b[1;33m.\u001b[0m\u001b[0mappend\u001b[0m\u001b[1;33m(\u001b[0m\u001b[0mcluster_details\u001b[0m\u001b[1;33m[\u001b[0m\u001b[1;36m0\u001b[0m\u001b[1;33m]\u001b[0m\u001b[1;33m[\u001b[0m\u001b[1;34m\"minority_class\"\u001b[0m\u001b[1;33m]\u001b[0m\u001b[1;33m)\u001b[0m\u001b[1;33m\u001b[0m\u001b[1;33m\u001b[0m\u001b[0m\n\u001b[0m\u001b[0;32m    153\u001b[0m \u001b[1;33m\u001b[0m\u001b[0m\n\u001b[0;32m    154\u001b[0m     \u001b[1;32mreturn\u001b[0m \u001b[0mpredicted_labels\u001b[0m\u001b[1;33m\u001b[0m\u001b[1;33m\u001b[0m\u001b[0m\n",
      "\u001b[1;31mKeyError\u001b[0m: 'minority_class'"
     ]
    }
   ],
   "source": [
    "predictions = UnseenFoldPrediction(kmean_classifier, unseen_fold_features, 0.43)\n",
    "predictions = CleanPredictions(predictions)\n",
    "calculate_confusion_matrix(unseen_fold_labels, predictions, labels=HID1[\"output\"].unique())"
   ]
  },
  {
   "cell_type": "markdown",
   "id": "1191387a",
   "metadata": {},
   "source": [
    "### Airline Passenger Satisfaction"
   ]
  },
  {
   "cell_type": "code",
   "execution_count": 100,
   "id": "5504803d",
   "metadata": {},
   "outputs": [
    {
     "name": "stdout",
     "output_type": "stream",
     "text": [
      "(103904, 25)\n"
     ]
    },
    {
     "data": {
      "text/html": [
       "<div>\n",
       "<style scoped>\n",
       "    .dataframe tbody tr th:only-of-type {\n",
       "        vertical-align: middle;\n",
       "    }\n",
       "\n",
       "    .dataframe tbody tr th {\n",
       "        vertical-align: top;\n",
       "    }\n",
       "\n",
       "    .dataframe thead th {\n",
       "        text-align: right;\n",
       "    }\n",
       "</style>\n",
       "<table border=\"1\" class=\"dataframe\">\n",
       "  <thead>\n",
       "    <tr style=\"text-align: right;\">\n",
       "      <th></th>\n",
       "      <th>Unnamed: 0</th>\n",
       "      <th>id</th>\n",
       "      <th>Gender</th>\n",
       "      <th>Customer Type</th>\n",
       "      <th>Age</th>\n",
       "      <th>Type of Travel</th>\n",
       "      <th>Class</th>\n",
       "      <th>Flight Distance</th>\n",
       "      <th>Inflight wifi service</th>\n",
       "      <th>Departure/Arrival time convenient</th>\n",
       "      <th>...</th>\n",
       "      <th>Inflight entertainment</th>\n",
       "      <th>On-board service</th>\n",
       "      <th>Leg room service</th>\n",
       "      <th>Baggage handling</th>\n",
       "      <th>Checkin service</th>\n",
       "      <th>Inflight service</th>\n",
       "      <th>Cleanliness</th>\n",
       "      <th>Departure Delay in Minutes</th>\n",
       "      <th>Arrival Delay in Minutes</th>\n",
       "      <th>satisfaction</th>\n",
       "    </tr>\n",
       "  </thead>\n",
       "  <tbody>\n",
       "    <tr>\n",
       "      <th>0</th>\n",
       "      <td>0</td>\n",
       "      <td>70172</td>\n",
       "      <td>Male</td>\n",
       "      <td>Loyal Customer</td>\n",
       "      <td>13</td>\n",
       "      <td>Personal Travel</td>\n",
       "      <td>Eco Plus</td>\n",
       "      <td>460</td>\n",
       "      <td>3</td>\n",
       "      <td>4</td>\n",
       "      <td>...</td>\n",
       "      <td>5</td>\n",
       "      <td>4</td>\n",
       "      <td>3</td>\n",
       "      <td>4</td>\n",
       "      <td>4</td>\n",
       "      <td>5</td>\n",
       "      <td>5</td>\n",
       "      <td>25</td>\n",
       "      <td>18.0</td>\n",
       "      <td>neutral or dissatisfied</td>\n",
       "    </tr>\n",
       "    <tr>\n",
       "      <th>1</th>\n",
       "      <td>1</td>\n",
       "      <td>5047</td>\n",
       "      <td>Male</td>\n",
       "      <td>disloyal Customer</td>\n",
       "      <td>25</td>\n",
       "      <td>Business travel</td>\n",
       "      <td>Business</td>\n",
       "      <td>235</td>\n",
       "      <td>3</td>\n",
       "      <td>2</td>\n",
       "      <td>...</td>\n",
       "      <td>1</td>\n",
       "      <td>1</td>\n",
       "      <td>5</td>\n",
       "      <td>3</td>\n",
       "      <td>1</td>\n",
       "      <td>4</td>\n",
       "      <td>1</td>\n",
       "      <td>1</td>\n",
       "      <td>6.0</td>\n",
       "      <td>neutral or dissatisfied</td>\n",
       "    </tr>\n",
       "    <tr>\n",
       "      <th>2</th>\n",
       "      <td>2</td>\n",
       "      <td>110028</td>\n",
       "      <td>Female</td>\n",
       "      <td>Loyal Customer</td>\n",
       "      <td>26</td>\n",
       "      <td>Business travel</td>\n",
       "      <td>Business</td>\n",
       "      <td>1142</td>\n",
       "      <td>2</td>\n",
       "      <td>2</td>\n",
       "      <td>...</td>\n",
       "      <td>5</td>\n",
       "      <td>4</td>\n",
       "      <td>3</td>\n",
       "      <td>4</td>\n",
       "      <td>4</td>\n",
       "      <td>4</td>\n",
       "      <td>5</td>\n",
       "      <td>0</td>\n",
       "      <td>0.0</td>\n",
       "      <td>satisfied</td>\n",
       "    </tr>\n",
       "    <tr>\n",
       "      <th>3</th>\n",
       "      <td>3</td>\n",
       "      <td>24026</td>\n",
       "      <td>Female</td>\n",
       "      <td>Loyal Customer</td>\n",
       "      <td>25</td>\n",
       "      <td>Business travel</td>\n",
       "      <td>Business</td>\n",
       "      <td>562</td>\n",
       "      <td>2</td>\n",
       "      <td>5</td>\n",
       "      <td>...</td>\n",
       "      <td>2</td>\n",
       "      <td>2</td>\n",
       "      <td>5</td>\n",
       "      <td>3</td>\n",
       "      <td>1</td>\n",
       "      <td>4</td>\n",
       "      <td>2</td>\n",
       "      <td>11</td>\n",
       "      <td>9.0</td>\n",
       "      <td>neutral or dissatisfied</td>\n",
       "    </tr>\n",
       "    <tr>\n",
       "      <th>4</th>\n",
       "      <td>4</td>\n",
       "      <td>119299</td>\n",
       "      <td>Male</td>\n",
       "      <td>Loyal Customer</td>\n",
       "      <td>61</td>\n",
       "      <td>Business travel</td>\n",
       "      <td>Business</td>\n",
       "      <td>214</td>\n",
       "      <td>3</td>\n",
       "      <td>3</td>\n",
       "      <td>...</td>\n",
       "      <td>3</td>\n",
       "      <td>3</td>\n",
       "      <td>4</td>\n",
       "      <td>4</td>\n",
       "      <td>3</td>\n",
       "      <td>3</td>\n",
       "      <td>3</td>\n",
       "      <td>0</td>\n",
       "      <td>0.0</td>\n",
       "      <td>satisfied</td>\n",
       "    </tr>\n",
       "    <tr>\n",
       "      <th>5</th>\n",
       "      <td>5</td>\n",
       "      <td>111157</td>\n",
       "      <td>Female</td>\n",
       "      <td>Loyal Customer</td>\n",
       "      <td>26</td>\n",
       "      <td>Personal Travel</td>\n",
       "      <td>Eco</td>\n",
       "      <td>1180</td>\n",
       "      <td>3</td>\n",
       "      <td>4</td>\n",
       "      <td>...</td>\n",
       "      <td>1</td>\n",
       "      <td>3</td>\n",
       "      <td>4</td>\n",
       "      <td>4</td>\n",
       "      <td>4</td>\n",
       "      <td>4</td>\n",
       "      <td>1</td>\n",
       "      <td>0</td>\n",
       "      <td>0.0</td>\n",
       "      <td>neutral or dissatisfied</td>\n",
       "    </tr>\n",
       "    <tr>\n",
       "      <th>6</th>\n",
       "      <td>6</td>\n",
       "      <td>82113</td>\n",
       "      <td>Male</td>\n",
       "      <td>Loyal Customer</td>\n",
       "      <td>47</td>\n",
       "      <td>Personal Travel</td>\n",
       "      <td>Eco</td>\n",
       "      <td>1276</td>\n",
       "      <td>2</td>\n",
       "      <td>4</td>\n",
       "      <td>...</td>\n",
       "      <td>2</td>\n",
       "      <td>3</td>\n",
       "      <td>3</td>\n",
       "      <td>4</td>\n",
       "      <td>3</td>\n",
       "      <td>5</td>\n",
       "      <td>2</td>\n",
       "      <td>9</td>\n",
       "      <td>23.0</td>\n",
       "      <td>neutral or dissatisfied</td>\n",
       "    </tr>\n",
       "    <tr>\n",
       "      <th>7</th>\n",
       "      <td>7</td>\n",
       "      <td>96462</td>\n",
       "      <td>Female</td>\n",
       "      <td>Loyal Customer</td>\n",
       "      <td>52</td>\n",
       "      <td>Business travel</td>\n",
       "      <td>Business</td>\n",
       "      <td>2035</td>\n",
       "      <td>4</td>\n",
       "      <td>3</td>\n",
       "      <td>...</td>\n",
       "      <td>5</td>\n",
       "      <td>5</td>\n",
       "      <td>5</td>\n",
       "      <td>5</td>\n",
       "      <td>4</td>\n",
       "      <td>5</td>\n",
       "      <td>4</td>\n",
       "      <td>4</td>\n",
       "      <td>0.0</td>\n",
       "      <td>satisfied</td>\n",
       "    </tr>\n",
       "    <tr>\n",
       "      <th>8</th>\n",
       "      <td>8</td>\n",
       "      <td>79485</td>\n",
       "      <td>Female</td>\n",
       "      <td>Loyal Customer</td>\n",
       "      <td>41</td>\n",
       "      <td>Business travel</td>\n",
       "      <td>Business</td>\n",
       "      <td>853</td>\n",
       "      <td>1</td>\n",
       "      <td>2</td>\n",
       "      <td>...</td>\n",
       "      <td>1</td>\n",
       "      <td>1</td>\n",
       "      <td>2</td>\n",
       "      <td>1</td>\n",
       "      <td>4</td>\n",
       "      <td>1</td>\n",
       "      <td>2</td>\n",
       "      <td>0</td>\n",
       "      <td>0.0</td>\n",
       "      <td>neutral or dissatisfied</td>\n",
       "    </tr>\n",
       "    <tr>\n",
       "      <th>9</th>\n",
       "      <td>9</td>\n",
       "      <td>65725</td>\n",
       "      <td>Male</td>\n",
       "      <td>disloyal Customer</td>\n",
       "      <td>20</td>\n",
       "      <td>Business travel</td>\n",
       "      <td>Eco</td>\n",
       "      <td>1061</td>\n",
       "      <td>3</td>\n",
       "      <td>3</td>\n",
       "      <td>...</td>\n",
       "      <td>2</td>\n",
       "      <td>2</td>\n",
       "      <td>3</td>\n",
       "      <td>4</td>\n",
       "      <td>4</td>\n",
       "      <td>3</td>\n",
       "      <td>2</td>\n",
       "      <td>0</td>\n",
       "      <td>0.0</td>\n",
       "      <td>neutral or dissatisfied</td>\n",
       "    </tr>\n",
       "  </tbody>\n",
       "</table>\n",
       "<p>10 rows × 25 columns</p>\n",
       "</div>"
      ],
      "text/plain": [
       "   Unnamed: 0      id  Gender      Customer Type  Age   Type of Travel  \\\n",
       "0           0   70172    Male     Loyal Customer   13  Personal Travel   \n",
       "1           1    5047    Male  disloyal Customer   25  Business travel   \n",
       "2           2  110028  Female     Loyal Customer   26  Business travel   \n",
       "3           3   24026  Female     Loyal Customer   25  Business travel   \n",
       "4           4  119299    Male     Loyal Customer   61  Business travel   \n",
       "5           5  111157  Female     Loyal Customer   26  Personal Travel   \n",
       "6           6   82113    Male     Loyal Customer   47  Personal Travel   \n",
       "7           7   96462  Female     Loyal Customer   52  Business travel   \n",
       "8           8   79485  Female     Loyal Customer   41  Business travel   \n",
       "9           9   65725    Male  disloyal Customer   20  Business travel   \n",
       "\n",
       "      Class  Flight Distance  Inflight wifi service  \\\n",
       "0  Eco Plus              460                      3   \n",
       "1  Business              235                      3   \n",
       "2  Business             1142                      2   \n",
       "3  Business              562                      2   \n",
       "4  Business              214                      3   \n",
       "5       Eco             1180                      3   \n",
       "6       Eco             1276                      2   \n",
       "7  Business             2035                      4   \n",
       "8  Business              853                      1   \n",
       "9       Eco             1061                      3   \n",
       "\n",
       "   Departure/Arrival time convenient  ...  Inflight entertainment  \\\n",
       "0                                  4  ...                       5   \n",
       "1                                  2  ...                       1   \n",
       "2                                  2  ...                       5   \n",
       "3                                  5  ...                       2   \n",
       "4                                  3  ...                       3   \n",
       "5                                  4  ...                       1   \n",
       "6                                  4  ...                       2   \n",
       "7                                  3  ...                       5   \n",
       "8                                  2  ...                       1   \n",
       "9                                  3  ...                       2   \n",
       "\n",
       "   On-board service  Leg room service  Baggage handling  Checkin service  \\\n",
       "0                 4                 3                 4                4   \n",
       "1                 1                 5                 3                1   \n",
       "2                 4                 3                 4                4   \n",
       "3                 2                 5                 3                1   \n",
       "4                 3                 4                 4                3   \n",
       "5                 3                 4                 4                4   \n",
       "6                 3                 3                 4                3   \n",
       "7                 5                 5                 5                4   \n",
       "8                 1                 2                 1                4   \n",
       "9                 2                 3                 4                4   \n",
       "\n",
       "   Inflight service  Cleanliness  Departure Delay in Minutes  \\\n",
       "0                 5            5                          25   \n",
       "1                 4            1                           1   \n",
       "2                 4            5                           0   \n",
       "3                 4            2                          11   \n",
       "4                 3            3                           0   \n",
       "5                 4            1                           0   \n",
       "6                 5            2                           9   \n",
       "7                 5            4                           4   \n",
       "8                 1            2                           0   \n",
       "9                 3            2                           0   \n",
       "\n",
       "   Arrival Delay in Minutes             satisfaction  \n",
       "0                      18.0  neutral or dissatisfied  \n",
       "1                       6.0  neutral or dissatisfied  \n",
       "2                       0.0                satisfied  \n",
       "3                       9.0  neutral or dissatisfied  \n",
       "4                       0.0                satisfied  \n",
       "5                       0.0  neutral or dissatisfied  \n",
       "6                      23.0  neutral or dissatisfied  \n",
       "7                       0.0                satisfied  \n",
       "8                       0.0  neutral or dissatisfied  \n",
       "9                       0.0  neutral or dissatisfied  \n",
       "\n",
       "[10 rows x 25 columns]"
      ]
     },
     "execution_count": 100,
     "metadata": {},
     "output_type": "execute_result"
    }
   ],
   "source": [
    "df2 = pd.read_csv(\"airline_passenger_satisfaction/train.csv\")\n",
    "print(df2.shape)\n",
    "df2.head(10)"
   ]
  },
  {
   "cell_type": "code",
   "execution_count": 101,
   "id": "dc00949d",
   "metadata": {},
   "outputs": [
    {
     "data": {
      "text/plain": [
       "Unnamed: 0                             int64\n",
       "id                                     int64\n",
       "Gender                                object\n",
       "Customer Type                         object\n",
       "Age                                    int64\n",
       "Type of Travel                        object\n",
       "Class                                 object\n",
       "Flight Distance                        int64\n",
       "Inflight wifi service                  int64\n",
       "Departure/Arrival time convenient      int64\n",
       "Ease of Online booking                 int64\n",
       "Gate location                          int64\n",
       "Food and drink                         int64\n",
       "Online boarding                        int64\n",
       "Seat comfort                           int64\n",
       "Inflight entertainment                 int64\n",
       "On-board service                       int64\n",
       "Leg room service                       int64\n",
       "Baggage handling                       int64\n",
       "Checkin service                        int64\n",
       "Inflight service                       int64\n",
       "Cleanliness                            int64\n",
       "Departure Delay in Minutes             int64\n",
       "Arrival Delay in Minutes             float64\n",
       "satisfaction                          object\n",
       "dtype: object"
      ]
     },
     "execution_count": 101,
     "metadata": {},
     "output_type": "execute_result"
    }
   ],
   "source": [
    "df2.dtypes"
   ]
  },
  {
   "cell_type": "code",
   "execution_count": 102,
   "id": "ad7ffb8c",
   "metadata": {},
   "outputs": [
    {
     "data": {
      "text/plain": [
       "Unnamed: 0                             0\n",
       "id                                     0\n",
       "Gender                                 0\n",
       "Customer Type                          0\n",
       "Age                                    0\n",
       "Type of Travel                         0\n",
       "Class                                  0\n",
       "Flight Distance                        0\n",
       "Inflight wifi service                  0\n",
       "Departure/Arrival time convenient      0\n",
       "Ease of Online booking                 0\n",
       "Gate location                          0\n",
       "Food and drink                         0\n",
       "Online boarding                        0\n",
       "Seat comfort                           0\n",
       "Inflight entertainment                 0\n",
       "On-board service                       0\n",
       "Leg room service                       0\n",
       "Baggage handling                       0\n",
       "Checkin service                        0\n",
       "Inflight service                       0\n",
       "Cleanliness                            0\n",
       "Departure Delay in Minutes             0\n",
       "Arrival Delay in Minutes             310\n",
       "satisfaction                           0\n",
       "dtype: int64"
      ]
     },
     "execution_count": 102,
     "metadata": {},
     "output_type": "execute_result"
    }
   ],
   "source": [
    "df2.isnull().sum()"
   ]
  },
  {
   "cell_type": "code",
   "execution_count": 103,
   "id": "f7a67f5e",
   "metadata": {},
   "outputs": [],
   "source": [
    "df2.dropna(inplace = True)"
   ]
  },
  {
   "cell_type": "code",
   "execution_count": 104,
   "id": "ecc7b306",
   "metadata": {},
   "outputs": [
    {
     "data": {
      "text/plain": [
       "(103594, 25)"
      ]
     },
     "execution_count": 104,
     "metadata": {},
     "output_type": "execute_result"
    }
   ],
   "source": [
    "df2.shape"
   ]
  },
  {
   "cell_type": "code",
   "execution_count": 105,
   "id": "b94d2281",
   "metadata": {},
   "outputs": [
    {
     "data": {
      "text/plain": [
       "0"
      ]
     },
     "execution_count": 105,
     "metadata": {},
     "output_type": "execute_result"
    }
   ],
   "source": [
    "df2.duplicated().sum()"
   ]
  },
  {
   "cell_type": "code",
   "execution_count": 106,
   "id": "25c138ad",
   "metadata": {},
   "outputs": [
    {
     "name": "stdout",
     "output_type": "stream",
     "text": [
      "neutral or dissatisfied : 56.660617410274725 %\n",
      "satisfied : 43.339382589725275 %\n"
     ]
    },
    {
     "data": {
      "text/plain": [
       "43.339382589725275"
      ]
     },
     "execution_count": 106,
     "metadata": {},
     "output_type": "execute_result"
    },
    {
     "data": {
      "image/png": "[encoded data removed]",
      "text/plain": [
       "<Figure size 432x288 with 1 Axes>"
      ]
     },
     "metadata": {
      "needs_background": "light"
     },
     "output_type": "display_data"
    }
   ],
   "source": [
    "class_balance(df2, \"satisfaction\")"
   ]
  },
  {
   "cell_type": "code",
   "execution_count": 107,
   "id": "30bf423b",
   "metadata": {},
   "outputs": [
    {
     "data": {
      "text/html": [
       "<div>\n",
       "<style scoped>\n",
       "    .dataframe tbody tr th:only-of-type {\n",
       "        vertical-align: middle;\n",
       "    }\n",
       "\n",
       "    .dataframe tbody tr th {\n",
       "        vertical-align: top;\n",
       "    }\n",
       "\n",
       "    .dataframe thead th {\n",
       "        text-align: right;\n",
       "    }\n",
       "</style>\n",
       "<table border=\"1\" class=\"dataframe\">\n",
       "  <thead>\n",
       "    <tr style=\"text-align: right;\">\n",
       "      <th></th>\n",
       "      <th>Unnamed: 0</th>\n",
       "      <th>id</th>\n",
       "      <th>Gender</th>\n",
       "      <th>Customer Type</th>\n",
       "      <th>Age</th>\n",
       "      <th>Type of Travel</th>\n",
       "      <th>Flight Distance</th>\n",
       "      <th>Inflight wifi service</th>\n",
       "      <th>Departure/Arrival time convenient</th>\n",
       "      <th>Ease of Online booking</th>\n",
       "      <th>...</th>\n",
       "      <th>Baggage handling</th>\n",
       "      <th>Checkin service</th>\n",
       "      <th>Inflight service</th>\n",
       "      <th>Cleanliness</th>\n",
       "      <th>Departure Delay in Minutes</th>\n",
       "      <th>Arrival Delay in Minutes</th>\n",
       "      <th>satisfaction</th>\n",
       "      <th>Class_Business</th>\n",
       "      <th>Class_Eco</th>\n",
       "      <th>Class_Eco Plus</th>\n",
       "    </tr>\n",
       "  </thead>\n",
       "  <tbody>\n",
       "    <tr>\n",
       "      <th>0</th>\n",
       "      <td>0</td>\n",
       "      <td>70172</td>\n",
       "      <td>1</td>\n",
       "      <td>0</td>\n",
       "      <td>13</td>\n",
       "      <td>1</td>\n",
       "      <td>460</td>\n",
       "      <td>3</td>\n",
       "      <td>4</td>\n",
       "      <td>3</td>\n",
       "      <td>...</td>\n",
       "      <td>4</td>\n",
       "      <td>4</td>\n",
       "      <td>5</td>\n",
       "      <td>5</td>\n",
       "      <td>25</td>\n",
       "      <td>18.0</td>\n",
       "      <td>0</td>\n",
       "      <td>0</td>\n",
       "      <td>0</td>\n",
       "      <td>1</td>\n",
       "    </tr>\n",
       "    <tr>\n",
       "      <th>1</th>\n",
       "      <td>1</td>\n",
       "      <td>5047</td>\n",
       "      <td>1</td>\n",
       "      <td>1</td>\n",
       "      <td>25</td>\n",
       "      <td>0</td>\n",
       "      <td>235</td>\n",
       "      <td>3</td>\n",
       "      <td>2</td>\n",
       "      <td>3</td>\n",
       "      <td>...</td>\n",
       "      <td>3</td>\n",
       "      <td>1</td>\n",
       "      <td>4</td>\n",
       "      <td>1</td>\n",
       "      <td>1</td>\n",
       "      <td>6.0</td>\n",
       "      <td>0</td>\n",
       "      <td>1</td>\n",
       "      <td>0</td>\n",
       "      <td>0</td>\n",
       "    </tr>\n",
       "    <tr>\n",
       "      <th>2</th>\n",
       "      <td>2</td>\n",
       "      <td>110028</td>\n",
       "      <td>0</td>\n",
       "      <td>0</td>\n",
       "      <td>26</td>\n",
       "      <td>0</td>\n",
       "      <td>1142</td>\n",
       "      <td>2</td>\n",
       "      <td>2</td>\n",
       "      <td>2</td>\n",
       "      <td>...</td>\n",
       "      <td>4</td>\n",
       "      <td>4</td>\n",
       "      <td>4</td>\n",
       "      <td>5</td>\n",
       "      <td>0</td>\n",
       "      <td>0.0</td>\n",
       "      <td>1</td>\n",
       "      <td>1</td>\n",
       "      <td>0</td>\n",
       "      <td>0</td>\n",
       "    </tr>\n",
       "    <tr>\n",
       "      <th>3</th>\n",
       "      <td>3</td>\n",
       "      <td>24026</td>\n",
       "      <td>0</td>\n",
       "      <td>0</td>\n",
       "      <td>25</td>\n",
       "      <td>0</td>\n",
       "      <td>562</td>\n",
       "      <td>2</td>\n",
       "      <td>5</td>\n",
       "      <td>5</td>\n",
       "      <td>...</td>\n",
       "      <td>3</td>\n",
       "      <td>1</td>\n",
       "      <td>4</td>\n",
       "      <td>2</td>\n",
       "      <td>11</td>\n",
       "      <td>9.0</td>\n",
       "      <td>0</td>\n",
       "      <td>1</td>\n",
       "      <td>0</td>\n",
       "      <td>0</td>\n",
       "    </tr>\n",
       "    <tr>\n",
       "      <th>4</th>\n",
       "      <td>4</td>\n",
       "      <td>119299</td>\n",
       "      <td>1</td>\n",
       "      <td>0</td>\n",
       "      <td>61</td>\n",
       "      <td>0</td>\n",
       "      <td>214</td>\n",
       "      <td>3</td>\n",
       "      <td>3</td>\n",
       "      <td>3</td>\n",
       "      <td>...</td>\n",
       "      <td>4</td>\n",
       "      <td>3</td>\n",
       "      <td>3</td>\n",
       "      <td>3</td>\n",
       "      <td>0</td>\n",
       "      <td>0.0</td>\n",
       "      <td>1</td>\n",
       "      <td>1</td>\n",
       "      <td>0</td>\n",
       "      <td>0</td>\n",
       "    </tr>\n",
       "  </tbody>\n",
       "</table>\n",
       "<p>5 rows × 27 columns</p>\n",
       "</div>"
      ],
      "text/plain": [
       "   Unnamed: 0      id  Gender  Customer Type  Age  Type of Travel  \\\n",
       "0           0   70172       1              0   13               1   \n",
       "1           1    5047       1              1   25               0   \n",
       "2           2  110028       0              0   26               0   \n",
       "3           3   24026       0              0   25               0   \n",
       "4           4  119299       1              0   61               0   \n",
       "\n",
       "   Flight Distance  Inflight wifi service  Departure/Arrival time convenient  \\\n",
       "0              460                      3                                  4   \n",
       "1              235                      3                                  2   \n",
       "2             1142                      2                                  2   \n",
       "3              562                      2                                  5   \n",
       "4              214                      3                                  3   \n",
       "\n",
       "   Ease of Online booking  ...  Baggage handling  Checkin service  \\\n",
       "0                       3  ...                 4                4   \n",
       "1                       3  ...                 3                1   \n",
       "2                       2  ...                 4                4   \n",
       "3                       5  ...                 3                1   \n",
       "4                       3  ...                 4                3   \n",
       "\n",
       "   Inflight service  Cleanliness  Departure Delay in Minutes  \\\n",
       "0                 5            5                          25   \n",
       "1                 4            1                           1   \n",
       "2                 4            5                           0   \n",
       "3                 4            2                          11   \n",
       "4                 3            3                           0   \n",
       "\n",
       "   Arrival Delay in Minutes  satisfaction  Class_Business  Class_Eco  \\\n",
       "0                      18.0             0               0          0   \n",
       "1                       6.0             0               1          0   \n",
       "2                       0.0             1               1          0   \n",
       "3                       9.0             0               1          0   \n",
       "4                       0.0             1               1          0   \n",
       "\n",
       "   Class_Eco Plus  \n",
       "0               1  \n",
       "1               0  \n",
       "2               0  \n",
       "3               0  \n",
       "4               0  \n",
       "\n",
       "[5 rows x 27 columns]"
      ]
     },
     "execution_count": 107,
     "metadata": {},
     "output_type": "execute_result"
    }
   ],
   "source": [
    "le = preprocessing.LabelEncoder()\n",
    "df2[\"Gender\"] = le.fit_transform(df2[\"Gender\"])\n",
    "df2[\"Customer Type\"] = le.fit_transform(df2[\"Customer Type\"])\n",
    "df2[\"Type of Travel\"] = le.fit_transform(df2[\"Type of Travel\"])\n",
    "df2[\"satisfaction\"] = le.fit_transform(df2[\"satisfaction\"])\n",
    "df2 = pd.get_dummies(df2, columns= ['Class'])\n",
    "df2.head()"
   ]
  },
  {
   "cell_type": "code",
   "execution_count": 108,
   "id": "b050c106",
   "metadata": {},
   "outputs": [
    {
     "data": {
      "image/png": "[encoded data removed]",
      "text/plain": [
       "<Figure size 576x576 with 2 Axes>"
      ]
     },
     "metadata": {
      "needs_background": "light"
     },
     "output_type": "display_data"
    }
   ],
   "source": [
    "features, labels = features_labels(df2, label_column=\"satisfaction\")\n",
    "test_labels, pred_labels = train_test_model(randomForestClassifier, stratified_kfolds, features, labels)\n",
    "\n",
    "calculate_confusion_matrix(test_labels, pred_labels, labels=df2[\"satisfaction\"].unique())"
   ]
  },
  {
   "cell_type": "code",
   "execution_count": 109,
   "id": "2ff9a567",
   "metadata": {},
   "outputs": [],
   "source": [
    "stratified_kfolds = StratifiedKFold(n_splits=10, random_state=42, shuffle=True)\n",
    "    \n",
    "unseen_fold_train_indices = np.empty([0], dtype=int)\n",
    "unseen_fold_test_indices = np.empty([0], dtype=int)\n",
    "train_fold_indices = np.empty([0], dtype=int)\n",
    "test_fold_indices = np.empty([0], dtype=int)\n",
    "    \n",
    "kFold = 0\n",
    "for train_index, test_index in stratified_kfolds.split(features, labels):\n",
    "    if kFold == 0:\n",
    "        unseen_fold_train_indices = np.append(unseen_fold_train_indices, train_index)\n",
    "        unseen_fold_test_indices = np.append(unseen_fold_test_indices, test_index)\n",
    "    else:\n",
    "        train_fold_indices = np.append(train_fold_indices, train_index)\n",
    "        test_fold_indices = np.append(test_fold_indices, test_index)\n",
    "        \n",
    "    kFold += 1\n",
    "#print(train_fold_indices)"
   ]
  },
  {
   "cell_type": "code",
   "execution_count": 110,
   "id": "863fa1ed",
   "metadata": {},
   "outputs": [],
   "source": [
    "train_features = features.iloc[train_fold_indices]\n",
    "train_labels = labels.iloc[train_fold_indices]\n",
    "\n",
    "unseen_fold_features = features.iloc[unseen_fold_train_indices]\n",
    "unseen_fold_labels = labels.iloc[unseen_fold_train_indices]"
   ]
  },
  {
   "cell_type": "code",
   "execution_count": null,
   "id": "6fd725d8",
   "metadata": {},
   "outputs": [],
   "source": [
    "elbowMethodResult(train_features)\n",
    "avgSilhouteMethodResult(train_features)"
   ]
  },
  {
   "cell_type": "code",
   "execution_count": null,
   "id": "fd4adfb1",
   "metadata": {},
   "outputs": [],
   "source": [
    "kmean_classifier = KMeans(n_clusters=3)\n",
    "cluster_labels = kmean_classifier.fit(train_features)"
   ]
  },
  {
   "cell_type": "code",
   "execution_count": null,
   "id": "ec2311af",
   "metadata": {},
   "outputs": [],
   "source": [
    "cluster_details = ClusterInformation(kmean_classifier, train_features, train_labels, distance_threshold=0.43)\n",
    "cluster_details"
   ]
  },
  {
   "cell_type": "code",
   "execution_count": null,
   "id": "309a8cfc",
   "metadata": {},
   "outputs": [],
   "source": [
    "predictions = UnseenFoldPrediction(kmean_classifier, unseen_fold_features, 0.43)\n",
    "predictions = CleanPredictions(predictions)\n",
    "calculate_confusion_matrix(unseen_fold_labels, predictions, labels=df2[\"satisfaction\"].unique())"
   ]
  },
  {
   "cell_type": "markdown",
   "id": "3782c7c3",
   "metadata": {},
   "source": [
    "### Low Imbalance (65%)"
   ]
  },
  {
   "cell_type": "code",
   "execution_count": null,
   "id": "4528a2c6",
   "metadata": {},
   "outputs": [],
   "source": [
    "output = df2.index[df2[\"satisfaction\"] == \"satisfied\"]"
   ]
  },
  {
   "cell_type": "code",
   "execution_count": null,
   "id": "e23cf225",
   "metadata": {},
   "outputs": [],
   "source": [
    "LID2 = df2.drop(output[:int(len(output) * .299)])\n",
    "LID2"
   ]
  },
  {
   "cell_type": "code",
   "execution_count": null,
   "id": "6e0c594f",
   "metadata": {},
   "outputs": [],
   "source": [
    "class_balance(LID2, \"satisfaction\")"
   ]
  },
  {
   "cell_type": "code",
   "execution_count": null,
   "id": "49452805",
   "metadata": {},
   "outputs": [],
   "source": [
    "features, labels = features_labels(LID2, label_column=\"satisfaction\")\n",
    "test_labels, pred_labels = train_test_model(randomForestClassifier, stratified_kfolds, features, labels)\n",
    "\n",
    "calculate_confusion_matrix(test_labels, pred_labels, labels=LID2[\"satisfaction\"].unique())"
   ]
  },
  {
   "cell_type": "code",
   "execution_count": null,
   "id": "50f9ac51",
   "metadata": {},
   "outputs": [],
   "source": [
    "stratified_kfolds = StratifiedKFold(n_splits=10, random_state=42, shuffle=True)\n",
    "    \n",
    "unseen_fold_train_indices = np.empty([0], dtype=int)\n",
    "unseen_fold_test_indices = np.empty([0], dtype=int)\n",
    "train_fold_indices = np.empty([0], dtype=int)\n",
    "test_fold_indices = np.empty([0], dtype=int)\n",
    "    \n",
    "kFold = 0\n",
    "for train_index, test_index in stratified_kfolds.split(features, labels):\n",
    "    if kFold == 0:\n",
    "        unseen_fold_train_indices = np.append(unseen_fold_train_indices, train_index)\n",
    "        unseen_fold_test_indices = np.append(unseen_fold_test_indices, test_index)\n",
    "    else:\n",
    "        train_fold_indices = np.append(train_fold_indices, train_index)\n",
    "        test_fold_indices = np.append(test_fold_indices, test_index)\n",
    "        \n",
    "    kFold += 1\n",
    "#print(train_fold_indices)"
   ]
  },
  {
   "cell_type": "code",
   "execution_count": null,
   "id": "6198d29c",
   "metadata": {},
   "outputs": [],
   "source": [
    "train_features = features.iloc[train_fold_indices]\n",
    "train_labels = labels.iloc[train_fold_indices]\n",
    "\n",
    "unseen_fold_features = features.iloc[unseen_fold_train_indices]\n",
    "unseen_fold_labels = labels.iloc[unseen_fold_train_indices]"
   ]
  },
  {
   "cell_type": "code",
   "execution_count": null,
   "id": "c6a14c09",
   "metadata": {},
   "outputs": [],
   "source": [
    "elbowMethodResult(train_features)\n",
    "avgSilhouteMethodResult(train_features)"
   ]
  },
  {
   "cell_type": "code",
   "execution_count": null,
   "id": "d89b3f30",
   "metadata": {},
   "outputs": [],
   "source": [
    "kmean_classifier = KMeans(n_clusters=3)\n",
    "cluster_labels = kmean_classifier.fit(train_features)"
   ]
  },
  {
   "cell_type": "code",
   "execution_count": null,
   "id": "7ea01f59",
   "metadata": {},
   "outputs": [],
   "source": [
    "cluster_details = ClusterInformation(kmean_classifier, train_features, train_labels, distance_threshold=0.43)\n",
    "cluster_details"
   ]
  },
  {
   "cell_type": "code",
   "execution_count": null,
   "id": "fed782f8",
   "metadata": {},
   "outputs": [],
   "source": [
    "predictions = UnseenFoldPrediction(kmean_classifier, unseen_fold_features, 0.43)\n",
    "predictions = CleanPredictions(predictions)\n",
    "calculate_confusion_matrix(unseen_fold_labels, predictions, labels=LID2[\"satisfaction\"].unique())"
   ]
  },
  {
   "cell_type": "markdown",
   "id": "93f7ca10",
   "metadata": {},
   "source": [
    "### Medium Imbalance (75%)"
   ]
  },
  {
   "cell_type": "code",
   "execution_count": null,
   "id": "f2b041fb",
   "metadata": {},
   "outputs": [],
   "source": [
    "MID2 = df2.drop(output[:int(len(output) * .565)])\n",
    "MID2"
   ]
  },
  {
   "cell_type": "code",
   "execution_count": null,
   "id": "8f42d97b",
   "metadata": {},
   "outputs": [],
   "source": [
    "class_balance(MID2, \"satisfaction\")"
   ]
  },
  {
   "cell_type": "code",
   "execution_count": null,
   "id": "7b8e4b60",
   "metadata": {},
   "outputs": [],
   "source": [
    "features, labels = features_labels(MID2, label_column=\"satisfaction\")\n",
    "test_labels, pred_labels = train_test_model(randomForestClassifier, stratified_kfolds, features, labels)\n",
    "\n",
    "calculate_confusion_matrix(test_labels, pred_labels, labels=MID2[\"satisfaction\"].unique())"
   ]
  },
  {
   "cell_type": "code",
   "execution_count": null,
   "id": "36fefa1e",
   "metadata": {},
   "outputs": [],
   "source": [
    "stratified_kfolds = StratifiedKFold(n_splits=10, random_state=42, shuffle=True)\n",
    "    \n",
    "unseen_fold_train_indices = np.empty([0], dtype=int)\n",
    "unseen_fold_test_indices = np.empty([0], dtype=int)\n",
    "train_fold_indices = np.empty([0], dtype=int)\n",
    "test_fold_indices = np.empty([0], dtype=int)\n",
    "    \n",
    "kFold = 0\n",
    "for train_index, test_index in stratified_kfolds.split(features, labels):\n",
    "    if kFold == 0:\n",
    "        unseen_fold_train_indices = np.append(unseen_fold_train_indices, train_index)\n",
    "        unseen_fold_test_indices = np.append(unseen_fold_test_indices, test_index)\n",
    "    else:\n",
    "        train_fold_indices = np.append(train_fold_indices, train_index)\n",
    "        test_fold_indices = np.append(test_fold_indices, test_index)\n",
    "        \n",
    "    kFold += 1\n",
    "#print(train_fold_indices)"
   ]
  },
  {
   "cell_type": "code",
   "execution_count": null,
   "id": "fc74b424",
   "metadata": {},
   "outputs": [],
   "source": [
    "train_features = features.iloc[train_fold_indices]\n",
    "train_labels = labels.iloc[train_fold_indices]\n",
    "\n",
    "unseen_fold_features = features.iloc[unseen_fold_train_indices]\n",
    "unseen_fold_labels = labels.iloc[unseen_fold_train_indices]"
   ]
  },
  {
   "cell_type": "code",
   "execution_count": null,
   "id": "2eaa15a7",
   "metadata": {},
   "outputs": [],
   "source": [
    "elbowMethodResult(train_features)\n",
    "avgSilhouteMethodResult(train_features)"
   ]
  },
  {
   "cell_type": "code",
   "execution_count": null,
   "id": "533879c5",
   "metadata": {},
   "outputs": [],
   "source": [
    "kmean_classifier = KMeans(n_clusters=3)\n",
    "cluster_labels = kmean_classifier.fit(train_features)"
   ]
  },
  {
   "cell_type": "code",
   "execution_count": null,
   "id": "c9516931",
   "metadata": {},
   "outputs": [],
   "source": [
    "cluster_details = ClusterInformation(kmean_classifier, train_features, train_labels, distance_threshold=0.43)\n",
    "cluster_details"
   ]
  },
  {
   "cell_type": "code",
   "execution_count": null,
   "id": "919b5b9d",
   "metadata": {},
   "outputs": [],
   "source": [
    "predictions = UnseenFoldPrediction(kmean_classifier, unseen_fold_features, 0.43)\n",
    "predictions = CleanPredictions(predictions)\n",
    "compute_confusion_matrix(unseen_fold_labels, predictions, labels=MID2[\"satisfaction\"].unique())"
   ]
  },
  {
   "cell_type": "markdown",
   "id": "d272a1b4",
   "metadata": {},
   "source": [
    "### High imbalance (90%)"
   ]
  },
  {
   "cell_type": "code",
   "execution_count": null,
   "id": "2e5551aa",
   "metadata": {},
   "outputs": [],
   "source": [
    "HID2 = df2.drop(output[:int(len(output) * 0.856)])\n",
    "HID2"
   ]
  },
  {
   "cell_type": "code",
   "execution_count": null,
   "id": "d9799b55",
   "metadata": {},
   "outputs": [],
   "source": [
    "class_balance(HID2, \"satisfaction\")"
   ]
  },
  {
   "cell_type": "code",
   "execution_count": null,
   "id": "f491927d",
   "metadata": {},
   "outputs": [],
   "source": [
    "features, labels = features_labels(HID2, label_column=\"satisfaction\")\n",
    "test_labels, pred_labels = train_test_model(randomForestClassifier, stratified_kfolds, features, labels)\n",
    "\n",
    "calculate_confusion_matrix(test_labels, pred_labels, labels=HID2[\"satisfaction\"].unique())"
   ]
  },
  {
   "cell_type": "code",
   "execution_count": null,
   "id": "a05a0777",
   "metadata": {},
   "outputs": [],
   "source": [
    "stratified_kfolds = StratifiedKFold(n_splits=10, random_state=42, shuffle=True)\n",
    "    \n",
    "unseen_fold_train_indices = np.empty([0], dtype=int)\n",
    "unseen_fold_test_indices = np.empty([0], dtype=int)\n",
    "train_fold_indices = np.empty([0], dtype=int)\n",
    "test_fold_indices = np.empty([0], dtype=int)\n",
    "    \n",
    "kFold = 0\n",
    "for train_index, test_index in stratified_kfolds.split(features, labels):\n",
    "    if kFold == 0:\n",
    "        unseen_fold_train_indices = np.append(unseen_fold_train_indices, train_index)\n",
    "        unseen_fold_test_indices = np.append(unseen_fold_test_indices, test_index)\n",
    "    else:\n",
    "        train_fold_indices = np.append(train_fold_indices, train_index)\n",
    "        test_fold_indices = np.append(test_fold_indices, test_index)\n",
    "        \n",
    "    kFold += 1\n",
    "#print(train_fold_indices)"
   ]
  },
  {
   "cell_type": "code",
   "execution_count": null,
   "id": "fdf001e0",
   "metadata": {},
   "outputs": [],
   "source": [
    "train_features = features.iloc[train_fold_indices]\n",
    "train_labels = labels.iloc[train_fold_indices]\n",
    "\n",
    "unseen_fold_features = features.iloc[unseen_fold_train_indices]\n",
    "unseen_fold_labels = labels.iloc[unseen_fold_train_indices]"
   ]
  },
  {
   "cell_type": "code",
   "execution_count": null,
   "id": "6fdd0b36",
   "metadata": {},
   "outputs": [],
   "source": [
    "elbowMethodResult(train_features)\n",
    "avgSilhouteMethodResult(train_features)"
   ]
  },
  {
   "cell_type": "code",
   "execution_count": null,
   "id": "b3348755",
   "metadata": {},
   "outputs": [],
   "source": [
    "kmean_classifier = KMeans(n_clusters=3)\n",
    "cluster_labels = kmean_classifier.fit(train_features)"
   ]
  },
  {
   "cell_type": "code",
   "execution_count": null,
   "id": "531afa79",
   "metadata": {},
   "outputs": [],
   "source": [
    "cluster_details = ClusterInformation(kmean_classifier, train_features, train_labels, distance_threshold=0.43)\n",
    "cluster_details"
   ]
  },
  {
   "cell_type": "code",
   "execution_count": null,
   "id": "c9ddab58",
   "metadata": {},
   "outputs": [],
   "source": [
    "predictions = UnseenFoldPrediction(kmean_classifier, unseen_fold_features, 0.43)\n",
    "predictions = CleanPredictions(predictions)\n",
    "calculate_confusion_matrix(unseen_fold_labels, predictions, labels=HID2[\"satisfaction\"].unique())"
   ]
  },
  {
   "cell_type": "markdown",
   "id": "34bd52b1",
   "metadata": {},
   "source": [
    "## Raisin Dataset"
   ]
  },
  {
   "cell_type": "code",
   "execution_count": 48,
   "id": "83b89f05",
   "metadata": {},
   "outputs": [
    {
     "name": "stdout",
     "output_type": "stream",
     "text": [
      "(900, 8)\n"
     ]
    },
    {
     "data": {
      "text/html": [
       "<div>\n",
       "<style scoped>\n",
       "    .dataframe tbody tr th:only-of-type {\n",
       "        vertical-align: middle;\n",
       "    }\n",
       "\n",
       "    .dataframe tbody tr th {\n",
       "        vertical-align: top;\n",
       "    }\n",
       "\n",
       "    .dataframe thead th {\n",
       "        text-align: right;\n",
       "    }\n",
       "</style>\n",
       "<table border=\"1\" class=\"dataframe\">\n",
       "  <thead>\n",
       "    <tr style=\"text-align: right;\">\n",
       "      <th></th>\n",
       "      <th>Area</th>\n",
       "      <th>MajorAxisLength</th>\n",
       "      <th>MinorAxisLength</th>\n",
       "      <th>Eccentricity</th>\n",
       "      <th>ConvexArea</th>\n",
       "      <th>Extent</th>\n",
       "      <th>Perimeter</th>\n",
       "      <th>Class</th>\n",
       "    </tr>\n",
       "  </thead>\n",
       "  <tbody>\n",
       "    <tr>\n",
       "      <th>0</th>\n",
       "      <td>87524</td>\n",
       "      <td>442.246011</td>\n",
       "      <td>253.291155</td>\n",
       "      <td>0.819738</td>\n",
       "      <td>90546</td>\n",
       "      <td>0.758651</td>\n",
       "      <td>1184.040</td>\n",
       "      <td>Kecimen</td>\n",
       "    </tr>\n",
       "    <tr>\n",
       "      <th>1</th>\n",
       "      <td>75166</td>\n",
       "      <td>406.690687</td>\n",
       "      <td>243.032436</td>\n",
       "      <td>0.801805</td>\n",
       "      <td>78789</td>\n",
       "      <td>0.684130</td>\n",
       "      <td>1121.786</td>\n",
       "      <td>Kecimen</td>\n",
       "    </tr>\n",
       "    <tr>\n",
       "      <th>2</th>\n",
       "      <td>90856</td>\n",
       "      <td>442.267048</td>\n",
       "      <td>266.328318</td>\n",
       "      <td>0.798354</td>\n",
       "      <td>93717</td>\n",
       "      <td>0.637613</td>\n",
       "      <td>1208.575</td>\n",
       "      <td>Kecimen</td>\n",
       "    </tr>\n",
       "    <tr>\n",
       "      <th>3</th>\n",
       "      <td>45928</td>\n",
       "      <td>286.540559</td>\n",
       "      <td>208.760042</td>\n",
       "      <td>0.684989</td>\n",
       "      <td>47336</td>\n",
       "      <td>0.699599</td>\n",
       "      <td>844.162</td>\n",
       "      <td>Kecimen</td>\n",
       "    </tr>\n",
       "    <tr>\n",
       "      <th>4</th>\n",
       "      <td>79408</td>\n",
       "      <td>352.190770</td>\n",
       "      <td>290.827533</td>\n",
       "      <td>0.564011</td>\n",
       "      <td>81463</td>\n",
       "      <td>0.792772</td>\n",
       "      <td>1073.251</td>\n",
       "      <td>Kecimen</td>\n",
       "    </tr>\n",
       "    <tr>\n",
       "      <th>5</th>\n",
       "      <td>49242</td>\n",
       "      <td>318.125407</td>\n",
       "      <td>200.122120</td>\n",
       "      <td>0.777351</td>\n",
       "      <td>51368</td>\n",
       "      <td>0.658456</td>\n",
       "      <td>881.836</td>\n",
       "      <td>Kecimen</td>\n",
       "    </tr>\n",
       "    <tr>\n",
       "      <th>6</th>\n",
       "      <td>42492</td>\n",
       "      <td>310.146072</td>\n",
       "      <td>176.131449</td>\n",
       "      <td>0.823099</td>\n",
       "      <td>43904</td>\n",
       "      <td>0.665894</td>\n",
       "      <td>823.796</td>\n",
       "      <td>Kecimen</td>\n",
       "    </tr>\n",
       "    <tr>\n",
       "      <th>7</th>\n",
       "      <td>60952</td>\n",
       "      <td>332.455472</td>\n",
       "      <td>235.429835</td>\n",
       "      <td>0.706058</td>\n",
       "      <td>62329</td>\n",
       "      <td>0.743598</td>\n",
       "      <td>933.366</td>\n",
       "      <td>Kecimen</td>\n",
       "    </tr>\n",
       "    <tr>\n",
       "      <th>8</th>\n",
       "      <td>42256</td>\n",
       "      <td>323.189607</td>\n",
       "      <td>172.575926</td>\n",
       "      <td>0.845499</td>\n",
       "      <td>44743</td>\n",
       "      <td>0.698031</td>\n",
       "      <td>849.728</td>\n",
       "      <td>Kecimen</td>\n",
       "    </tr>\n",
       "    <tr>\n",
       "      <th>9</th>\n",
       "      <td>64380</td>\n",
       "      <td>366.964842</td>\n",
       "      <td>227.771615</td>\n",
       "      <td>0.784056</td>\n",
       "      <td>66125</td>\n",
       "      <td>0.664376</td>\n",
       "      <td>981.544</td>\n",
       "      <td>Kecimen</td>\n",
       "    </tr>\n",
       "  </tbody>\n",
       "</table>\n",
       "</div>"
      ],
      "text/plain": [
       "    Area  MajorAxisLength  MinorAxisLength  Eccentricity  ConvexArea  \\\n",
       "0  87524       442.246011       253.291155      0.819738       90546   \n",
       "1  75166       406.690687       243.032436      0.801805       78789   \n",
       "2  90856       442.267048       266.328318      0.798354       93717   \n",
       "3  45928       286.540559       208.760042      0.684989       47336   \n",
       "4  79408       352.190770       290.827533      0.564011       81463   \n",
       "5  49242       318.125407       200.122120      0.777351       51368   \n",
       "6  42492       310.146072       176.131449      0.823099       43904   \n",
       "7  60952       332.455472       235.429835      0.706058       62329   \n",
       "8  42256       323.189607       172.575926      0.845499       44743   \n",
       "9  64380       366.964842       227.771615      0.784056       66125   \n",
       "\n",
       "     Extent  Perimeter    Class  \n",
       "0  0.758651   1184.040  Kecimen  \n",
       "1  0.684130   1121.786  Kecimen  \n",
       "2  0.637613   1208.575  Kecimen  \n",
       "3  0.699599    844.162  Kecimen  \n",
       "4  0.792772   1073.251  Kecimen  \n",
       "5  0.658456    881.836  Kecimen  \n",
       "6  0.665894    823.796  Kecimen  \n",
       "7  0.743598    933.366  Kecimen  \n",
       "8  0.698031    849.728  Kecimen  \n",
       "9  0.664376    981.544  Kecimen  "
      ]
     },
     "execution_count": 48,
     "metadata": {},
     "output_type": "execute_result"
    }
   ],
   "source": [
    "df3 = pd.read_csv(\"raisin_dataset/raisin_dataset.csv\")\n",
    "print(df3.shape)\n",
    "df3.head(10)"
   ]
  },
  {
   "cell_type": "code",
   "execution_count": 49,
   "id": "cf0bf619",
   "metadata": {},
   "outputs": [
    {
     "data": {
      "text/plain": [
       "Area                 int64\n",
       "MajorAxisLength    float64\n",
       "MinorAxisLength    float64\n",
       "Eccentricity       float64\n",
       "ConvexArea           int64\n",
       "Extent             float64\n",
       "Perimeter          float64\n",
       "Class               object\n",
       "dtype: object"
      ]
     },
     "execution_count": 49,
     "metadata": {},
     "output_type": "execute_result"
    }
   ],
   "source": [
    "df3.dtypes"
   ]
  },
  {
   "cell_type": "code",
   "execution_count": 50,
   "id": "bc61e760",
   "metadata": {},
   "outputs": [
    {
     "data": {
      "text/plain": [
       "Area               0\n",
       "MajorAxisLength    0\n",
       "MinorAxisLength    0\n",
       "Eccentricity       0\n",
       "ConvexArea         0\n",
       "Extent             0\n",
       "Perimeter          0\n",
       "Class              0\n",
       "dtype: int64"
      ]
     },
     "execution_count": 50,
     "metadata": {},
     "output_type": "execute_result"
    }
   ],
   "source": [
    "df3.isnull().sum()"
   ]
  },
  {
   "cell_type": "code",
   "execution_count": 51,
   "id": "d1727b96",
   "metadata": {},
   "outputs": [
    {
     "data": {
      "text/plain": [
       "0"
      ]
     },
     "execution_count": 51,
     "metadata": {},
     "output_type": "execute_result"
    }
   ],
   "source": [
    "df3.duplicated().sum()"
   ]
  },
  {
   "cell_type": "code",
   "execution_count": 52,
   "id": "f0baa3d7",
   "metadata": {},
   "outputs": [
    {
     "name": "stdout",
     "output_type": "stream",
     "text": [
      "Kecimen : 50.0 %\n",
      "Besni : 50.0 %\n"
     ]
    },
    {
     "data": {
      "text/plain": [
       "50.0"
      ]
     },
     "execution_count": 52,
     "metadata": {},
     "output_type": "execute_result"
    },
    {
     "data": {
      "image/png": "[encoded data removed]",
      "text/plain": [
       "<Figure size 432x288 with 1 Axes>"
      ]
     },
     "metadata": {
      "needs_background": "light"
     },
     "output_type": "display_data"
    }
   ],
   "source": [
    "class_balance(df3, \"Class\")"
   ]
  },
  {
   "cell_type": "code",
   "execution_count": 53,
   "id": "bc7c38a7",
   "metadata": {},
   "outputs": [
    {
     "data": {
      "image/png": "[encoded data removed]",
      "text/plain": [
       "<Figure size 576x576 with 2 Axes>"
      ]
     },
     "metadata": {
      "needs_background": "light"
     },
     "output_type": "display_data"
    }
   ],
   "source": [
    "features, labels = features_labels(df3, label_column=\"Class\")\n",
    "test_labels, pred_labels = train_test_model(randomForestClassifier, stratified_kfolds, features, labels)\n",
    "\n",
    "calculate_confusion_matrix(test_labels, pred_labels, labels=df3[\"Class\"].unique())"
   ]
  },
  {
   "cell_type": "code",
   "execution_count": 54,
   "id": "32336254",
   "metadata": {},
   "outputs": [],
   "source": [
    "stratified_kfolds = StratifiedKFold(n_splits=10, random_state=42, shuffle=True)\n",
    "    \n",
    "unseen_fold_train_indices = np.empty([0], dtype=int)\n",
    "unseen_fold_test_indices = np.empty([0], dtype=int)\n",
    "train_fold_indices = np.empty([0], dtype=int)\n",
    "test_fold_indices = np.empty([0], dtype=int)\n",
    "    \n",
    "kFold = 0\n",
    "for train_index, test_index in stratified_kfolds.split(features, labels):\n",
    "    if kFold == 0:\n",
    "        unseen_fold_train_indices = np.append(unseen_fold_train_indices, train_index)\n",
    "        unseen_fold_test_indices = np.append(unseen_fold_test_indices, test_index)\n",
    "    else:\n",
    "        train_fold_indices = np.append(train_fold_indices, train_index)\n",
    "        test_fold_indices = np.append(test_fold_indices, test_index)\n",
    "        \n",
    "    kFold += 1\n",
    "#print(train_fold_indices)"
   ]
  },
  {
   "cell_type": "code",
   "execution_count": 55,
   "id": "f39e0671",
   "metadata": {},
   "outputs": [],
   "source": [
    "train_features = features.iloc[train_fold_indices]\n",
    "train_labels = labels.iloc[train_fold_indices]\n",
    "\n",
    "unseen_fold_features = features.iloc[unseen_fold_train_indices]\n",
    "unseen_fold_labels = labels.iloc[unseen_fold_train_indices]"
   ]
  },
  {
   "cell_type": "code",
   "execution_count": 56,
   "id": "4ed9a8d7",
   "metadata": {},
   "outputs": [
    {
     "data": {
      "image/png": "[encoded data removed]",
      "text/plain": [
       "<Figure size 1080x360 with 1 Axes>"
      ]
     },
     "metadata": {
      "needs_background": "light"
     },
     "output_type": "display_data"
    },
    {
     "data": {
      "image/png": "[encoded data removed]",
      "text/plain": [
       "<Figure size 1080x360 with 1 Axes>"
      ]
     },
     "metadata": {
      "needs_background": "light"
     },
     "output_type": "display_data"
    }
   ],
   "source": [
    "elbowMethodResult(train_features)\n",
    "avgSilhouteMethodResult(train_features)"
   ]
  },
  {
   "cell_type": "code",
   "execution_count": 57,
   "id": "15eaa143",
   "metadata": {},
   "outputs": [],
   "source": [
    "kmean_classifier = KMeans(n_clusters=3)\n",
    "cluster_labels = kmean_classifier.fit(train_features)"
   ]
  },
  {
   "cell_type": "code",
   "execution_count": 58,
   "id": "e70c4c19",
   "metadata": {},
   "outputs": [
    {
     "name": "stdout",
     "output_type": "stream",
     "text": [
      "Series([], Name: Class, dtype: object)\n",
      "0\n",
      "Series([], Name: Class, dtype: object)\n",
      "0\n",
      "Series([], Name: Class, dtype: object)\n",
      "0\n"
     ]
    },
    {
     "data": {
      "text/plain": [
       "[{'K': 1,\n",
       "  'centroid': array([5.96047320e+04, 3.47639878e+02, 2.20740478e+02, 7.53235023e-01,\n",
       "         6.18724026e+04, 7.02992199e-01, 9.64272633e+02]),\n",
       "  'total_classes': array([], dtype=object)},\n",
       " {'K': 2,\n",
       "  'centroid': array([9.97563206e+04, 4.74782579e+02, 2.72326562e+02, 8.02807949e-01,\n",
       "         1.03484491e+05, 6.92681729e-01, 1.27334918e+03]),\n",
       "  'total_classes': array([], dtype=object)},\n",
       " {'K': 3,\n",
       "  'centroid': array([1.66443177e+05, 6.40217489e+02, 3.39894481e+02, 8.34182200e-01,\n",
       "         1.73275251e+05, 7.03944547e-01, 1.67066839e+03]),\n",
       "  'total_classes': array([], dtype=object)}]"
      ]
     },
     "execution_count": 58,
     "metadata": {},
     "output_type": "execute_result"
    }
   ],
   "source": [
    "cluster_details = ClusterInformation(kmean_classifier, train_features, train_labels, distance_threshold=0.43)\n",
    "cluster_details"
   ]
  },
  {
   "cell_type": "code",
   "execution_count": 59,
   "id": "1487470b",
   "metadata": {},
   "outputs": [
    {
     "ename": "KeyError",
     "evalue": "'minority_class'",
     "output_type": "error",
     "traceback": [
      "\u001b[1;31m---------------------------------------------------------------------------\u001b[0m",
      "\u001b[1;31mIndexError\u001b[0m                                Traceback (most recent call last)",
      "\u001b[1;32m<ipython-input-2-a29636a241c0>\u001b[0m in \u001b[0;36mgetUnseenFoldPrediction\u001b[1;34m(kMeansClf, unseen_fold_features, distance_threshold)\u001b[0m\n\u001b[0;32m    145\u001b[0m         \u001b[1;32mtry\u001b[0m\u001b[1;33m:\u001b[0m\u001b[1;33m\u001b[0m\u001b[1;33m\u001b[0m\u001b[0m\n\u001b[1;32m--> 146\u001b[1;33m             \u001b[0mchoosen_cluster\u001b[0m \u001b[1;33m=\u001b[0m \u001b[0msorted\u001b[0m\u001b[1;33m(\u001b[0m\u001b[0mclose_clusters\u001b[0m\u001b[1;33m.\u001b[0m\u001b[0mitems\u001b[0m\u001b[1;33m(\u001b[0m\u001b[1;33m)\u001b[0m\u001b[1;33m,\u001b[0m \u001b[0mkey\u001b[0m\u001b[1;33m=\u001b[0m\u001b[1;32mlambda\u001b[0m \u001b[0mx\u001b[0m\u001b[1;33m:\u001b[0m\u001b[0mx\u001b[0m\u001b[1;33m[\u001b[0m\u001b[1;36m1\u001b[0m\u001b[1;33m]\u001b[0m\u001b[1;33m)\u001b[0m\u001b[1;33m[\u001b[0m\u001b[1;36m0\u001b[0m\u001b[1;33m]\u001b[0m\u001b[1;33m\u001b[0m\u001b[1;33m\u001b[0m\u001b[0m\n\u001b[0m\u001b[0;32m    147\u001b[0m             \u001b[1;32mif\u001b[0m \u001b[0mlen\u001b[0m\u001b[1;33m(\u001b[0m\u001b[0mcluster_details\u001b[0m\u001b[1;33m[\u001b[0m\u001b[0mchoosen_cluster\u001b[0m\u001b[1;33m[\u001b[0m\u001b[1;36m0\u001b[0m\u001b[1;33m]\u001b[0m\u001b[1;33m]\u001b[0m\u001b[1;33m[\u001b[0m\u001b[1;34m\"total_classes\"\u001b[0m\u001b[1;33m]\u001b[0m\u001b[1;33m)\u001b[0m \u001b[1;33m>\u001b[0m \u001b[1;36m1\u001b[0m\u001b[1;33m:\u001b[0m\u001b[1;33m\u001b[0m\u001b[1;33m\u001b[0m\u001b[0m\n",
      "\u001b[1;31mIndexError\u001b[0m: list index out of range",
      "\nDuring handling of the above exception, another exception occurred:\n",
      "\u001b[1;31mKeyError\u001b[0m                                  Traceback (most recent call last)",
      "\u001b[1;32m<ipython-input-59-0574ecfedc2f>\u001b[0m in \u001b[0;36m<module>\u001b[1;34m\u001b[0m\n\u001b[1;32m----> 1\u001b[1;33m \u001b[0mpredictions\u001b[0m \u001b[1;33m=\u001b[0m \u001b[0mgetUnseenFoldPrediction\u001b[0m\u001b[1;33m(\u001b[0m\u001b[0mkmean_classifier\u001b[0m\u001b[1;33m,\u001b[0m \u001b[0munseen_fold_features\u001b[0m\u001b[1;33m,\u001b[0m \u001b[1;36m0.43\u001b[0m\u001b[1;33m)\u001b[0m\u001b[1;33m\u001b[0m\u001b[1;33m\u001b[0m\u001b[0m\n\u001b[0m\u001b[0;32m      2\u001b[0m \u001b[0mpredictions\u001b[0m \u001b[1;33m=\u001b[0m \u001b[0mgetCleanPredictions\u001b[0m\u001b[1;33m(\u001b[0m\u001b[0mpredictions\u001b[0m\u001b[1;33m)\u001b[0m\u001b[1;33m\u001b[0m\u001b[1;33m\u001b[0m\u001b[0m\n\u001b[0;32m      3\u001b[0m \u001b[0mcompute_confusion_matrix\u001b[0m\u001b[1;33m(\u001b[0m\u001b[0munseen_fold_labels\u001b[0m\u001b[1;33m,\u001b[0m \u001b[0mpredictions\u001b[0m\u001b[1;33m,\u001b[0m \u001b[0mlabels\u001b[0m\u001b[1;33m=\u001b[0m\u001b[0mdf3\u001b[0m\u001b[1;33m[\u001b[0m\u001b[1;34m\"Class\"\u001b[0m\u001b[1;33m]\u001b[0m\u001b[1;33m.\u001b[0m\u001b[0munique\u001b[0m\u001b[1;33m(\u001b[0m\u001b[1;33m)\u001b[0m\u001b[1;33m)\u001b[0m\u001b[1;33m\u001b[0m\u001b[1;33m\u001b[0m\u001b[0m\n",
      "\u001b[1;32m<ipython-input-2-a29636a241c0>\u001b[0m in \u001b[0;36mgetUnseenFoldPrediction\u001b[1;34m(kMeansClf, unseen_fold_features, distance_threshold)\u001b[0m\n\u001b[0;32m    150\u001b[0m                 \u001b[0mpredicted_labels\u001b[0m\u001b[1;33m.\u001b[0m\u001b[0mappend\u001b[0m\u001b[1;33m(\u001b[0m\u001b[0mcluster_details\u001b[0m\u001b[1;33m[\u001b[0m\u001b[0mchoosen_cluster\u001b[0m\u001b[1;33m[\u001b[0m\u001b[1;36m0\u001b[0m\u001b[1;33m]\u001b[0m\u001b[1;33m]\u001b[0m\u001b[1;33m[\u001b[0m\u001b[1;34m\"minority_class\"\u001b[0m\u001b[1;33m]\u001b[0m\u001b[1;33m)\u001b[0m\u001b[1;33m\u001b[0m\u001b[1;33m\u001b[0m\u001b[0m\n\u001b[0;32m    151\u001b[0m         \u001b[1;32mexcept\u001b[0m \u001b[0mException\u001b[0m\u001b[1;33m:\u001b[0m\u001b[1;33m\u001b[0m\u001b[1;33m\u001b[0m\u001b[0m\n\u001b[1;32m--> 152\u001b[1;33m             \u001b[0mpredicted_labels\u001b[0m\u001b[1;33m.\u001b[0m\u001b[0mappend\u001b[0m\u001b[1;33m(\u001b[0m\u001b[0mcluster_details\u001b[0m\u001b[1;33m[\u001b[0m\u001b[1;36m0\u001b[0m\u001b[1;33m]\u001b[0m\u001b[1;33m[\u001b[0m\u001b[1;34m\"minority_class\"\u001b[0m\u001b[1;33m]\u001b[0m\u001b[1;33m)\u001b[0m\u001b[1;33m\u001b[0m\u001b[1;33m\u001b[0m\u001b[0m\n\u001b[0m\u001b[0;32m    153\u001b[0m \u001b[1;33m\u001b[0m\u001b[0m\n\u001b[0;32m    154\u001b[0m     \u001b[1;32mreturn\u001b[0m \u001b[0mpredicted_labels\u001b[0m\u001b[1;33m\u001b[0m\u001b[1;33m\u001b[0m\u001b[0m\n",
      "\u001b[1;31mKeyError\u001b[0m: 'minority_class'"
     ]
    }
   ],
   "source": [
    "predictions = UnseenFoldPrediction(kmean_classifier, unseen_fold_features, 0.43)\n",
    "predictions = getCleanPredictions(predictions)\n",
    "calculate_confusion_matrix(unseen_fold_labels, predictions, labels=df3[\"Class\"].unique())"
   ]
  },
  {
   "cell_type": "markdown",
   "id": "f4fac4f9",
   "metadata": {},
   "source": [
    "###  Low imbalance (65%)"
   ]
  },
  {
   "cell_type": "code",
   "execution_count": 60,
   "id": "15bd02cb",
   "metadata": {},
   "outputs": [],
   "source": [
    "output = df3.index[df3[\"Class\"] == \"Kecimen\"]"
   ]
  },
  {
   "cell_type": "code",
   "execution_count": 61,
   "id": "81c13c22",
   "metadata": {},
   "outputs": [
    {
     "data": {
      "text/html": [
       "<div>\n",
       "<style scoped>\n",
       "    .dataframe tbody tr th:only-of-type {\n",
       "        vertical-align: middle;\n",
       "    }\n",
       "\n",
       "    .dataframe tbody tr th {\n",
       "        vertical-align: top;\n",
       "    }\n",
       "\n",
       "    .dataframe thead th {\n",
       "        text-align: right;\n",
       "    }\n",
       "</style>\n",
       "<table border=\"1\" class=\"dataframe\">\n",
       "  <thead>\n",
       "    <tr style=\"text-align: right;\">\n",
       "      <th></th>\n",
       "      <th>Area</th>\n",
       "      <th>MajorAxisLength</th>\n",
       "      <th>MinorAxisLength</th>\n",
       "      <th>Eccentricity</th>\n",
       "      <th>ConvexArea</th>\n",
       "      <th>Extent</th>\n",
       "      <th>Perimeter</th>\n",
       "      <th>Class</th>\n",
       "    </tr>\n",
       "  </thead>\n",
       "  <tbody>\n",
       "    <tr>\n",
       "      <th>208</th>\n",
       "      <td>39547</td>\n",
       "      <td>259.422625</td>\n",
       "      <td>198.465531</td>\n",
       "      <td>0.643997</td>\n",
       "      <td>40765</td>\n",
       "      <td>0.733384</td>\n",
       "      <td>763.979</td>\n",
       "      <td>Kecimen</td>\n",
       "    </tr>\n",
       "    <tr>\n",
       "      <th>209</th>\n",
       "      <td>49998</td>\n",
       "      <td>301.780707</td>\n",
       "      <td>212.326943</td>\n",
       "      <td>0.710616</td>\n",
       "      <td>50857</td>\n",
       "      <td>0.779295</td>\n",
       "      <td>834.328</td>\n",
       "      <td>Kecimen</td>\n",
       "    </tr>\n",
       "    <tr>\n",
       "      <th>210</th>\n",
       "      <td>49063</td>\n",
       "      <td>294.748287</td>\n",
       "      <td>217.913109</td>\n",
       "      <td>0.673355</td>\n",
       "      <td>50732</td>\n",
       "      <td>0.658811</td>\n",
       "      <td>869.795</td>\n",
       "      <td>Kecimen</td>\n",
       "    </tr>\n",
       "    <tr>\n",
       "      <th>211</th>\n",
       "      <td>46961</td>\n",
       "      <td>343.788528</td>\n",
       "      <td>177.136795</td>\n",
       "      <td>0.857040</td>\n",
       "      <td>48476</td>\n",
       "      <td>0.614633</td>\n",
       "      <td>891.528</td>\n",
       "      <td>Kecimen</td>\n",
       "    </tr>\n",
       "    <tr>\n",
       "      <th>212</th>\n",
       "      <td>57271</td>\n",
       "      <td>372.699124</td>\n",
       "      <td>196.976135</td>\n",
       "      <td>0.848926</td>\n",
       "      <td>58786</td>\n",
       "      <td>0.769151</td>\n",
       "      <td>949.936</td>\n",
       "      <td>Kecimen</td>\n",
       "    </tr>\n",
       "    <tr>\n",
       "      <th>...</th>\n",
       "      <td>...</td>\n",
       "      <td>...</td>\n",
       "      <td>...</td>\n",
       "      <td>...</td>\n",
       "      <td>...</td>\n",
       "      <td>...</td>\n",
       "      <td>...</td>\n",
       "      <td>...</td>\n",
       "    </tr>\n",
       "    <tr>\n",
       "      <th>895</th>\n",
       "      <td>83248</td>\n",
       "      <td>430.077308</td>\n",
       "      <td>247.838695</td>\n",
       "      <td>0.817263</td>\n",
       "      <td>85839</td>\n",
       "      <td>0.668793</td>\n",
       "      <td>1129.072</td>\n",
       "      <td>Besni</td>\n",
       "    </tr>\n",
       "    <tr>\n",
       "      <th>896</th>\n",
       "      <td>87350</td>\n",
       "      <td>440.735698</td>\n",
       "      <td>259.293149</td>\n",
       "      <td>0.808629</td>\n",
       "      <td>90899</td>\n",
       "      <td>0.636476</td>\n",
       "      <td>1214.252</td>\n",
       "      <td>Besni</td>\n",
       "    </tr>\n",
       "    <tr>\n",
       "      <th>897</th>\n",
       "      <td>99657</td>\n",
       "      <td>431.706981</td>\n",
       "      <td>298.837323</td>\n",
       "      <td>0.721684</td>\n",
       "      <td>106264</td>\n",
       "      <td>0.741099</td>\n",
       "      <td>1292.828</td>\n",
       "      <td>Besni</td>\n",
       "    </tr>\n",
       "    <tr>\n",
       "      <th>898</th>\n",
       "      <td>93523</td>\n",
       "      <td>476.344094</td>\n",
       "      <td>254.176054</td>\n",
       "      <td>0.845739</td>\n",
       "      <td>97653</td>\n",
       "      <td>0.658798</td>\n",
       "      <td>1258.548</td>\n",
       "      <td>Besni</td>\n",
       "    </tr>\n",
       "    <tr>\n",
       "      <th>899</th>\n",
       "      <td>85609</td>\n",
       "      <td>512.081774</td>\n",
       "      <td>215.271976</td>\n",
       "      <td>0.907345</td>\n",
       "      <td>89197</td>\n",
       "      <td>0.632020</td>\n",
       "      <td>1272.862</td>\n",
       "      <td>Besni</td>\n",
       "    </tr>\n",
       "  </tbody>\n",
       "</table>\n",
       "<p>692 rows × 8 columns</p>\n",
       "</div>"
      ],
      "text/plain": [
       "      Area  MajorAxisLength  MinorAxisLength  Eccentricity  ConvexArea  \\\n",
       "208  39547       259.422625       198.465531      0.643997       40765   \n",
       "209  49998       301.780707       212.326943      0.710616       50857   \n",
       "210  49063       294.748287       217.913109      0.673355       50732   \n",
       "211  46961       343.788528       177.136795      0.857040       48476   \n",
       "212  57271       372.699124       196.976135      0.848926       58786   \n",
       "..     ...              ...              ...           ...         ...   \n",
       "895  83248       430.077308       247.838695      0.817263       85839   \n",
       "896  87350       440.735698       259.293149      0.808629       90899   \n",
       "897  99657       431.706981       298.837323      0.721684      106264   \n",
       "898  93523       476.344094       254.176054      0.845739       97653   \n",
       "899  85609       512.081774       215.271976      0.907345       89197   \n",
       "\n",
       "       Extent  Perimeter    Class  \n",
       "208  0.733384    763.979  Kecimen  \n",
       "209  0.779295    834.328  Kecimen  \n",
       "210  0.658811    869.795  Kecimen  \n",
       "211  0.614633    891.528  Kecimen  \n",
       "212  0.769151    949.936  Kecimen  \n",
       "..        ...        ...      ...  \n",
       "895  0.668793   1129.072    Besni  \n",
       "896  0.636476   1214.252    Besni  \n",
       "897  0.741099   1292.828    Besni  \n",
       "898  0.658798   1258.548    Besni  \n",
       "899  0.632020   1272.862    Besni  \n",
       "\n",
       "[692 rows x 8 columns]"
      ]
     },
     "execution_count": 61,
     "metadata": {},
     "output_type": "execute_result"
    }
   ],
   "source": [
    "LID3 = df3.drop(output[:int(len(output) * 0.463)])\n",
    "LID3"
   ]
  },
  {
   "cell_type": "code",
   "execution_count": 62,
   "id": "179497cd",
   "metadata": {},
   "outputs": [
    {
     "name": "stdout",
     "output_type": "stream",
     "text": [
      "Kecimen : 34.971098265895954 %\n",
      "Besni : 65.02890173410405 %\n"
     ]
    },
    {
     "data": {
      "text/plain": [
       "65.02890173410405"
      ]
     },
     "execution_count": 62,
     "metadata": {},
     "output_type": "execute_result"
    },
    {
     "data": {
      "image/png": "[encoded data removed]",
      "text/plain": [
       "<Figure size 432x288 with 1 Axes>"
      ]
     },
     "metadata": {
      "needs_background": "light"
     },
     "output_type": "display_data"
    }
   ],
   "source": [
    "class_balance(LID3, \"Class\")"
   ]
  },
  {
   "cell_type": "code",
   "execution_count": 63,
   "id": "4ff1ae5a",
   "metadata": {},
   "outputs": [
    {
     "data": {
      "image/png": "[encoded data removed]",
      "text/plain": [
       "<Figure size 576x576 with 2 Axes>"
      ]
     },
     "metadata": {
      "needs_background": "light"
     },
     "output_type": "display_data"
    }
   ],
   "source": [
    "features, labels = features_labels(LID3, label_column=\"Class\")\n",
    "test_labels, pred_labels = train_test_model(randomForestClassifier, stratified_kfolds, features, labels)\n",
    "\n",
    "calculate_confusion_matrix(test_labels, pred_labels, labels=LID3[\"Class\"].unique())"
   ]
  },
  {
   "cell_type": "code",
   "execution_count": 64,
   "id": "5c509335",
   "metadata": {},
   "outputs": [],
   "source": [
    "stratified_kfolds = StratifiedKFold(n_splits=10, random_state=42, shuffle=True)\n",
    "    \n",
    "unseen_fold_train_indices = np.empty([0], dtype=int)\n",
    "unseen_fold_test_indices = np.empty([0], dtype=int)\n",
    "train_fold_indices = np.empty([0], dtype=int)\n",
    "test_fold_indices = np.empty([0], dtype=int)\n",
    "    \n",
    "kFold = 0\n",
    "for train_index, test_index in stratified_kfolds.split(features, labels):\n",
    "    if kFold == 0:\n",
    "        unseen_fold_train_indices = np.append(unseen_fold_train_indices, train_index)\n",
    "        unseen_fold_test_indices = np.append(unseen_fold_test_indices, test_index)\n",
    "    else:\n",
    "        train_fold_indices = np.append(train_fold_indices, train_index)\n",
    "        test_fold_indices = np.append(test_fold_indices, test_index)\n",
    "        \n",
    "    kFold += 1\n",
    "#print(train_fold_indices)"
   ]
  },
  {
   "cell_type": "code",
   "execution_count": 65,
   "id": "45cc6c40",
   "metadata": {},
   "outputs": [],
   "source": [
    "train_features = features.iloc[train_fold_indices]\n",
    "train_labels = labels.iloc[train_fold_indices]\n",
    "\n",
    "unseen_fold_features = features.iloc[unseen_fold_train_indices]\n",
    "unseen_fold_labels = labels.iloc[unseen_fold_train_indices]"
   ]
  },
  {
   "cell_type": "code",
   "execution_count": 66,
   "id": "5a448c75",
   "metadata": {},
   "outputs": [
    {
     "data": {
      "image/png": "[encoded data removed]",
      "text/plain": [
       "<Figure size 1080x360 with 1 Axes>"
      ]
     },
     "metadata": {
      "needs_background": "light"
     },
     "output_type": "display_data"
    },
    {
     "data": {
      "image/png": "[encoded data removed]",
      "text/plain": [
       "<Figure size 1080x360 with 1 Axes>"
      ]
     },
     "metadata": {
      "needs_background": "light"
     },
     "output_type": "display_data"
    }
   ],
   "source": [
    "elbowMethodResult(train_features)\n",
    "avgSilhouteMethodResult(train_features)"
   ]
  },
  {
   "cell_type": "code",
   "execution_count": 67,
   "id": "68743415",
   "metadata": {},
   "outputs": [],
   "source": [
    "kmean_classifier = KMeans(n_clusters=3)\n",
    "cluster_labels = kmean_classifier.fit(train_features)"
   ]
  },
  {
   "cell_type": "code",
   "execution_count": 68,
   "id": "b430c51b",
   "metadata": {},
   "outputs": [
    {
     "name": "stdout",
     "output_type": "stream",
     "text": [
      "Series([], Name: Class, dtype: object)\n",
      "0\n",
      "Series([], Name: Class, dtype: object)\n",
      "0\n",
      "Series([], Name: Class, dtype: object)\n",
      "0\n"
     ]
    },
    {
     "data": {
      "text/plain": [
       "[{'K': 1,\n",
       "  'centroid': array([1.02426945e+05, 4.85928977e+02, 2.73326664e+02, 8.12697588e-01,\n",
       "         1.06371305e+05, 6.89601853e-01, 1.29581372e+03]),\n",
       "  'total_classes': array([], dtype=object)},\n",
       " {'K': 2,\n",
       "  'centroid': array([1.67851209e+05, 6.41075955e+02, 3.41915064e+02, 8.32436152e-01,\n",
       "         1.74451974e+05, 7.06285030e-01, 1.67330269e+03]),\n",
       "  'total_classes': array([], dtype=object)},\n",
       " {'K': 3,\n",
       "  'centroid': array([6.10707743e+04, 3.56564216e+02, 2.20629837e+02, 7.66506181e-01,\n",
       "         6.35224262e+04, 6.98648166e-01, 9.81112829e+02]),\n",
       "  'total_classes': array([], dtype=object)}]"
      ]
     },
     "execution_count": 68,
     "metadata": {},
     "output_type": "execute_result"
    }
   ],
   "source": [
    "cluster_details = ClusterInformation(kmean_classifier, train_features, train_labels, distance_threshold=0.43)\n",
    "cluster_details"
   ]
  },
  {
   "cell_type": "code",
   "execution_count": 69,
   "id": "0b426fe3",
   "metadata": {},
   "outputs": [
    {
     "ename": "KeyError",
     "evalue": "'minority_class'",
     "output_type": "error",
     "traceback": [
      "\u001b[1;31m---------------------------------------------------------------------------\u001b[0m",
      "\u001b[1;31mIndexError\u001b[0m                                Traceback (most recent call last)",
      "\u001b[1;32m<ipython-input-2-a29636a241c0>\u001b[0m in \u001b[0;36mgetUnseenFoldPrediction\u001b[1;34m(kMeansClf, unseen_fold_features, distance_threshold)\u001b[0m\n\u001b[0;32m    145\u001b[0m         \u001b[1;32mtry\u001b[0m\u001b[1;33m:\u001b[0m\u001b[1;33m\u001b[0m\u001b[1;33m\u001b[0m\u001b[0m\n\u001b[1;32m--> 146\u001b[1;33m             \u001b[0mchoosen_cluster\u001b[0m \u001b[1;33m=\u001b[0m \u001b[0msorted\u001b[0m\u001b[1;33m(\u001b[0m\u001b[0mclose_clusters\u001b[0m\u001b[1;33m.\u001b[0m\u001b[0mitems\u001b[0m\u001b[1;33m(\u001b[0m\u001b[1;33m)\u001b[0m\u001b[1;33m,\u001b[0m \u001b[0mkey\u001b[0m\u001b[1;33m=\u001b[0m\u001b[1;32mlambda\u001b[0m \u001b[0mx\u001b[0m\u001b[1;33m:\u001b[0m\u001b[0mx\u001b[0m\u001b[1;33m[\u001b[0m\u001b[1;36m1\u001b[0m\u001b[1;33m]\u001b[0m\u001b[1;33m)\u001b[0m\u001b[1;33m[\u001b[0m\u001b[1;36m0\u001b[0m\u001b[1;33m]\u001b[0m\u001b[1;33m\u001b[0m\u001b[1;33m\u001b[0m\u001b[0m\n\u001b[0m\u001b[0;32m    147\u001b[0m             \u001b[1;32mif\u001b[0m \u001b[0mlen\u001b[0m\u001b[1;33m(\u001b[0m\u001b[0mcluster_details\u001b[0m\u001b[1;33m[\u001b[0m\u001b[0mchoosen_cluster\u001b[0m\u001b[1;33m[\u001b[0m\u001b[1;36m0\u001b[0m\u001b[1;33m]\u001b[0m\u001b[1;33m]\u001b[0m\u001b[1;33m[\u001b[0m\u001b[1;34m\"total_classes\"\u001b[0m\u001b[1;33m]\u001b[0m\u001b[1;33m)\u001b[0m \u001b[1;33m>\u001b[0m \u001b[1;36m1\u001b[0m\u001b[1;33m:\u001b[0m\u001b[1;33m\u001b[0m\u001b[1;33m\u001b[0m\u001b[0m\n",
      "\u001b[1;31mIndexError\u001b[0m: list index out of range",
      "\nDuring handling of the above exception, another exception occurred:\n",
      "\u001b[1;31mKeyError\u001b[0m                                  Traceback (most recent call last)",
      "\u001b[1;32m<ipython-input-69-68ad5204f454>\u001b[0m in \u001b[0;36m<module>\u001b[1;34m\u001b[0m\n\u001b[1;32m----> 1\u001b[1;33m \u001b[0mpredictions\u001b[0m \u001b[1;33m=\u001b[0m \u001b[0mgetUnseenFoldPrediction\u001b[0m\u001b[1;33m(\u001b[0m\u001b[0mkmean_classifier\u001b[0m\u001b[1;33m,\u001b[0m \u001b[0munseen_fold_features\u001b[0m\u001b[1;33m,\u001b[0m \u001b[1;36m0.43\u001b[0m\u001b[1;33m)\u001b[0m\u001b[1;33m\u001b[0m\u001b[1;33m\u001b[0m\u001b[0m\n\u001b[0m\u001b[0;32m      2\u001b[0m \u001b[0mpredictions\u001b[0m \u001b[1;33m=\u001b[0m \u001b[0mgetCleanPredictions\u001b[0m\u001b[1;33m(\u001b[0m\u001b[0mpredictions\u001b[0m\u001b[1;33m)\u001b[0m\u001b[1;33m\u001b[0m\u001b[1;33m\u001b[0m\u001b[0m\n\u001b[0;32m      3\u001b[0m \u001b[0mcompute_confusion_matrix\u001b[0m\u001b[1;33m(\u001b[0m\u001b[0munseen_fold_labels\u001b[0m\u001b[1;33m,\u001b[0m \u001b[0mpredictions\u001b[0m\u001b[1;33m,\u001b[0m \u001b[0mlabels\u001b[0m\u001b[1;33m=\u001b[0m\u001b[0mLID3\u001b[0m\u001b[1;33m[\u001b[0m\u001b[1;34m\"Class\"\u001b[0m\u001b[1;33m]\u001b[0m\u001b[1;33m.\u001b[0m\u001b[0munique\u001b[0m\u001b[1;33m(\u001b[0m\u001b[1;33m)\u001b[0m\u001b[1;33m)\u001b[0m\u001b[1;33m\u001b[0m\u001b[1;33m\u001b[0m\u001b[0m\n",
      "\u001b[1;32m<ipython-input-2-a29636a241c0>\u001b[0m in \u001b[0;36mgetUnseenFoldPrediction\u001b[1;34m(kMeansClf, unseen_fold_features, distance_threshold)\u001b[0m\n\u001b[0;32m    150\u001b[0m                 \u001b[0mpredicted_labels\u001b[0m\u001b[1;33m.\u001b[0m\u001b[0mappend\u001b[0m\u001b[1;33m(\u001b[0m\u001b[0mcluster_details\u001b[0m\u001b[1;33m[\u001b[0m\u001b[0mchoosen_cluster\u001b[0m\u001b[1;33m[\u001b[0m\u001b[1;36m0\u001b[0m\u001b[1;33m]\u001b[0m\u001b[1;33m]\u001b[0m\u001b[1;33m[\u001b[0m\u001b[1;34m\"minority_class\"\u001b[0m\u001b[1;33m]\u001b[0m\u001b[1;33m)\u001b[0m\u001b[1;33m\u001b[0m\u001b[1;33m\u001b[0m\u001b[0m\n\u001b[0;32m    151\u001b[0m         \u001b[1;32mexcept\u001b[0m \u001b[0mException\u001b[0m\u001b[1;33m:\u001b[0m\u001b[1;33m\u001b[0m\u001b[1;33m\u001b[0m\u001b[0m\n\u001b[1;32m--> 152\u001b[1;33m             \u001b[0mpredicted_labels\u001b[0m\u001b[1;33m.\u001b[0m\u001b[0mappend\u001b[0m\u001b[1;33m(\u001b[0m\u001b[0mcluster_details\u001b[0m\u001b[1;33m[\u001b[0m\u001b[1;36m0\u001b[0m\u001b[1;33m]\u001b[0m\u001b[1;33m[\u001b[0m\u001b[1;34m\"minority_class\"\u001b[0m\u001b[1;33m]\u001b[0m\u001b[1;33m)\u001b[0m\u001b[1;33m\u001b[0m\u001b[1;33m\u001b[0m\u001b[0m\n\u001b[0m\u001b[0;32m    153\u001b[0m \u001b[1;33m\u001b[0m\u001b[0m\n\u001b[0;32m    154\u001b[0m     \u001b[1;32mreturn\u001b[0m \u001b[0mpredicted_labels\u001b[0m\u001b[1;33m\u001b[0m\u001b[1;33m\u001b[0m\u001b[0m\n",
      "\u001b[1;31mKeyError\u001b[0m: 'minority_class'"
     ]
    }
   ],
   "source": [
    "predictions = UnseenFoldPrediction(kmean_classifier, unseen_fold_features, 0.43)\n",
    "predictions = CleanPredictions(predictions)\n",
    "calculate_confusion_matrix(unseen_fold_labels, predictions, labels=LID3[\"Class\"].unique())"
   ]
  },
  {
   "cell_type": "markdown",
   "id": "279afdf7",
   "metadata": {},
   "source": [
    "### Medium imbalance (75%)"
   ]
  },
  {
   "cell_type": "code",
   "execution_count": 74,
   "id": "7421335f",
   "metadata": {},
   "outputs": [
    {
     "data": {
      "text/html": [
       "<div>\n",
       "<style scoped>\n",
       "    .dataframe tbody tr th:only-of-type {\n",
       "        vertical-align: middle;\n",
       "    }\n",
       "\n",
       "    .dataframe tbody tr th {\n",
       "        vertical-align: top;\n",
       "    }\n",
       "\n",
       "    .dataframe thead th {\n",
       "        text-align: right;\n",
       "    }\n",
       "</style>\n",
       "<table border=\"1\" class=\"dataframe\">\n",
       "  <thead>\n",
       "    <tr style=\"text-align: right;\">\n",
       "      <th></th>\n",
       "      <th>Area</th>\n",
       "      <th>MajorAxisLength</th>\n",
       "      <th>MinorAxisLength</th>\n",
       "      <th>Eccentricity</th>\n",
       "      <th>ConvexArea</th>\n",
       "      <th>Extent</th>\n",
       "      <th>Perimeter</th>\n",
       "      <th>Class</th>\n",
       "    </tr>\n",
       "  </thead>\n",
       "  <tbody>\n",
       "    <tr>\n",
       "      <th>300</th>\n",
       "      <td>87429</td>\n",
       "      <td>408.926028</td>\n",
       "      <td>273.887942</td>\n",
       "      <td>0.742565</td>\n",
       "      <td>89063</td>\n",
       "      <td>0.703575</td>\n",
       "      <td>1120.019</td>\n",
       "      <td>Kecimen</td>\n",
       "    </tr>\n",
       "    <tr>\n",
       "      <th>301</th>\n",
       "      <td>57785</td>\n",
       "      <td>314.430977</td>\n",
       "      <td>236.183035</td>\n",
       "      <td>0.660138</td>\n",
       "      <td>58867</td>\n",
       "      <td>0.732866</td>\n",
       "      <td>903.769</td>\n",
       "      <td>Kecimen</td>\n",
       "    </tr>\n",
       "    <tr>\n",
       "      <th>302</th>\n",
       "      <td>69846</td>\n",
       "      <td>368.450710</td>\n",
       "      <td>243.975162</td>\n",
       "      <td>0.749358</td>\n",
       "      <td>72585</td>\n",
       "      <td>0.676724</td>\n",
       "      <td>1040.716</td>\n",
       "      <td>Kecimen</td>\n",
       "    </tr>\n",
       "    <tr>\n",
       "      <th>303</th>\n",
       "      <td>81456</td>\n",
       "      <td>404.316394</td>\n",
       "      <td>258.892006</td>\n",
       "      <td>0.768108</td>\n",
       "      <td>83499</td>\n",
       "      <td>0.725472</td>\n",
       "      <td>1103.153</td>\n",
       "      <td>Kecimen</td>\n",
       "    </tr>\n",
       "    <tr>\n",
       "      <th>304</th>\n",
       "      <td>61959</td>\n",
       "      <td>339.585018</td>\n",
       "      <td>234.697936</td>\n",
       "      <td>0.722729</td>\n",
       "      <td>64424</td>\n",
       "      <td>0.712041</td>\n",
       "      <td>970.754</td>\n",
       "      <td>Kecimen</td>\n",
       "    </tr>\n",
       "    <tr>\n",
       "      <th>...</th>\n",
       "      <td>...</td>\n",
       "      <td>...</td>\n",
       "      <td>...</td>\n",
       "      <td>...</td>\n",
       "      <td>...</td>\n",
       "      <td>...</td>\n",
       "      <td>...</td>\n",
       "      <td>...</td>\n",
       "    </tr>\n",
       "    <tr>\n",
       "      <th>895</th>\n",
       "      <td>83248</td>\n",
       "      <td>430.077308</td>\n",
       "      <td>247.838695</td>\n",
       "      <td>0.817263</td>\n",
       "      <td>85839</td>\n",
       "      <td>0.668793</td>\n",
       "      <td>1129.072</td>\n",
       "      <td>Besni</td>\n",
       "    </tr>\n",
       "    <tr>\n",
       "      <th>896</th>\n",
       "      <td>87350</td>\n",
       "      <td>440.735698</td>\n",
       "      <td>259.293149</td>\n",
       "      <td>0.808629</td>\n",
       "      <td>90899</td>\n",
       "      <td>0.636476</td>\n",
       "      <td>1214.252</td>\n",
       "      <td>Besni</td>\n",
       "    </tr>\n",
       "    <tr>\n",
       "      <th>897</th>\n",
       "      <td>99657</td>\n",
       "      <td>431.706981</td>\n",
       "      <td>298.837323</td>\n",
       "      <td>0.721684</td>\n",
       "      <td>106264</td>\n",
       "      <td>0.741099</td>\n",
       "      <td>1292.828</td>\n",
       "      <td>Besni</td>\n",
       "    </tr>\n",
       "    <tr>\n",
       "      <th>898</th>\n",
       "      <td>93523</td>\n",
       "      <td>476.344094</td>\n",
       "      <td>254.176054</td>\n",
       "      <td>0.845739</td>\n",
       "      <td>97653</td>\n",
       "      <td>0.658798</td>\n",
       "      <td>1258.548</td>\n",
       "      <td>Besni</td>\n",
       "    </tr>\n",
       "    <tr>\n",
       "      <th>899</th>\n",
       "      <td>85609</td>\n",
       "      <td>512.081774</td>\n",
       "      <td>215.271976</td>\n",
       "      <td>0.907345</td>\n",
       "      <td>89197</td>\n",
       "      <td>0.632020</td>\n",
       "      <td>1272.862</td>\n",
       "      <td>Besni</td>\n",
       "    </tr>\n",
       "  </tbody>\n",
       "</table>\n",
       "<p>600 rows × 8 columns</p>\n",
       "</div>"
      ],
      "text/plain": [
       "      Area  MajorAxisLength  MinorAxisLength  Eccentricity  ConvexArea  \\\n",
       "300  87429       408.926028       273.887942      0.742565       89063   \n",
       "301  57785       314.430977       236.183035      0.660138       58867   \n",
       "302  69846       368.450710       243.975162      0.749358       72585   \n",
       "303  81456       404.316394       258.892006      0.768108       83499   \n",
       "304  61959       339.585018       234.697936      0.722729       64424   \n",
       "..     ...              ...              ...           ...         ...   \n",
       "895  83248       430.077308       247.838695      0.817263       85839   \n",
       "896  87350       440.735698       259.293149      0.808629       90899   \n",
       "897  99657       431.706981       298.837323      0.721684      106264   \n",
       "898  93523       476.344094       254.176054      0.845739       97653   \n",
       "899  85609       512.081774       215.271976      0.907345       89197   \n",
       "\n",
       "       Extent  Perimeter    Class  \n",
       "300  0.703575   1120.019  Kecimen  \n",
       "301  0.732866    903.769  Kecimen  \n",
       "302  0.676724   1040.716  Kecimen  \n",
       "303  0.725472   1103.153  Kecimen  \n",
       "304  0.712041    970.754  Kecimen  \n",
       "..        ...        ...      ...  \n",
       "895  0.668793   1129.072    Besni  \n",
       "896  0.636476   1214.252    Besni  \n",
       "897  0.741099   1292.828    Besni  \n",
       "898  0.658798   1258.548    Besni  \n",
       "899  0.632020   1272.862    Besni  \n",
       "\n",
       "[600 rows x 8 columns]"
      ]
     },
     "execution_count": 74,
     "metadata": {},
     "output_type": "execute_result"
    }
   ],
   "source": [
    "MID3 = df3.drop(output[:int(len(output) * 0.668)])\n",
    "MID3"
   ]
  },
  {
   "cell_type": "code",
   "execution_count": 75,
   "id": "54842af7",
   "metadata": {},
   "outputs": [
    {
     "name": "stdout",
     "output_type": "stream",
     "text": [
      "Kecimen : 25.0 %\n",
      "Besni : 75.0 %\n"
     ]
    },
    {
     "data": {
      "text/plain": [
       "75.0"
      ]
     },
     "execution_count": 75,
     "metadata": {},
     "output_type": "execute_result"
    },
    {
     "data": {
      "image/png": "[encoded data removed]",
      "text/plain": [
       "<Figure size 432x288 with 1 Axes>"
      ]
     },
     "metadata": {
      "needs_background": "light"
     },
     "output_type": "display_data"
    }
   ],
   "source": [
    "class_balance(MID3, \"Class\")"
   ]
  },
  {
   "cell_type": "code",
   "execution_count": 76,
   "id": "16ace247",
   "metadata": {},
   "outputs": [
    {
     "data": {
      "image/png": "[encoded data removed]",
      "text/plain": [
       "<Figure size 576x576 with 2 Axes>"
      ]
     },
     "metadata": {
      "needs_background": "light"
     },
     "output_type": "display_data"
    }
   ],
   "source": [
    "features, labels = features_labels(MID3, label_column=\"Class\")\n",
    "test_labels, pred_labels = train_test_model(randomForestClassifier, stratified_kfolds, features, labels)\n",
    "\n",
    "calculate_confusion_matrix(test_labels, pred_labels, labels=MID3[\"Class\"].unique())"
   ]
  },
  {
   "cell_type": "code",
   "execution_count": 77,
   "id": "b756ef8f",
   "metadata": {},
   "outputs": [],
   "source": [
    "stratified_kfolds = StratifiedKFold(n_splits=10, random_state=42, shuffle=True)\n",
    "    \n",
    "unseen_fold_train_indices = np.empty([0], dtype=int)\n",
    "unseen_fold_test_indices = np.empty([0], dtype=int)\n",
    "train_fold_indices = np.empty([0], dtype=int)\n",
    "test_fold_indices = np.empty([0], dtype=int)\n",
    "    \n",
    "kFold = 0\n",
    "for train_index, test_index in stratified_kfolds.split(features, labels):\n",
    "    if kFold == 0:\n",
    "        unseen_fold_train_indices = np.append(unseen_fold_train_indices, train_index)\n",
    "        unseen_fold_test_indices = np.append(unseen_fold_test_indices, test_index)\n",
    "    else:\n",
    "        train_fold_indices = np.append(train_fold_indices, train_index)\n",
    "        test_fold_indices = np.append(test_fold_indices, test_index)\n",
    "        \n",
    "    kFold += 1\n",
    "#print(train_fold_indices)"
   ]
  },
  {
   "cell_type": "code",
   "execution_count": 78,
   "id": "88b8b22e",
   "metadata": {},
   "outputs": [],
   "source": [
    "train_features = features.iloc[train_fold_indices]\n",
    "train_labels = labels.iloc[train_fold_indices]\n",
    "\n",
    "unseen_fold_features = features.iloc[unseen_fold_train_indices]\n",
    "unseen_fold_labels = labels.iloc[unseen_fold_train_indices]"
   ]
  },
  {
   "cell_type": "code",
   "execution_count": 79,
   "id": "a30d69b6",
   "metadata": {},
   "outputs": [
    {
     "data": {
      "image/png": "[encoded data removed]",
      "text/plain": [
       "<Figure size 1080x360 with 1 Axes>"
      ]
     },
     "metadata": {
      "needs_background": "light"
     },
     "output_type": "display_data"
    },
    {
     "data": {
      "image/png": "[encoded data removed]",
      "text/plain": [
       "<Figure size 1080x360 with 1 Axes>"
      ]
     },
     "metadata": {
      "needs_background": "light"
     },
     "output_type": "display_data"
    }
   ],
   "source": [
    "elbowMethodResult(train_features)\n",
    "avgSilhouteMethodResult(train_features)"
   ]
  },
  {
   "cell_type": "code",
   "execution_count": 80,
   "id": "81a2c367",
   "metadata": {},
   "outputs": [],
   "source": [
    "kmean_classifier = KMeans(n_clusters=3)\n",
    "cluster_labels = kmean_classifier.fit(train_features)"
   ]
  },
  {
   "cell_type": "code",
   "execution_count": 81,
   "id": "dbef983d",
   "metadata": {},
   "outputs": [
    {
     "name": "stdout",
     "output_type": "stream",
     "text": [
      "Series([], Name: Class, dtype: object)\n",
      "0\n",
      "Series([], Name: Class, dtype: object)\n",
      "0\n",
      "Series([], Name: Class, dtype: object)\n",
      "0\n"
     ]
    },
    {
     "data": {
      "text/plain": [
       "[{'K': 1,\n",
       "  'centroid': array([1.09271488e+05, 5.05750838e+02, 2.80224007e+02, 8.18988368e-01,\n",
       "         1.13404794e+05, 6.90600747e-01, 1.34203887e+03]),\n",
       "  'total_classes': array([], dtype=object)},\n",
       " {'K': 2,\n",
       "  'centroid': array([1.70774019e+05, 6.44787719e+02, 3.45514778e+02, 8.30535247e-01,\n",
       "         1.77189659e+05, 7.08949319e-01, 1.68168149e+03]),\n",
       "  'total_classes': array([], dtype=object)},\n",
       " {'K': 3,\n",
       "  'centroid': array([6.69068711e+04, 3.79928454e+02, 2.26845802e+02, 7.85392526e-01,\n",
       "         6.96942006e+04, 6.93276736e-01, 1.03442055e+03]),\n",
       "  'total_classes': array([], dtype=object)}]"
      ]
     },
     "execution_count": 81,
     "metadata": {},
     "output_type": "execute_result"
    }
   ],
   "source": [
    "cluster_details = ClusterInformation(kmean_classifier, train_features, train_labels, distance_threshold=0.43)\n",
    "cluster_details"
   ]
  },
  {
   "cell_type": "code",
   "execution_count": 82,
   "id": "6cb3e392",
   "metadata": {},
   "outputs": [
    {
     "ename": "KeyError",
     "evalue": "'minority_class'",
     "output_type": "error",
     "traceback": [
      "\u001b[1;31m---------------------------------------------------------------------------\u001b[0m",
      "\u001b[1;31mIndexError\u001b[0m                                Traceback (most recent call last)",
      "\u001b[1;32m<ipython-input-2-a29636a241c0>\u001b[0m in \u001b[0;36mgetUnseenFoldPrediction\u001b[1;34m(kMeansClf, unseen_fold_features, distance_threshold)\u001b[0m\n\u001b[0;32m    145\u001b[0m         \u001b[1;32mtry\u001b[0m\u001b[1;33m:\u001b[0m\u001b[1;33m\u001b[0m\u001b[1;33m\u001b[0m\u001b[0m\n\u001b[1;32m--> 146\u001b[1;33m             \u001b[0mchoosen_cluster\u001b[0m \u001b[1;33m=\u001b[0m \u001b[0msorted\u001b[0m\u001b[1;33m(\u001b[0m\u001b[0mclose_clusters\u001b[0m\u001b[1;33m.\u001b[0m\u001b[0mitems\u001b[0m\u001b[1;33m(\u001b[0m\u001b[1;33m)\u001b[0m\u001b[1;33m,\u001b[0m \u001b[0mkey\u001b[0m\u001b[1;33m=\u001b[0m\u001b[1;32mlambda\u001b[0m \u001b[0mx\u001b[0m\u001b[1;33m:\u001b[0m\u001b[0mx\u001b[0m\u001b[1;33m[\u001b[0m\u001b[1;36m1\u001b[0m\u001b[1;33m]\u001b[0m\u001b[1;33m)\u001b[0m\u001b[1;33m[\u001b[0m\u001b[1;36m0\u001b[0m\u001b[1;33m]\u001b[0m\u001b[1;33m\u001b[0m\u001b[1;33m\u001b[0m\u001b[0m\n\u001b[0m\u001b[0;32m    147\u001b[0m             \u001b[1;32mif\u001b[0m \u001b[0mlen\u001b[0m\u001b[1;33m(\u001b[0m\u001b[0mcluster_details\u001b[0m\u001b[1;33m[\u001b[0m\u001b[0mchoosen_cluster\u001b[0m\u001b[1;33m[\u001b[0m\u001b[1;36m0\u001b[0m\u001b[1;33m]\u001b[0m\u001b[1;33m]\u001b[0m\u001b[1;33m[\u001b[0m\u001b[1;34m\"total_classes\"\u001b[0m\u001b[1;33m]\u001b[0m\u001b[1;33m)\u001b[0m \u001b[1;33m>\u001b[0m \u001b[1;36m1\u001b[0m\u001b[1;33m:\u001b[0m\u001b[1;33m\u001b[0m\u001b[1;33m\u001b[0m\u001b[0m\n",
      "\u001b[1;31mIndexError\u001b[0m: list index out of range",
      "\nDuring handling of the above exception, another exception occurred:\n",
      "\u001b[1;31mKeyError\u001b[0m                                  Traceback (most recent call last)",
      "\u001b[1;32m<ipython-input-82-9aeafaf1025f>\u001b[0m in \u001b[0;36m<module>\u001b[1;34m\u001b[0m\n\u001b[1;32m----> 1\u001b[1;33m \u001b[0mpredictions\u001b[0m \u001b[1;33m=\u001b[0m \u001b[0mgetUnseenFoldPrediction\u001b[0m\u001b[1;33m(\u001b[0m\u001b[0mkmean_classifier\u001b[0m\u001b[1;33m,\u001b[0m \u001b[0munseen_fold_features\u001b[0m\u001b[1;33m,\u001b[0m \u001b[1;36m0.43\u001b[0m\u001b[1;33m)\u001b[0m\u001b[1;33m\u001b[0m\u001b[1;33m\u001b[0m\u001b[0m\n\u001b[0m\u001b[0;32m      2\u001b[0m \u001b[0mpredictions\u001b[0m \u001b[1;33m=\u001b[0m \u001b[0mgetCleanPredictions\u001b[0m\u001b[1;33m(\u001b[0m\u001b[0mpredictions\u001b[0m\u001b[1;33m)\u001b[0m\u001b[1;33m\u001b[0m\u001b[1;33m\u001b[0m\u001b[0m\n\u001b[0;32m      3\u001b[0m \u001b[0mcompute_confusion_matrix\u001b[0m\u001b[1;33m(\u001b[0m\u001b[0munseen_fold_labels\u001b[0m\u001b[1;33m,\u001b[0m \u001b[0mpredictions\u001b[0m\u001b[1;33m,\u001b[0m \u001b[0mlabels\u001b[0m\u001b[1;33m=\u001b[0m\u001b[0mMID3\u001b[0m\u001b[1;33m[\u001b[0m\u001b[1;34m\"Class\"\u001b[0m\u001b[1;33m]\u001b[0m\u001b[1;33m.\u001b[0m\u001b[0munique\u001b[0m\u001b[1;33m(\u001b[0m\u001b[1;33m)\u001b[0m\u001b[1;33m)\u001b[0m\u001b[1;33m\u001b[0m\u001b[1;33m\u001b[0m\u001b[0m\n",
      "\u001b[1;32m<ipython-input-2-a29636a241c0>\u001b[0m in \u001b[0;36mgetUnseenFoldPrediction\u001b[1;34m(kMeansClf, unseen_fold_features, distance_threshold)\u001b[0m\n\u001b[0;32m    150\u001b[0m                 \u001b[0mpredicted_labels\u001b[0m\u001b[1;33m.\u001b[0m\u001b[0mappend\u001b[0m\u001b[1;33m(\u001b[0m\u001b[0mcluster_details\u001b[0m\u001b[1;33m[\u001b[0m\u001b[0mchoosen_cluster\u001b[0m\u001b[1;33m[\u001b[0m\u001b[1;36m0\u001b[0m\u001b[1;33m]\u001b[0m\u001b[1;33m]\u001b[0m\u001b[1;33m[\u001b[0m\u001b[1;34m\"minority_class\"\u001b[0m\u001b[1;33m]\u001b[0m\u001b[1;33m)\u001b[0m\u001b[1;33m\u001b[0m\u001b[1;33m\u001b[0m\u001b[0m\n\u001b[0;32m    151\u001b[0m         \u001b[1;32mexcept\u001b[0m \u001b[0mException\u001b[0m\u001b[1;33m:\u001b[0m\u001b[1;33m\u001b[0m\u001b[1;33m\u001b[0m\u001b[0m\n\u001b[1;32m--> 152\u001b[1;33m             \u001b[0mpredicted_labels\u001b[0m\u001b[1;33m.\u001b[0m\u001b[0mappend\u001b[0m\u001b[1;33m(\u001b[0m\u001b[0mcluster_details\u001b[0m\u001b[1;33m[\u001b[0m\u001b[1;36m0\u001b[0m\u001b[1;33m]\u001b[0m\u001b[1;33m[\u001b[0m\u001b[1;34m\"minority_class\"\u001b[0m\u001b[1;33m]\u001b[0m\u001b[1;33m)\u001b[0m\u001b[1;33m\u001b[0m\u001b[1;33m\u001b[0m\u001b[0m\n\u001b[0m\u001b[0;32m    153\u001b[0m \u001b[1;33m\u001b[0m\u001b[0m\n\u001b[0;32m    154\u001b[0m     \u001b[1;32mreturn\u001b[0m \u001b[0mpredicted_labels\u001b[0m\u001b[1;33m\u001b[0m\u001b[1;33m\u001b[0m\u001b[0m\n",
      "\u001b[1;31mKeyError\u001b[0m: 'minority_class'"
     ]
    }
   ],
   "source": [
    "predictions = UnseenFoldPrediction(kmean_classifier, unseen_fold_features, 0.43)\n",
    "predictions = CleanPredictions(predictions)\n",
    "calculate_confusion_matrix(unseen_fold_labels, predictions, labels=MID3[\"Class\"].unique())"
   ]
  },
  {
   "cell_type": "markdown",
   "id": "a15b71a3",
   "metadata": {},
   "source": [
    "### High imbalance (90%)"
   ]
  },
  {
   "cell_type": "code",
   "execution_count": 83,
   "id": "7def43d2",
   "metadata": {},
   "outputs": [
    {
     "data": {
      "text/html": [
       "<div>\n",
       "<style scoped>\n",
       "    .dataframe tbody tr th:only-of-type {\n",
       "        vertical-align: middle;\n",
       "    }\n",
       "\n",
       "    .dataframe tbody tr th {\n",
       "        vertical-align: top;\n",
       "    }\n",
       "\n",
       "    .dataframe thead th {\n",
       "        text-align: right;\n",
       "    }\n",
       "</style>\n",
       "<table border=\"1\" class=\"dataframe\">\n",
       "  <thead>\n",
       "    <tr style=\"text-align: right;\">\n",
       "      <th></th>\n",
       "      <th>Area</th>\n",
       "      <th>MajorAxisLength</th>\n",
       "      <th>MinorAxisLength</th>\n",
       "      <th>Eccentricity</th>\n",
       "      <th>ConvexArea</th>\n",
       "      <th>Extent</th>\n",
       "      <th>Perimeter</th>\n",
       "      <th>Class</th>\n",
       "    </tr>\n",
       "  </thead>\n",
       "  <tbody>\n",
       "    <tr>\n",
       "      <th>400</th>\n",
       "      <td>49336</td>\n",
       "      <td>338.481461</td>\n",
       "      <td>193.005202</td>\n",
       "      <td>0.821500</td>\n",
       "      <td>52619</td>\n",
       "      <td>0.656553</td>\n",
       "      <td>909.681</td>\n",
       "      <td>Kecimen</td>\n",
       "    </tr>\n",
       "    <tr>\n",
       "      <th>401</th>\n",
       "      <td>39368</td>\n",
       "      <td>296.655948</td>\n",
       "      <td>171.208165</td>\n",
       "      <td>0.816654</td>\n",
       "      <td>41361</td>\n",
       "      <td>0.619969</td>\n",
       "      <td>798.546</td>\n",
       "      <td>Kecimen</td>\n",
       "    </tr>\n",
       "    <tr>\n",
       "      <th>402</th>\n",
       "      <td>51304</td>\n",
       "      <td>350.042582</td>\n",
       "      <td>189.765438</td>\n",
       "      <td>0.840300</td>\n",
       "      <td>52949</td>\n",
       "      <td>0.660998</td>\n",
       "      <td>897.111</td>\n",
       "      <td>Kecimen</td>\n",
       "    </tr>\n",
       "    <tr>\n",
       "      <th>403</th>\n",
       "      <td>91764</td>\n",
       "      <td>433.768160</td>\n",
       "      <td>270.286095</td>\n",
       "      <td>0.782133</td>\n",
       "      <td>93480</td>\n",
       "      <td>0.692925</td>\n",
       "      <td>1165.084</td>\n",
       "      <td>Kecimen</td>\n",
       "    </tr>\n",
       "    <tr>\n",
       "      <th>404</th>\n",
       "      <td>79252</td>\n",
       "      <td>398.844564</td>\n",
       "      <td>254.172930</td>\n",
       "      <td>0.770638</td>\n",
       "      <td>80799</td>\n",
       "      <td>0.705007</td>\n",
       "      <td>1074.108</td>\n",
       "      <td>Kecimen</td>\n",
       "    </tr>\n",
       "    <tr>\n",
       "      <th>...</th>\n",
       "      <td>...</td>\n",
       "      <td>...</td>\n",
       "      <td>...</td>\n",
       "      <td>...</td>\n",
       "      <td>...</td>\n",
       "      <td>...</td>\n",
       "      <td>...</td>\n",
       "      <td>...</td>\n",
       "    </tr>\n",
       "    <tr>\n",
       "      <th>895</th>\n",
       "      <td>83248</td>\n",
       "      <td>430.077308</td>\n",
       "      <td>247.838695</td>\n",
       "      <td>0.817263</td>\n",
       "      <td>85839</td>\n",
       "      <td>0.668793</td>\n",
       "      <td>1129.072</td>\n",
       "      <td>Besni</td>\n",
       "    </tr>\n",
       "    <tr>\n",
       "      <th>896</th>\n",
       "      <td>87350</td>\n",
       "      <td>440.735698</td>\n",
       "      <td>259.293149</td>\n",
       "      <td>0.808629</td>\n",
       "      <td>90899</td>\n",
       "      <td>0.636476</td>\n",
       "      <td>1214.252</td>\n",
       "      <td>Besni</td>\n",
       "    </tr>\n",
       "    <tr>\n",
       "      <th>897</th>\n",
       "      <td>99657</td>\n",
       "      <td>431.706981</td>\n",
       "      <td>298.837323</td>\n",
       "      <td>0.721684</td>\n",
       "      <td>106264</td>\n",
       "      <td>0.741099</td>\n",
       "      <td>1292.828</td>\n",
       "      <td>Besni</td>\n",
       "    </tr>\n",
       "    <tr>\n",
       "      <th>898</th>\n",
       "      <td>93523</td>\n",
       "      <td>476.344094</td>\n",
       "      <td>254.176054</td>\n",
       "      <td>0.845739</td>\n",
       "      <td>97653</td>\n",
       "      <td>0.658798</td>\n",
       "      <td>1258.548</td>\n",
       "      <td>Besni</td>\n",
       "    </tr>\n",
       "    <tr>\n",
       "      <th>899</th>\n",
       "      <td>85609</td>\n",
       "      <td>512.081774</td>\n",
       "      <td>215.271976</td>\n",
       "      <td>0.907345</td>\n",
       "      <td>89197</td>\n",
       "      <td>0.632020</td>\n",
       "      <td>1272.862</td>\n",
       "      <td>Besni</td>\n",
       "    </tr>\n",
       "  </tbody>\n",
       "</table>\n",
       "<p>500 rows × 8 columns</p>\n",
       "</div>"
      ],
      "text/plain": [
       "      Area  MajorAxisLength  MinorAxisLength  Eccentricity  ConvexArea  \\\n",
       "400  49336       338.481461       193.005202      0.821500       52619   \n",
       "401  39368       296.655948       171.208165      0.816654       41361   \n",
       "402  51304       350.042582       189.765438      0.840300       52949   \n",
       "403  91764       433.768160       270.286095      0.782133       93480   \n",
       "404  79252       398.844564       254.172930      0.770638       80799   \n",
       "..     ...              ...              ...           ...         ...   \n",
       "895  83248       430.077308       247.838695      0.817263       85839   \n",
       "896  87350       440.735698       259.293149      0.808629       90899   \n",
       "897  99657       431.706981       298.837323      0.721684      106264   \n",
       "898  93523       476.344094       254.176054      0.845739       97653   \n",
       "899  85609       512.081774       215.271976      0.907345       89197   \n",
       "\n",
       "       Extent  Perimeter    Class  \n",
       "400  0.656553    909.681  Kecimen  \n",
       "401  0.619969    798.546  Kecimen  \n",
       "402  0.660998    897.111  Kecimen  \n",
       "403  0.692925   1165.084  Kecimen  \n",
       "404  0.705007   1074.108  Kecimen  \n",
       "..        ...        ...      ...  \n",
       "895  0.668793   1129.072    Besni  \n",
       "896  0.636476   1214.252    Besni  \n",
       "897  0.741099   1292.828    Besni  \n",
       "898  0.658798   1258.548    Besni  \n",
       "899  0.632020   1272.862    Besni  \n",
       "\n",
       "[500 rows x 8 columns]"
      ]
     },
     "execution_count": 83,
     "metadata": {},
     "output_type": "execute_result"
    }
   ],
   "source": [
    "HID3 = df3.drop(output[:int(len(output) * 0.89)])\n",
    "HID3"
   ]
  },
  {
   "cell_type": "code",
   "execution_count": 84,
   "id": "c7718e6b",
   "metadata": {},
   "outputs": [
    {
     "name": "stdout",
     "output_type": "stream",
     "text": [
      "Kecimen : 10.0 %\n",
      "Besni : 90.0 %\n"
     ]
    },
    {
     "data": {
      "text/plain": [
       "90.0"
      ]
     },
     "execution_count": 84,
     "metadata": {},
     "output_type": "execute_result"
    },
    {
     "data": {
      "image/png": "[encoded data removed]",
      "text/plain": [
       "<Figure size 432x288 with 1 Axes>"
      ]
     },
     "metadata": {
      "needs_background": "light"
     },
     "output_type": "display_data"
    }
   ],
   "source": [
    "class_balance(HID3, \"Class\")"
   ]
  },
  {
   "cell_type": "code",
   "execution_count": 85,
   "id": "67eba94a",
   "metadata": {},
   "outputs": [
    {
     "data": {
      "image/png": "[encoded data removed]",
      "text/plain": [
       "<Figure size 576x576 with 2 Axes>"
      ]
     },
     "metadata": {
      "needs_background": "light"
     },
     "output_type": "display_data"
    }
   ],
   "source": [
    "features, labels = features_labels(HID3, label_column=\"Class\")\n",
    "test_labels, pred_labels = train_test_model(randomForestClassifier, stratified_kfolds, features, labels)\n",
    "\n",
    "calculate_confusion_matrix(test_labels, pred_labels, labels=HID3[\"Class\"].unique())"
   ]
  },
  {
   "cell_type": "code",
   "execution_count": 86,
   "id": "d3f04965",
   "metadata": {},
   "outputs": [],
   "source": [
    "stratified_kfolds = StratifiedKFold(n_splits=10, random_state=42, shuffle=True)\n",
    "    \n",
    "unseen_fold_train_indices = np.empty([0], dtype=int)\n",
    "unseen_fold_test_indices = np.empty([0], dtype=int)\n",
    "train_fold_indices = np.empty([0], dtype=int)\n",
    "test_fold_indices = np.empty([0], dtype=int)\n",
    "    \n",
    "kFold = 0\n",
    "for train_index, test_index in stratified_kfolds.split(features, labels):\n",
    "    if kFold == 0:\n",
    "        unseen_fold_train_indices = np.append(unseen_fold_train_indices, train_index)\n",
    "        unseen_fold_test_indices = np.append(unseen_fold_test_indices, test_index)\n",
    "    else:\n",
    "        train_fold_indices = np.append(train_fold_indices, train_index)\n",
    "        test_fold_indices = np.append(test_fold_indices, test_index)\n",
    "        \n",
    "    kFold += 1\n",
    "#print(train_fold_indices)"
   ]
  },
  {
   "cell_type": "code",
   "execution_count": 87,
   "id": "c5e9ba64",
   "metadata": {},
   "outputs": [],
   "source": [
    "train_features = features.iloc[train_fold_indices]\n",
    "train_labels = labels.iloc[train_fold_indices]\n",
    "\n",
    "unseen_fold_features = features.iloc[unseen_fold_train_indices]\n",
    "unseen_fold_labels = labels.iloc[unseen_fold_train_indices]"
   ]
  },
  {
   "cell_type": "code",
   "execution_count": 88,
   "id": "1e9db688",
   "metadata": {},
   "outputs": [
    {
     "data": {
      "image/png": "[encoded data removed]",
      "text/plain": [
       "<Figure size 1080x360 with 1 Axes>"
      ]
     },
     "metadata": {
      "needs_background": "light"
     },
     "output_type": "display_data"
    },
    {
     "data": {
      "image/png": "[encoded data removed]",
      "text/plain": [
       "<Figure size 1080x360 with 1 Axes>"
      ]
     },
     "metadata": {
      "needs_background": "light"
     },
     "output_type": "display_data"
    }
   ],
   "source": [
    "elbowMethodResult(train_features)\n",
    "avgSilhouteMethodResult(train_features)"
   ]
  },
  {
   "cell_type": "code",
   "execution_count": 89,
   "id": "d21958c6",
   "metadata": {},
   "outputs": [],
   "source": [
    "kmean_classifier = KMeans(n_clusters=3)\n",
    "cluster_labels = kmean_classifier.fit(train_features)"
   ]
  },
  {
   "cell_type": "code",
   "execution_count": 90,
   "id": "28c7faf5",
   "metadata": {},
   "outputs": [
    {
     "name": "stdout",
     "output_type": "stream",
     "text": [
      "Series([], Name: Class, dtype: object)\n",
      "0\n",
      "Series([], Name: Class, dtype: object)\n",
      "0\n",
      "Series([], Name: Class, dtype: object)\n",
      "0\n"
     ]
    },
    {
     "data": {
      "text/plain": [
       "[{'K': 1,\n",
       "  'centroid': array([7.29166301e+04, 4.03850464e+02, 2.33159888e+02, 8.01176312e-01,\n",
       "         7.61201841e+04, 6.86718673e-01, 1.09143908e+03]),\n",
       "  'total_classes': array([], dtype=object)},\n",
       " {'K': 2,\n",
       "  'centroid': array([1.77028883e+05, 6.58455405e+02, 3.51875809e+02, 8.30768809e-01,\n",
       "         1.83900981e+05, 7.08856061e-01, 1.71764238e+03]),\n",
       "  'total_classes': array([], dtype=object)},\n",
       " {'K': 3,\n",
       "  'centroid': array([1.15944880e+05, 5.23802765e+02, 2.86886095e+02, 8.24708783e-01,\n",
       "         1.20202020e+05, 6.92619742e-01, 1.38285368e+03]),\n",
       "  'total_classes': array([], dtype=object)}]"
      ]
     },
     "execution_count": 90,
     "metadata": {},
     "output_type": "execute_result"
    }
   ],
   "source": [
    "cluster_details = ClusterInformation(kmean_classifier, train_features, train_labels, distance_threshold=0.43)\n",
    "cluster_details"
   ]
  },
  {
   "cell_type": "code",
   "execution_count": 91,
   "id": "688eb294",
   "metadata": {},
   "outputs": [
    {
     "ename": "KeyError",
     "evalue": "'minority_class'",
     "output_type": "error",
     "traceback": [
      "\u001b[1;31m---------------------------------------------------------------------------\u001b[0m",
      "\u001b[1;31mIndexError\u001b[0m                                Traceback (most recent call last)",
      "\u001b[1;32m<ipython-input-2-a29636a241c0>\u001b[0m in \u001b[0;36mgetUnseenFoldPrediction\u001b[1;34m(kMeansClf, unseen_fold_features, distance_threshold)\u001b[0m\n\u001b[0;32m    145\u001b[0m         \u001b[1;32mtry\u001b[0m\u001b[1;33m:\u001b[0m\u001b[1;33m\u001b[0m\u001b[1;33m\u001b[0m\u001b[0m\n\u001b[1;32m--> 146\u001b[1;33m             \u001b[0mchoosen_cluster\u001b[0m \u001b[1;33m=\u001b[0m \u001b[0msorted\u001b[0m\u001b[1;33m(\u001b[0m\u001b[0mclose_clusters\u001b[0m\u001b[1;33m.\u001b[0m\u001b[0mitems\u001b[0m\u001b[1;33m(\u001b[0m\u001b[1;33m)\u001b[0m\u001b[1;33m,\u001b[0m \u001b[0mkey\u001b[0m\u001b[1;33m=\u001b[0m\u001b[1;32mlambda\u001b[0m \u001b[0mx\u001b[0m\u001b[1;33m:\u001b[0m\u001b[0mx\u001b[0m\u001b[1;33m[\u001b[0m\u001b[1;36m1\u001b[0m\u001b[1;33m]\u001b[0m\u001b[1;33m)\u001b[0m\u001b[1;33m[\u001b[0m\u001b[1;36m0\u001b[0m\u001b[1;33m]\u001b[0m\u001b[1;33m\u001b[0m\u001b[1;33m\u001b[0m\u001b[0m\n\u001b[0m\u001b[0;32m    147\u001b[0m             \u001b[1;32mif\u001b[0m \u001b[0mlen\u001b[0m\u001b[1;33m(\u001b[0m\u001b[0mcluster_details\u001b[0m\u001b[1;33m[\u001b[0m\u001b[0mchoosen_cluster\u001b[0m\u001b[1;33m[\u001b[0m\u001b[1;36m0\u001b[0m\u001b[1;33m]\u001b[0m\u001b[1;33m]\u001b[0m\u001b[1;33m[\u001b[0m\u001b[1;34m\"total_classes\"\u001b[0m\u001b[1;33m]\u001b[0m\u001b[1;33m)\u001b[0m \u001b[1;33m>\u001b[0m \u001b[1;36m1\u001b[0m\u001b[1;33m:\u001b[0m\u001b[1;33m\u001b[0m\u001b[1;33m\u001b[0m\u001b[0m\n",
      "\u001b[1;31mIndexError\u001b[0m: list index out of range",
      "\nDuring handling of the above exception, another exception occurred:\n",
      "\u001b[1;31mKeyError\u001b[0m                                  Traceback (most recent call last)",
      "\u001b[1;32m<ipython-input-91-8e18b2cb1b98>\u001b[0m in \u001b[0;36m<module>\u001b[1;34m\u001b[0m\n\u001b[1;32m----> 1\u001b[1;33m \u001b[0mpredictions\u001b[0m \u001b[1;33m=\u001b[0m \u001b[0mgetUnseenFoldPrediction\u001b[0m\u001b[1;33m(\u001b[0m\u001b[0mkmean_classifier\u001b[0m\u001b[1;33m,\u001b[0m \u001b[0munseen_fold_features\u001b[0m\u001b[1;33m,\u001b[0m \u001b[1;36m0.43\u001b[0m\u001b[1;33m)\u001b[0m\u001b[1;33m\u001b[0m\u001b[1;33m\u001b[0m\u001b[0m\n\u001b[0m\u001b[0;32m      2\u001b[0m \u001b[0mpredictions\u001b[0m \u001b[1;33m=\u001b[0m \u001b[0mgetCleanPredictions\u001b[0m\u001b[1;33m(\u001b[0m\u001b[0mpredictions\u001b[0m\u001b[1;33m)\u001b[0m\u001b[1;33m\u001b[0m\u001b[1;33m\u001b[0m\u001b[0m\n\u001b[0;32m      3\u001b[0m \u001b[0mcompute_confusion_matrix\u001b[0m\u001b[1;33m(\u001b[0m\u001b[0munseen_fold_labels\u001b[0m\u001b[1;33m,\u001b[0m \u001b[0mpredictions\u001b[0m\u001b[1;33m,\u001b[0m \u001b[0mlabels\u001b[0m\u001b[1;33m=\u001b[0m\u001b[0mHID3\u001b[0m\u001b[1;33m[\u001b[0m\u001b[1;34m\"Class\"\u001b[0m\u001b[1;33m]\u001b[0m\u001b[1;33m.\u001b[0m\u001b[0munique\u001b[0m\u001b[1;33m(\u001b[0m\u001b[1;33m)\u001b[0m\u001b[1;33m)\u001b[0m\u001b[1;33m\u001b[0m\u001b[1;33m\u001b[0m\u001b[0m\n",
      "\u001b[1;32m<ipython-input-2-a29636a241c0>\u001b[0m in \u001b[0;36mgetUnseenFoldPrediction\u001b[1;34m(kMeansClf, unseen_fold_features, distance_threshold)\u001b[0m\n\u001b[0;32m    150\u001b[0m                 \u001b[0mpredicted_labels\u001b[0m\u001b[1;33m.\u001b[0m\u001b[0mappend\u001b[0m\u001b[1;33m(\u001b[0m\u001b[0mcluster_details\u001b[0m\u001b[1;33m[\u001b[0m\u001b[0mchoosen_cluster\u001b[0m\u001b[1;33m[\u001b[0m\u001b[1;36m0\u001b[0m\u001b[1;33m]\u001b[0m\u001b[1;33m]\u001b[0m\u001b[1;33m[\u001b[0m\u001b[1;34m\"minority_class\"\u001b[0m\u001b[1;33m]\u001b[0m\u001b[1;33m)\u001b[0m\u001b[1;33m\u001b[0m\u001b[1;33m\u001b[0m\u001b[0m\n\u001b[0;32m    151\u001b[0m         \u001b[1;32mexcept\u001b[0m \u001b[0mException\u001b[0m\u001b[1;33m:\u001b[0m\u001b[1;33m\u001b[0m\u001b[1;33m\u001b[0m\u001b[0m\n\u001b[1;32m--> 152\u001b[1;33m             \u001b[0mpredicted_labels\u001b[0m\u001b[1;33m.\u001b[0m\u001b[0mappend\u001b[0m\u001b[1;33m(\u001b[0m\u001b[0mcluster_details\u001b[0m\u001b[1;33m[\u001b[0m\u001b[1;36m0\u001b[0m\u001b[1;33m]\u001b[0m\u001b[1;33m[\u001b[0m\u001b[1;34m\"minority_class\"\u001b[0m\u001b[1;33m]\u001b[0m\u001b[1;33m)\u001b[0m\u001b[1;33m\u001b[0m\u001b[1;33m\u001b[0m\u001b[0m\n\u001b[0m\u001b[0;32m    153\u001b[0m \u001b[1;33m\u001b[0m\u001b[0m\n\u001b[0;32m    154\u001b[0m     \u001b[1;32mreturn\u001b[0m \u001b[0mpredicted_labels\u001b[0m\u001b[1;33m\u001b[0m\u001b[1;33m\u001b[0m\u001b[0m\n",
      "\u001b[1;31mKeyError\u001b[0m: 'minority_class'"
     ]
    }
   ],
   "source": [
    "predictions = UnseenFoldPrediction(kmean_classifier, unseen_fold_features, 0.43)\n",
    "predictions = CleanPredictions(predictions)\n",
    "calculate_confusion_matrix(unseen_fold_labels, predictions, labels=HID3[\"Class\"].unique())"
   ]
  },
  {
   "cell_type": "code",
   "execution_count": null,
   "id": "13b17031",
   "metadata": {},
   "outputs": [],
   "source": []
  }
 ],
 "metadata": {
  "kernelspec": {
   "display_name": "Python 3",
   "language": "python",
   "name": "python3"
  },
  "language_info": {
   "codemirror_mode": {
    "name": "ipython",
    "version": 3
   },
   "file_extension": ".py",
   "mimetype": "text/x-python",
   "name": "python",
   "nbconvert_exporter": "python",
   "pygments_lexer": "ipython3",
   "version": "3.8.8"
  }
 },
 "nbformat": 4,
 "nbformat_minor": 5
}
